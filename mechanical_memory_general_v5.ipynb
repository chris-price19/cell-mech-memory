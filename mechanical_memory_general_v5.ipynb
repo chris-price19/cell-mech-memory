{
 "cells": [
  {
   "cell_type": "code",
   "execution_count": 2,
   "metadata": {
    "scrolled": false
   },
   "outputs": [
    {
     "name": "stdout",
     "output_type": "stream",
     "text": [
      "The autoreload extension is already loaded. To reload it, use:\n",
      "  %reload_ext autoreload\n"
     ]
    }
   ],
   "source": [
    "%load_ext autoreload\n",
    "%autoreload 2\n",
    "import numpy as np\n",
    "import scipy\n",
    "\n",
    "import matplotlib.pyplot as plt\n",
    "import matplotlib.ticker as ticker\n",
    "import pandas as pd\n",
    "import seaborn as sns\n",
    "from pylab import cm\n",
    "import json\n",
    "\n",
    "import os\n",
    "import sys\n",
    "import re\n",
    "import sympy\n",
    "from datetime import datetime\n",
    "\n",
    "import cmath\n",
    "import matplotlib.patches as patches\n",
    "from matplotlib import colors as m2colors\n",
    "\n",
    "import plotly\n",
    "import plotly.graph_objects as go\n",
    "\n",
    "from MMfxns import *\n",
    "from MMdyn import *\n",
    "from MMplotting import *\n",
    "from pyDOE2 import lhs\n",
    "\n",
    "cwd = os.getcwd()\n",
    "sns.set(style=\"ticks\", font_scale=1.5)\n",
    "\n",
    "mcolors = dict(m2colors.BASE_COLORS, **m2colors.CSS4_COLORS)\n",
    "\n",
    "saveall = False\n",
    "import warnings\n",
    "warnings.filterwarnings(\"ignore\", category=np.VisibleDeprecationWarning) \n"
   ]
  },
  {
   "cell_type": "markdown",
   "metadata": {},
   "source": [
    "# Figure 1 Stiffness Dependence of Rates"
   ]
  },
  {
   "cell_type": "code",
   "execution_count": 3,
   "metadata": {
    "scrolled": false
   },
   "outputs": [
    {
     "data": {
      "image/png": "[encoded data removed]",
      "text/plain": [
       "<Figure size 360x252 with 1 Axes>"
      ]
     },
     "metadata": {},
     "output_type": "display_data"
    }
   ],
   "source": [
    "## figure 1\n",
    "def plot_rates(params, ax=None):\n",
    "    Nt = 500; \n",
    "    m = np.linspace(0.01,3,Nt); \n",
    "    \n",
    "    if ax is None:\n",
    "        fig, ax = plt.subplots(1,1, figsize=(5,3.5))\n",
    "    \n",
    "    params['type'] = params['kc']\n",
    "    kcplot = f_m(m, params)\n",
    "    ax.plot(m/params['m0'], kcplot, color = 'red', linewidth=3.5, label='kc')\n",
    "\n",
    "    params['type'] = params['km']\n",
    "    kmplot = f_m(m, params)\n",
    "    ax.plot(m/params['m0'], kmplot, color = 'blue', linewidth=3.5, label='km')\n",
    "\n",
    "#     ax.plot(m/params['m0'], kcplot + kmplot, color = 'green', linewidth=3.5, label='')\n",
    "\n",
    "#     ax.plot([1., 1.], ax.get_ylim(), color = 'k', linestyle = '-.', linewidth=0.)\n",
    "    ax.set_xlabel('m/m$_{0}$'); ax.set_ylabel('k')\n",
    "    ax.set_ylim([0, ax.get_ylim()[1]])\n",
    "    \n",
    "    return fig, ax\n",
    "\n",
    "params = {}\n",
    "params['kc'] = 1. #'-stiff'\n",
    "params['km'] = 'stiff'\n",
    "params['m0'] = 1.\n",
    "\n",
    "fig, ax = plot_rates(params)\n",
    "\n",
    "saveall = False\n",
    "if saveall:\n",
    "    direc = os.getcwd() + '/figures/figure1/'\n",
    "#     direc = os.getcwd() + '/powerpoints/ppt_figs/'\n",
    "    fname1 = direc + \"stiff_only_activations_rect_v2.png\"\n",
    "    print(fname1)\n",
    "    fig.savefig(fname1, format='png', dpi=600)\n"
   ]
  },
  {
   "cell_type": "markdown",
   "metadata": {},
   "source": [
    "# Figure 2 Generate Data"
   ]
  },
  {
   "cell_type": "code",
   "execution_count": 68,
   "metadata": {},
   "outputs": [],
   "source": [
    "## figure 2 data cell\n",
    "params = {}\n",
    "params['kc'] = 1.3 # 0.5 #'soft' 1.\n",
    "params['km'] = 'stiff'\n",
    "params['n'] = 5\n",
    "params['m0'] = 3.\n",
    "params['x0'] = 2.; \n",
    "params['a0'] = 1.; params['xtt'] = 0.\n",
    "params['x_c'] = x_crit(params['n'])\n",
    "res = 150\n",
    "\n",
    "m_space = np.linspace(0.05, 12., res)\n",
    "x_space = np.linspace(0, 8., res)\n",
    "a_space = np.linspace(0.01, 4., res)\n",
    "# ac_ind = np.where(np.abs(a_space - a_c) == np.amin(np.abs(a_space-a_c)))[0]\n",
    "\n",
    "a_c = alpha_crit(m_space, params)\n",
    "m_c = scipy.optimize.fsolve(m_crit_general, 1.5, args=(params), xtol=1e-10)[0] / params['m0']\n",
    "params['a_c'] = a_c.tolist(); params['m_c'] = m_c\n",
    "\n",
    "mc_ind = np.where(np.abs(m_space/ params['m0'] - m_c) == np.amin(np.abs(m_space/ params['m0']-m_c)))[0][0]\n",
    "\n",
    "# U_data, gmin_overm, b1_overm, b2_overm, inf_overm, capture2minima, capture_mvals, capmax = collect_minima(m_space, x_space, a_space, params)\n",
    "U_data, gmin_overm, b1_overm, b2_overm, inf_overm, capture2minima, capture_mvals, capmax = collect_minima(m_space, x_space, a_space, params)\n"
   ]
  },
  {
   "cell_type": "markdown",
   "metadata": {},
   "source": [
    "# Figure 2 Plot Phase Diagram"
   ]
  },
  {
   "cell_type": "code",
   "execution_count": 69,
   "metadata": {
    "scrolled": false
   },
   "outputs": [
    {
     "name": "stdout",
     "output_type": "stream",
     "text": [
      "0.8601516567511339\n"
     ]
    },
    {
     "data": {
      "application/vnd.plotly.v1+json": {
       "config": {
        "plotlyServerURL": "https://plot.ly"
       },
       "data": [
        {
         "fill": "tozerox",
         "fillcolor": "rgba(148, 0,211, 0.3)",
         "mode": "none",
         "type": "scatter",
         "x": [
          2.125503355704698,
          2.098724832214765,
          2.071946308724832,
          2.045167785234899,
          2.045167785234899,
          2.0183892617449666,
          1.9916107382550337,
          1.9648322147651007,
          1.938053691275168,
          1.911275167785235,
          1.911275167785235,
          1.8844966442953022,
          1.8577181208053692,
          1.8309395973154363,
          1.8041610738255034,
          1.8041610738255034,
          1.7773825503355707,
          1.7506040268456378,
          1.7238255033557048,
          1.7238255033557048,
          1.697046979865772,
          1.670268456375839,
          1.6434899328859063,
          1.6167114093959734,
          1.6167114093959734,
          1.5899328859060404,
          1.5631543624161075,
          1.5363758389261746,
          1.5095973154362416,
          1.482818791946309,
          1.4461320378542895
         ],
         "y": [
          0.043400447427293064,
          0.07013422818791946,
          0.09686800894854586,
          0.12360178970917225,
          0.15033557046979865,
          0.17706935123042508,
          0.20380313199105146,
          0.23053691275167787,
          0.2572706935123043,
          0.2840044742729307,
          0.31073825503355706,
          0.33747203579418344,
          0.3642058165548099,
          0.3909395973154362,
          0.41767337807606264,
          0.4444071588366891,
          0.47114093959731546,
          0.4978747203579419,
          0.5246085011185683,
          0.5513422818791947,
          0.578076062639821,
          0.6048098434004474,
          0.6315436241610738,
          0.6582774049217003,
          0.6850111856823266,
          0.711744966442953,
          0.7384787472035793,
          0.7652125279642057,
          0.7919463087248322,
          0.8186800894854586,
          0.8601516567511339
         ]
        },
        {
         "fill": "tonextx",
         "fillcolor": "rgba(3, 255,127, 0.3)",
         "mode": "none",
         "type": "scatter",
         "x": [
          4,
          4,
          4,
          4,
          4,
          4,
          4,
          4,
          4,
          4,
          4,
          4,
          4,
          4,
          4,
          4,
          3.544765100671141,
          3.1430872483221477,
          2.875302013422819,
          2.60751677852349,
          2.3932885906040267,
          2.2326174496644295,
          2.071946308724832,
          1.938053691275168,
          1.8309395973154363,
          1.7506040268456378,
          1.670268456375839,
          1.5899328859060404,
          1.5363758389261746,
          1.482818791946309
         ],
         "y": [
          0.043400447427293064,
          0.07013422818791946,
          0.09686800894854586,
          0.12360178970917225,
          0.15033557046979865,
          0.17706935123042508,
          0.20380313199105146,
          0.23053691275167787,
          0.2572706935123043,
          0.2840044742729307,
          0.31073825503355706,
          0.33747203579418344,
          0.3642058165548099,
          0.3909395973154362,
          0.41767337807606264,
          0.4444071588366891,
          0.47114093959731546,
          0.4978747203579419,
          0.5246085011185683,
          0.5513422818791947,
          0.578076062639821,
          0.6048098434004474,
          0.6315436241610738,
          0.6582774049217003,
          0.6850111856823266,
          0.711744966442953,
          0.7384787472035793,
          0.7652125279642057,
          0.7919463087248322,
          0.8186800894854586
         ]
        },
        {
         "fill": "tozerox",
         "fillcolor": "rgba(255, 140, 34, 0.3)",
         "mode": "none",
         "type": "scatter",
         "x": [
          1.4461320378542895,
          1.454606257922872,
          1.4628569314854705,
          1.4708899556087098,
          1.478711071796976,
          1.4863258700960877,
          1.4937397930887093,
          1.5009581397843712,
          1.50798606940687,
          1.514828605081761,
          1.5214906374265742,
          1.5279769280463216,
          1.5342921129367975,
          1.5404407057980973,
          1.5464271012607294,
          1.5522555780266225,
          1.5579303019272746,
          1.56345532890123,
          1.5688346078930118,
          1.574071983675578,
          1.5791711995983293,
          1.5841359002626185,
          1.588969634126686,
          1.5936758560418745,
          1.598257929721944,
          1.6027191301472419,
          1.607062645905455,
          1.6112915814706152,
          1.61540895942198,
          1.6194177226043878,
          1.623320736231616,
          1.6271207899342592,
          1.630820599753583,
          1.6344228100827807,
          1.6379299955570181,
          1.6413446628936268,
          1.644669252683745,
          1.6479061411367022,
          1.6510576417783844,
          1.6541260071047983,
          1.6571134301920147,
          1.660022046263643,
          1.6628539342169544,
          1.66561111810875,
          1.6682955686020293,
          1.6709092043744962,
          1.673453893489911,
          1.6759314547332662,
          1.6783436589107408,
          1.6806922301153595,
          1.6829788469592704,
          1.68520514377351,
          1.6873727117761208,
          1.6894831002094557,
          1.6915378174474807,
          1.6935383320738637,
          1.6954860739316284,
          1.6973824351451168,
          1.699228771114993,
          1.7010264014869967,
          1.702776611095147,
          1.70448065088006,
          1.7061397387830433,
          1.7077550606166023,
          1.709327770911989,
          1.7108589937443868,
          1.7123498235363281,
          1.713801325839921,
          1.7152145380984396,
          1.7165904703878232,
          1.7179301061386134,
          1.7192344028388535,
          1.7205042927184364,
          1.7217406834154083,
          1.722944458624689,
          1.724116478729683,
          1.7252575814172284,
          1.7263685822763215,
          1.7274502753810503,
          1.72850343385815,
          1.7295288104395825,
          1.7305271380005456,
          1.731499130083285,
          1.7324454814070889,
          1.7333668683648324,
          1.734263949506419,
          1.7351373660094707,
          1.7359877421376038,
          1.7368156856866106,
          1.737621788418878,
          1.7384066264863376,
          1.739170760842267,
          1.7399147376422224,
          1.7406390886343963,
          1.7413443315396788,
          1.7420309704216919,
          1.742699496047062,
          1.7433503862361919,
          1.7439841062047723,
          1.7446011088962936,
          1.7452018353057783,
          1.7457867147949795,
          1.74635616539926,
          1.7469105941263778,
          1.7474503972473914,
          1.7479759605798886,
          1.7484876597637433,
          1.748985860529604,
          1.749470918960289,
          1.7499431817452988,
          1.750402986428602,
          1.750850661649895,
          1.7512865273794915,
          1.7517108951470168,
          1.7521240682640713,
          1.7525263420410166,
          1.7529180039980479,
          1.7532993340706913,
          0.01
         ],
         "y": [
          0.8721476510067113,
          0.8988814317673377,
          0.9256152125279642,
          0.9523489932885906,
          0.9790827740492171,
          1.0058165548098434,
          1.0325503355704697,
          1.0592841163310962,
          1.0860178970917225,
          1.112751677852349,
          1.1394854586129755,
          1.1662192393736017,
          1.192953020134228,
          1.2196868008948545,
          1.246420581655481,
          1.2731543624161075,
          1.2998881431767337,
          1.32662192393736,
          1.3533557046979865,
          1.380089485458613,
          1.4068232662192395,
          1.4335570469798657,
          1.460290827740492,
          1.4870246085011185,
          1.5137583892617448,
          1.5404921700223715,
          1.5672259507829978,
          1.593959731543624,
          1.6206935123042505,
          1.6474272930648768,
          1.6741610738255035,
          1.7008948545861298,
          1.727628635346756,
          1.7543624161073825,
          1.7810961968680088,
          1.8078299776286355,
          1.8345637583892618,
          1.861297539149888,
          1.8880313199105145,
          1.9147651006711408,
          1.9414988814317675,
          1.9682326621923938,
          1.99496644295302,
          2.0217002237136463,
          2.048434004474273,
          2.0751677852348993,
          2.101901565995526,
          2.1286353467561523,
          2.1553691275167783,
          2.182102908277405,
          2.2088366890380313,
          2.235570469798658,
          2.2623042505592843,
          2.2890380313199103,
          2.315771812080537,
          2.3425055928411633,
          2.3692393736017894,
          2.3959731543624163,
          2.4227069351230424,
          2.449440715883669,
          2.4761744966442953,
          2.5029082774049214,
          2.5296420581655483,
          2.5563758389261744,
          2.583109619686801,
          2.6098434004474274,
          2.6365771812080534,
          2.6633109619686803,
          2.6900447427293064,
          2.7167785234899333,
          2.74351230425056,
          2.770246085011186,
          2.7969798657718123,
          2.8237136465324384,
          2.8504474272930653,
          2.877181208053692,
          2.903914988814318,
          2.9306487695749444,
          2.9573825503355704,
          2.9841163310961973,
          3.0108501118568234,
          3.03758389261745,
          3.0643176733780764,
          3.0910514541387024,
          3.1177852348993293,
          3.1445190156599554,
          3.171252796420582,
          3.1979865771812084,
          3.2247203579418344,
          3.2514541387024614,
          3.2781879194630874,
          3.304921700223714,
          3.3316554809843404,
          3.3583892617449664,
          3.3851230425055934,
          3.4118568232662194,
          3.438590604026846,
          3.4653243847874724,
          3.4920581655480984,
          3.5187919463087254,
          3.5455257270693514,
          3.572259507829978,
          3.5989932885906044,
          3.6257270693512305,
          3.6524608501118574,
          3.6791946308724834,
          3.70592841163311,
          3.7326621923937364,
          3.7593959731543625,
          3.7861297539149894,
          3.8128635346756155,
          3.839597315436242,
          3.8663310961968684,
          3.8930648769574945,
          3.9197986577181214,
          3.9465324384787475,
          3.973266219239374,
          4,
          4
         ]
        },
        {
         "line": {
          "color": "green",
          "width": 4
         },
         "mode": "lines",
         "type": "scatter",
         "x": [
          1.011651156768853,
          1.0315868071634742,
          1.050996563144902,
          1.069894297595553,
          1.0882935174368042,
          1.1062073732828959,
          1.1236486688401714,
          1.1406298700583681,
          1.1571631140404983,
          1.1732602177176945,
          1.1889326862952143,
          1.204191721475643,
          1.2190482294651714,
          1.2335128287686727,
          1.2475958577791453,
          1.2613073821669523,
          1.2746572020741338,
          1.287654859118938,
          1.3003096432155732,
          1.3126305992140603,
          1.3246265333649245,
          1.3363060196133585,
          1.3476774057273375,
          1.3587488192640877,
          1.3695281733791551,
          1.380023172482234,
          1.390241317743802,
          1.4001899124564845,
          1.4098760672549948,
          1.4193067051983723,
          1.428488566718152,
          1.4374282144360047,
          1.4461320378542895,
          1.454606257922872,
          1.4628569314854705,
          1.4708899556087098,
          1.478711071796976,
          1.4863258700960877,
          1.4937397930887093,
          1.5009581397843712,
          1.50798606940687,
          1.514828605081761,
          1.5214906374265742,
          1.5279769280463216,
          1.5342921129367975,
          1.5404407057980973,
          1.5464271012607294,
          1.5522555780266225,
          1.5579303019272746,
          1.56345532890123,
          1.5688346078930118,
          1.574071983675578,
          1.5791711995983293,
          1.5841359002626185,
          1.588969634126686,
          1.5936758560418745,
          1.598257929721944,
          1.6027191301472419,
          1.607062645905455,
          1.6112915814706152,
          1.61540895942198,
          1.6194177226043878,
          1.623320736231616,
          1.6271207899342592,
          1.630820599753583,
          1.6344228100827807,
          1.6379299955570181,
          1.6413446628936268,
          1.644669252683745,
          1.6479061411367022,
          1.6510576417783844,
          1.6541260071047983,
          1.6571134301920147,
          1.660022046263643,
          1.6628539342169544,
          1.66561111810875,
          1.6682955686020293,
          1.6709092043744962,
          1.673453893489911,
          1.6759314547332662,
          1.6783436589107408,
          1.6806922301153595,
          1.6829788469592704,
          1.68520514377351,
          1.6873727117761208,
          1.6894831002094557,
          1.6915378174474807,
          1.6935383320738637,
          1.6954860739316284,
          1.6973824351451168,
          1.699228771114993,
          1.7010264014869967,
          1.702776611095147,
          1.70448065088006,
          1.7061397387830433,
          1.7077550606166023,
          1.709327770911989,
          1.7108589937443868,
          1.7123498235363281,
          1.713801325839921,
          1.7152145380984396,
          1.7165904703878232,
          1.7179301061386134,
          1.7192344028388535,
          1.7205042927184364,
          1.7217406834154083,
          1.722944458624689,
          1.724116478729683,
          1.7252575814172284,
          1.7263685822763215,
          1.7274502753810503,
          1.72850343385815,
          1.7295288104395825,
          1.7305271380005456,
          1.731499130083285,
          1.7324454814070889,
          1.7333668683648324,
          1.734263949506419,
          1.7351373660094707,
          1.7359877421376038,
          1.7368156856866106,
          1.737621788418878,
          1.7384066264863376,
          1.739170760842267,
          1.7399147376422224,
          1.7406390886343963,
          1.7413443315396788,
          1.7420309704216919,
          1.742699496047062,
          1.7433503862361919,
          1.7439841062047723,
          1.7446011088962936,
          1.7452018353057783,
          1.7457867147949795,
          1.74635616539926,
          1.7469105941263778,
          1.7474503972473914,
          1.7479759605798886,
          1.7484876597637433,
          1.748985860529604,
          1.749470918960289,
          1.7499431817452988,
          1.750402986428602,
          1.750850661649895,
          1.7512865273794915,
          1.7517108951470168,
          1.7521240682640713,
          1.7525263420410166,
          1.7529180039980479,
          1.7532993340706913
         ],
         "y": [
          0.016666666666666666,
          0.043400447427293064,
          0.07013422818791946,
          0.09686800894854586,
          0.12360178970917225,
          0.15033557046979865,
          0.17706935123042508,
          0.20380313199105146,
          0.23053691275167787,
          0.2572706935123043,
          0.2840044742729307,
          0.31073825503355706,
          0.33747203579418344,
          0.3642058165548099,
          0.3909395973154362,
          0.41767337807606264,
          0.4444071588366891,
          0.47114093959731546,
          0.4978747203579419,
          0.5246085011185683,
          0.5513422818791947,
          0.578076062639821,
          0.6048098434004474,
          0.6315436241610738,
          0.6582774049217003,
          0.6850111856823266,
          0.711744966442953,
          0.7384787472035793,
          0.7652125279642057,
          0.7919463087248322,
          0.8186800894854586,
          0.845413870246085,
          0.8721476510067113,
          0.8988814317673377,
          0.9256152125279642,
          0.9523489932885906,
          0.9790827740492171,
          1.0058165548098434,
          1.0325503355704697,
          1.0592841163310962,
          1.0860178970917225,
          1.112751677852349,
          1.1394854586129755,
          1.1662192393736017,
          1.192953020134228,
          1.2196868008948545,
          1.246420581655481,
          1.2731543624161075,
          1.2998881431767337,
          1.32662192393736,
          1.3533557046979865,
          1.380089485458613,
          1.4068232662192395,
          1.4335570469798657,
          1.460290827740492,
          1.4870246085011185,
          1.5137583892617448,
          1.5404921700223715,
          1.5672259507829978,
          1.593959731543624,
          1.6206935123042505,
          1.6474272930648768,
          1.6741610738255035,
          1.7008948545861298,
          1.727628635346756,
          1.7543624161073825,
          1.7810961968680088,
          1.8078299776286355,
          1.8345637583892618,
          1.861297539149888,
          1.8880313199105145,
          1.9147651006711408,
          1.9414988814317675,
          1.9682326621923938,
          1.99496644295302,
          2.0217002237136463,
          2.048434004474273,
          2.0751677852348993,
          2.101901565995526,
          2.1286353467561523,
          2.1553691275167783,
          2.182102908277405,
          2.2088366890380313,
          2.235570469798658,
          2.2623042505592843,
          2.2890380313199103,
          2.315771812080537,
          2.3425055928411633,
          2.3692393736017894,
          2.3959731543624163,
          2.4227069351230424,
          2.449440715883669,
          2.4761744966442953,
          2.5029082774049214,
          2.5296420581655483,
          2.5563758389261744,
          2.583109619686801,
          2.6098434004474274,
          2.6365771812080534,
          2.6633109619686803,
          2.6900447427293064,
          2.7167785234899333,
          2.74351230425056,
          2.770246085011186,
          2.7969798657718123,
          2.8237136465324384,
          2.8504474272930653,
          2.877181208053692,
          2.903914988814318,
          2.9306487695749444,
          2.9573825503355704,
          2.9841163310961973,
          3.0108501118568234,
          3.03758389261745,
          3.0643176733780764,
          3.0910514541387024,
          3.1177852348993293,
          3.1445190156599554,
          3.171252796420582,
          3.1979865771812084,
          3.2247203579418344,
          3.2514541387024614,
          3.2781879194630874,
          3.304921700223714,
          3.3316554809843404,
          3.3583892617449664,
          3.3851230425055934,
          3.4118568232662194,
          3.438590604026846,
          3.4653243847874724,
          3.4920581655480984,
          3.5187919463087254,
          3.5455257270693514,
          3.572259507829978,
          3.5989932885906044,
          3.6257270693512305,
          3.6524608501118574,
          3.6791946308724834,
          3.70592841163311,
          3.7326621923937364,
          3.7593959731543625,
          3.7861297539149894,
          3.8128635346756155,
          3.839597315436242,
          3.8663310961968684,
          3.8930648769574945,
          3.9197986577181214,
          3.9465324384787475,
          3.973266219239374,
          4
         ]
        },
        {
         "line": {
          "color": "blue",
          "width": 4
         },
         "mode": "lines",
         "type": "scatter",
         "x": [
          2.125503355704698,
          2.098724832214765,
          2.071946308724832,
          2.045167785234899,
          2.045167785234899,
          2.0183892617449666,
          1.9916107382550337,
          1.9648322147651007,
          1.938053691275168,
          1.911275167785235,
          1.911275167785235,
          1.8844966442953022,
          1.8577181208053692,
          1.8309395973154363,
          1.8041610738255034,
          1.8041610738255034,
          1.7773825503355707,
          1.7506040268456378,
          1.7238255033557048,
          1.7238255033557048,
          1.697046979865772,
          1.670268456375839,
          1.6434899328859063,
          1.6167114093959734,
          1.6167114093959734,
          1.5899328859060404,
          1.5631543624161075,
          1.5363758389261746,
          1.5095973154362416,
          1.482818791946309,
          1.4461320378542895
         ],
         "y": [
          0.043400447427293064,
          0.07013422818791946,
          0.09686800894854586,
          0.12360178970917225,
          0.15033557046979865,
          0.17706935123042508,
          0.20380313199105146,
          0.23053691275167787,
          0.2572706935123043,
          0.2840044742729307,
          0.31073825503355706,
          0.33747203579418344,
          0.3642058165548099,
          0.3909395973154362,
          0.41767337807606264,
          0.4444071588366891,
          0.47114093959731546,
          0.4978747203579419,
          0.5246085011185683,
          0.5513422818791947,
          0.578076062639821,
          0.6048098434004474,
          0.6315436241610738,
          0.6582774049217003,
          0.6850111856823266,
          0.711744966442953,
          0.7384787472035793,
          0.7652125279642057,
          0.7919463087248322,
          0.8186800894854586,
          0.8721476510067113
         ]
        },
        {
         "line": {
          "color": "red",
          "width": 4
         },
         "mode": "lines",
         "type": "scatter",
         "x": [
          0.01,
          1.4461320378542895
         ],
         "y": [
          0.8601516567511339,
          0.8601516567511339
         ]
        },
        {
         "line": {
          "color": "red",
          "width": 4
         },
         "mode": "lines",
         "type": "scatter",
         "x": [
          4,
          4,
          4,
          4,
          4,
          4,
          4,
          4,
          4,
          4,
          4,
          4,
          4,
          4,
          4,
          4,
          3.544765100671141,
          3.1430872483221477,
          2.875302013422819,
          2.60751677852349,
          2.3932885906040267,
          2.2326174496644295,
          2.071946308724832,
          1.938053691275168,
          1.8309395973154363,
          1.7506040268456378,
          1.670268456375839,
          1.5899328859060404,
          1.5363758389261746,
          1.482818791946309,
          1.4461320378542895
         ],
         "y": [
          0.043400447427293064,
          0.07013422818791946,
          0.09686800894854586,
          0.12360178970917225,
          0.15033557046979865,
          0.17706935123042508,
          0.20380313199105146,
          0.23053691275167787,
          0.2572706935123043,
          0.2840044742729307,
          0.31073825503355706,
          0.33747203579418344,
          0.3642058165548099,
          0.3909395973154362,
          0.41767337807606264,
          0.4444071588366891,
          0.47114093959731546,
          0.4978747203579419,
          0.5246085011185683,
          0.5513422818791947,
          0.578076062639821,
          0.6048098434004474,
          0.6315436241610738,
          0.6582774049217003,
          0.6850111856823266,
          0.711744966442953,
          0.7384787472035793,
          0.7652125279642057,
          0.7919463087248322,
          0.8186800894854586,
          0.8721476510067113
         ]
        },
        {
         "marker": {
          "color": "#0000FF",
          "size": 20
         },
         "mode": "markers",
         "type": "scatter",
         "x": [
          1
         ],
         "y": [
          0.43333333333333335
         ]
        },
        {
         "marker": {
          "color": "#008000",
          "size": 20
         },
         "mode": "markers",
         "type": "scatter",
         "x": [
          1
         ],
         "y": [
          1.3333333333333333
         ]
        },
        {
         "marker": {
          "color": "#FF0000",
          "size": 20
         },
         "mode": "markers",
         "type": "scatter",
         "x": [
          2.5
         ],
         "y": [
          1.3333333333333333
         ]
        },
        {
         "marker": {
          "color": "#808080",
          "size": 20
         },
         "mode": "markers",
         "type": "scatter",
         "x": [
          1.5
         ],
         "y": [
          0.43333333333333335
         ]
        },
        {
         "marker": {
          "color": "#800080",
          "size": 20
         },
         "mode": "markers",
         "type": "scatter",
         "x": [
          2.5
         ],
         "y": [
          0.43333333333333335
         ]
        },
        {
         "marker": {
          "color": "#FFA500",
          "size": 20
         },
         "mode": "markers",
         "type": "scatter",
         "x": [
          2.5
         ],
         "y": [
          0.7666666666666666
         ]
        }
       ],
       "layout": {
        "font": {
         "size": 18
        },
        "height": 600,
        "paper_bgcolor": "rgba(0,0,0,0)",
        "plot_bgcolor": "rgba(0,0,0,0)",
        "template": {
         "data": {
          "bar": [
           {
            "error_x": {
             "color": "rgb(36,36,36)"
            },
            "error_y": {
             "color": "rgb(36,36,36)"
            },
            "marker": {
             "line": {
              "color": "white",
              "width": 0.5
             }
            },
            "type": "bar"
           }
          ],
          "barpolar": [
           {
            "marker": {
             "line": {
              "color": "white",
              "width": 0.5
             }
            },
            "type": "barpolar"
           }
          ],
          "carpet": [
           {
            "aaxis": {
             "endlinecolor": "rgb(36,36,36)",
             "gridcolor": "white",
             "linecolor": "white",
             "minorgridcolor": "white",
             "startlinecolor": "rgb(36,36,36)"
            },
            "baxis": {
             "endlinecolor": "rgb(36,36,36)",
             "gridcolor": "white",
             "linecolor": "white",
             "minorgridcolor": "white",
             "startlinecolor": "rgb(36,36,36)"
            },
            "type": "carpet"
           }
          ],
          "choropleth": [
           {
            "colorbar": {
             "outlinewidth": 1,
             "tickcolor": "rgb(36,36,36)",
             "ticks": "outside"
            },
            "type": "choropleth"
           }
          ],
          "contour": [
           {
            "colorbar": {
             "outlinewidth": 1,
             "tickcolor": "rgb(36,36,36)",
             "ticks": "outside"
            },
            "colorscale": [
             [
              0,
              "#440154"
             ],
             [
              0.1111111111111111,
              "#482878"
             ],
             [
              0.2222222222222222,
              "#3e4989"
             ],
             [
              0.3333333333333333,
              "#31688e"
             ],
             [
              0.4444444444444444,
              "#26828e"
             ],
             [
              0.5555555555555556,
              "#1f9e89"
             ],
             [
              0.6666666666666666,
              "#35b779"
             ],
             [
              0.7777777777777778,
              "#6ece58"
             ],
             [
              0.8888888888888888,
              "#b5de2b"
             ],
             [
              1,
              "#fde725"
             ]
            ],
            "type": "contour"
           }
          ],
          "contourcarpet": [
           {
            "colorbar": {
             "outlinewidth": 1,
             "tickcolor": "rgb(36,36,36)",
             "ticks": "outside"
            },
            "type": "contourcarpet"
           }
          ],
          "heatmap": [
           {
            "colorbar": {
             "outlinewidth": 1,
             "tickcolor": "rgb(36,36,36)",
             "ticks": "outside"
            },
            "colorscale": [
             [
              0,
              "#440154"
             ],
             [
              0.1111111111111111,
              "#482878"
             ],
             [
              0.2222222222222222,
              "#3e4989"
             ],
             [
              0.3333333333333333,
              "#31688e"
             ],
             [
              0.4444444444444444,
              "#26828e"
             ],
             [
              0.5555555555555556,
              "#1f9e89"
             ],
             [
              0.6666666666666666,
              "#35b779"
             ],
             [
              0.7777777777777778,
              "#6ece58"
             ],
             [
              0.8888888888888888,
              "#b5de2b"
             ],
             [
              1,
              "#fde725"
             ]
            ],
            "type": "heatmap"
           }
          ],
          "heatmapgl": [
           {
            "colorbar": {
             "outlinewidth": 1,
             "tickcolor": "rgb(36,36,36)",
             "ticks": "outside"
            },
            "colorscale": [
             [
              0,
              "#440154"
             ],
             [
              0.1111111111111111,
              "#482878"
             ],
             [
              0.2222222222222222,
              "#3e4989"
             ],
             [
              0.3333333333333333,
              "#31688e"
             ],
             [
              0.4444444444444444,
              "#26828e"
             ],
             [
              0.5555555555555556,
              "#1f9e89"
             ],
             [
              0.6666666666666666,
              "#35b779"
             ],
             [
              0.7777777777777778,
              "#6ece58"
             ],
             [
              0.8888888888888888,
              "#b5de2b"
             ],
             [
              1,
              "#fde725"
             ]
            ],
            "type": "heatmapgl"
           }
          ],
          "histogram": [
           {
            "marker": {
             "line": {
              "color": "white",
              "width": 0.6
             }
            },
            "type": "histogram"
           }
          ],
          "histogram2d": [
           {
            "colorbar": {
             "outlinewidth": 1,
             "tickcolor": "rgb(36,36,36)",
             "ticks": "outside"
            },
            "colorscale": [
             [
              0,
              "#440154"
             ],
             [
              0.1111111111111111,
              "#482878"
             ],
             [
              0.2222222222222222,
              "#3e4989"
             ],
             [
              0.3333333333333333,
              "#31688e"
             ],
             [
              0.4444444444444444,
              "#26828e"
             ],
             [
              0.5555555555555556,
              "#1f9e89"
             ],
             [
              0.6666666666666666,
              "#35b779"
             ],
             [
              0.7777777777777778,
              "#6ece58"
             ],
             [
              0.8888888888888888,
              "#b5de2b"
             ],
             [
              1,
              "#fde725"
             ]
            ],
            "type": "histogram2d"
           }
          ],
          "histogram2dcontour": [
           {
            "colorbar": {
             "outlinewidth": 1,
             "tickcolor": "rgb(36,36,36)",
             "ticks": "outside"
            },
            "colorscale": [
             [
              0,
              "#440154"
             ],
             [
              0.1111111111111111,
              "#482878"
             ],
             [
              0.2222222222222222,
              "#3e4989"
             ],
             [
              0.3333333333333333,
              "#31688e"
             ],
             [
              0.4444444444444444,
              "#26828e"
             ],
             [
              0.5555555555555556,
              "#1f9e89"
             ],
             [
              0.6666666666666666,
              "#35b779"
             ],
             [
              0.7777777777777778,
              "#6ece58"
             ],
             [
              0.8888888888888888,
              "#b5de2b"
             ],
             [
              1,
              "#fde725"
             ]
            ],
            "type": "histogram2dcontour"
           }
          ],
          "mesh3d": [
           {
            "colorbar": {
             "outlinewidth": 1,
             "tickcolor": "rgb(36,36,36)",
             "ticks": "outside"
            },
            "type": "mesh3d"
           }
          ],
          "parcoords": [
           {
            "line": {
             "colorbar": {
              "outlinewidth": 1,
              "tickcolor": "rgb(36,36,36)",
              "ticks": "outside"
             }
            },
            "type": "parcoords"
           }
          ],
          "pie": [
           {
            "automargin": true,
            "type": "pie"
           }
          ],
          "scatter": [
           {
            "marker": {
             "colorbar": {
              "outlinewidth": 1,
              "tickcolor": "rgb(36,36,36)",
              "ticks": "outside"
             }
            },
            "type": "scatter"
           }
          ],
          "scatter3d": [
           {
            "line": {
             "colorbar": {
              "outlinewidth": 1,
              "tickcolor": "rgb(36,36,36)",
              "ticks": "outside"
             }
            },
            "marker": {
             "colorbar": {
              "outlinewidth": 1,
              "tickcolor": "rgb(36,36,36)",
              "ticks": "outside"
             }
            },
            "type": "scatter3d"
           }
          ],
          "scattercarpet": [
           {
            "marker": {
             "colorbar": {
              "outlinewidth": 1,
              "tickcolor": "rgb(36,36,36)",
              "ticks": "outside"
             }
            },
            "type": "scattercarpet"
           }
          ],
          "scattergeo": [
           {
            "marker": {
             "colorbar": {
              "outlinewidth": 1,
              "tickcolor": "rgb(36,36,36)",
              "ticks": "outside"
             }
            },
            "type": "scattergeo"
           }
          ],
          "scattergl": [
           {
            "marker": {
             "colorbar": {
              "outlinewidth": 1,
              "tickcolor": "rgb(36,36,36)",
              "ticks": "outside"
             }
            },
            "type": "scattergl"
           }
          ],
          "scattermapbox": [
           {
            "marker": {
             "colorbar": {
              "outlinewidth": 1,
              "tickcolor": "rgb(36,36,36)",
              "ticks": "outside"
             }
            },
            "type": "scattermapbox"
           }
          ],
          "scatterpolar": [
           {
            "marker": {
             "colorbar": {
              "outlinewidth": 1,
              "tickcolor": "rgb(36,36,36)",
              "ticks": "outside"
             }
            },
            "type": "scatterpolar"
           }
          ],
          "scatterpolargl": [
           {
            "marker": {
             "colorbar": {
              "outlinewidth": 1,
              "tickcolor": "rgb(36,36,36)",
              "ticks": "outside"
             }
            },
            "type": "scatterpolargl"
           }
          ],
          "scatterternary": [
           {
            "marker": {
             "colorbar": {
              "outlinewidth": 1,
              "tickcolor": "rgb(36,36,36)",
              "ticks": "outside"
             }
            },
            "type": "scatterternary"
           }
          ],
          "surface": [
           {
            "colorbar": {
             "outlinewidth": 1,
             "tickcolor": "rgb(36,36,36)",
             "ticks": "outside"
            },
            "colorscale": [
             [
              0,
              "#440154"
             ],
             [
              0.1111111111111111,
              "#482878"
             ],
             [
              0.2222222222222222,
              "#3e4989"
             ],
             [
              0.3333333333333333,
              "#31688e"
             ],
             [
              0.4444444444444444,
              "#26828e"
             ],
             [
              0.5555555555555556,
              "#1f9e89"
             ],
             [
              0.6666666666666666,
              "#35b779"
             ],
             [
              0.7777777777777778,
              "#6ece58"
             ],
             [
              0.8888888888888888,
              "#b5de2b"
             ],
             [
              1,
              "#fde725"
             ]
            ],
            "type": "surface"
           }
          ],
          "table": [
           {
            "cells": {
             "fill": {
              "color": "rgb(237,237,237)"
             },
             "line": {
              "color": "white"
             }
            },
            "header": {
             "fill": {
              "color": "rgb(217,217,217)"
             },
             "line": {
              "color": "white"
             }
            },
            "type": "table"
           }
          ]
         },
         "layout": {
          "annotationdefaults": {
           "arrowhead": 0,
           "arrowwidth": 1
          },
          "coloraxis": {
           "colorbar": {
            "outlinewidth": 1,
            "tickcolor": "rgb(36,36,36)",
            "ticks": "outside"
           }
          },
          "colorscale": {
           "diverging": [
            [
             0,
             "rgb(103,0,31)"
            ],
            [
             0.1,
             "rgb(178,24,43)"
            ],
            [
             0.2,
             "rgb(214,96,77)"
            ],
            [
             0.3,
             "rgb(244,165,130)"
            ],
            [
             0.4,
             "rgb(253,219,199)"
            ],
            [
             0.5,
             "rgb(247,247,247)"
            ],
            [
             0.6,
             "rgb(209,229,240)"
            ],
            [
             0.7,
             "rgb(146,197,222)"
            ],
            [
             0.8,
             "rgb(67,147,195)"
            ],
            [
             0.9,
             "rgb(33,102,172)"
            ],
            [
             1,
             "rgb(5,48,97)"
            ]
           ],
           "sequential": [
            [
             0,
             "#440154"
            ],
            [
             0.1111111111111111,
             "#482878"
            ],
            [
             0.2222222222222222,
             "#3e4989"
            ],
            [
             0.3333333333333333,
             "#31688e"
            ],
            [
             0.4444444444444444,
             "#26828e"
            ],
            [
             0.5555555555555556,
             "#1f9e89"
            ],
            [
             0.6666666666666666,
             "#35b779"
            ],
            [
             0.7777777777777778,
             "#6ece58"
            ],
            [
             0.8888888888888888,
             "#b5de2b"
            ],
            [
             1,
             "#fde725"
            ]
           ],
           "sequentialminus": [
            [
             0,
             "#440154"
            ],
            [
             0.1111111111111111,
             "#482878"
            ],
            [
             0.2222222222222222,
             "#3e4989"
            ],
            [
             0.3333333333333333,
             "#31688e"
            ],
            [
             0.4444444444444444,
             "#26828e"
            ],
            [
             0.5555555555555556,
             "#1f9e89"
            ],
            [
             0.6666666666666666,
             "#35b779"
            ],
            [
             0.7777777777777778,
             "#6ece58"
            ],
            [
             0.8888888888888888,
             "#b5de2b"
            ],
            [
             1,
             "#fde725"
            ]
           ]
          },
          "colorway": [
           "#1F77B4",
           "#FF7F0E",
           "#2CA02C",
           "#D62728",
           "#9467BD",
           "#8C564B",
           "#E377C2",
           "#7F7F7F",
           "#BCBD22",
           "#17BECF"
          ],
          "font": {
           "color": "rgb(36,36,36)"
          },
          "geo": {
           "bgcolor": "white",
           "lakecolor": "white",
           "landcolor": "white",
           "showlakes": true,
           "showland": true,
           "subunitcolor": "white"
          },
          "hoverlabel": {
           "align": "left"
          },
          "hovermode": "closest",
          "mapbox": {
           "style": "light"
          },
          "paper_bgcolor": "white",
          "plot_bgcolor": "white",
          "polar": {
           "angularaxis": {
            "gridcolor": "rgb(232,232,232)",
            "linecolor": "rgb(36,36,36)",
            "showgrid": false,
            "showline": true,
            "ticks": "outside"
           },
           "bgcolor": "white",
           "radialaxis": {
            "gridcolor": "rgb(232,232,232)",
            "linecolor": "rgb(36,36,36)",
            "showgrid": false,
            "showline": true,
            "ticks": "outside"
           }
          },
          "scene": {
           "xaxis": {
            "backgroundcolor": "white",
            "gridcolor": "rgb(232,232,232)",
            "gridwidth": 2,
            "linecolor": "rgb(36,36,36)",
            "showbackground": true,
            "showgrid": false,
            "showline": true,
            "ticks": "outside",
            "zeroline": false,
            "zerolinecolor": "rgb(36,36,36)"
           },
           "yaxis": {
            "backgroundcolor": "white",
            "gridcolor": "rgb(232,232,232)",
            "gridwidth": 2,
            "linecolor": "rgb(36,36,36)",
            "showbackground": true,
            "showgrid": false,
            "showline": true,
            "ticks": "outside",
            "zeroline": false,
            "zerolinecolor": "rgb(36,36,36)"
           },
           "zaxis": {
            "backgroundcolor": "white",
            "gridcolor": "rgb(232,232,232)",
            "gridwidth": 2,
            "linecolor": "rgb(36,36,36)",
            "showbackground": true,
            "showgrid": false,
            "showline": true,
            "ticks": "outside",
            "zeroline": false,
            "zerolinecolor": "rgb(36,36,36)"
           }
          },
          "shapedefaults": {
           "fillcolor": "black",
           "line": {
            "width": 0
           },
           "opacity": 0.3
          },
          "ternary": {
           "aaxis": {
            "gridcolor": "rgb(232,232,232)",
            "linecolor": "rgb(36,36,36)",
            "showgrid": false,
            "showline": true,
            "ticks": "outside"
           },
           "baxis": {
            "gridcolor": "rgb(232,232,232)",
            "linecolor": "rgb(36,36,36)",
            "showgrid": false,
            "showline": true,
            "ticks": "outside"
           },
           "bgcolor": "white",
           "caxis": {
            "gridcolor": "rgb(232,232,232)",
            "linecolor": "rgb(36,36,36)",
            "showgrid": false,
            "showline": true,
            "ticks": "outside"
           }
          },
          "title": {
           "x": 0.05
          },
          "xaxis": {
           "automargin": true,
           "gridcolor": "rgb(232,232,232)",
           "linecolor": "rgb(36,36,36)",
           "showgrid": false,
           "showline": true,
           "ticks": "outside",
           "title": {
            "standoff": 15
           },
           "zeroline": false,
           "zerolinecolor": "rgb(36,36,36)"
          },
          "yaxis": {
           "automargin": true,
           "gridcolor": "rgb(232,232,232)",
           "linecolor": "rgb(36,36,36)",
           "showgrid": false,
           "showline": true,
           "ticks": "outside",
           "title": {
            "standoff": 15
           },
           "zeroline": false,
           "zerolinecolor": "rgb(36,36,36)"
          }
         }
        },
        "width": 700,
        "xaxis": {
         "mirror": true,
         "range": [
          0,
          3
         ],
         "showline": true
        },
        "yaxis": {
         "mirror": true,
         "range": [
          0.13020134228187918,
          1.5
         ],
         "showline": true
        }
       }
      },
      "text/html": [
       "<div>                            <div id=\"b3128753-a970-4c34-94fc-5e8d2c695c54\" class=\"plotly-graph-div\" style=\"height:600px; width:700px;\"></div>            <script type=\"text/javascript\">                require([\"plotly\"], function(Plotly) {                    window.PLOTLYENV=window.PLOTLYENV || {};                                    if (document.getElementById(\"b3128753-a970-4c34-94fc-5e8d2c695c54\")) {                    Plotly.newPlot(                        \"b3128753-a970-4c34-94fc-5e8d2c695c54\",                        [{\"fill\": \"tozerox\", \"fillcolor\": \"rgba(148, 0,211, 0.3)\", \"mode\": \"none\", \"type\": \"scatter\", \"x\": [2.125503355704698, 2.098724832214765, 2.071946308724832, 2.045167785234899, 2.045167785234899, 2.0183892617449666, 1.9916107382550337, 1.9648322147651007, 1.938053691275168, 1.911275167785235, 1.911275167785235, 1.8844966442953022, 1.8577181208053692, 1.8309395973154363, 1.8041610738255034, 1.8041610738255034, 1.7773825503355707, 1.7506040268456378, 1.7238255033557048, 1.7238255033557048, 1.697046979865772, 1.670268456375839, 1.6434899328859063, 1.6167114093959734, 1.6167114093959734, 1.5899328859060404, 1.5631543624161075, 1.5363758389261746, 1.5095973154362416, 1.482818791946309, 1.4461320378542895], \"y\": [0.043400447427293064, 0.07013422818791946, 0.09686800894854586, 0.12360178970917225, 0.15033557046979865, 0.17706935123042508, 0.20380313199105146, 0.23053691275167787, 0.2572706935123043, 0.2840044742729307, 0.31073825503355706, 0.33747203579418344, 0.3642058165548099, 0.3909395973154362, 0.41767337807606264, 0.4444071588366891, 0.47114093959731546, 0.4978747203579419, 0.5246085011185683, 0.5513422818791947, 0.578076062639821, 0.6048098434004474, 0.6315436241610738, 0.6582774049217003, 0.6850111856823266, 0.711744966442953, 0.7384787472035793, 0.7652125279642057, 0.7919463087248322, 0.8186800894854586, 0.8601516567511339]}, {\"fill\": \"tonextx\", \"fillcolor\": \"rgba(3, 255,127, 0.3)\", \"mode\": \"none\", \"type\": \"scatter\", \"x\": [4.0, 4.0, 4.0, 4.0, 4.0, 4.0, 4.0, 4.0, 4.0, 4.0, 4.0, 4.0, 4.0, 4.0, 4.0, 4.0, 3.544765100671141, 3.1430872483221477, 2.875302013422819, 2.60751677852349, 2.3932885906040267, 2.2326174496644295, 2.071946308724832, 1.938053691275168, 1.8309395973154363, 1.7506040268456378, 1.670268456375839, 1.5899328859060404, 1.5363758389261746, 1.482818791946309], \"y\": [0.043400447427293064, 0.07013422818791946, 0.09686800894854586, 0.12360178970917225, 0.15033557046979865, 0.17706935123042508, 0.20380313199105146, 0.23053691275167787, 0.2572706935123043, 0.2840044742729307, 0.31073825503355706, 0.33747203579418344, 0.3642058165548099, 0.3909395973154362, 0.41767337807606264, 0.4444071588366891, 0.47114093959731546, 0.4978747203579419, 0.5246085011185683, 0.5513422818791947, 0.578076062639821, 0.6048098434004474, 0.6315436241610738, 0.6582774049217003, 0.6850111856823266, 0.711744966442953, 0.7384787472035793, 0.7652125279642057, 0.7919463087248322, 0.8186800894854586]}, {\"fill\": \"tozerox\", \"fillcolor\": \"rgba(255, 140, 34, 0.3)\", \"mode\": \"none\", \"type\": \"scatter\", \"x\": [1.4461320378542895, 1.454606257922872, 1.4628569314854705, 1.4708899556087098, 1.478711071796976, 1.4863258700960877, 1.4937397930887093, 1.5009581397843712, 1.50798606940687, 1.514828605081761, 1.5214906374265742, 1.5279769280463216, 1.5342921129367975, 1.5404407057980973, 1.5464271012607294, 1.5522555780266225, 1.5579303019272746, 1.56345532890123, 1.5688346078930118, 1.574071983675578, 1.5791711995983293, 1.5841359002626185, 1.588969634126686, 1.5936758560418745, 1.598257929721944, 1.6027191301472419, 1.607062645905455, 1.6112915814706152, 1.61540895942198, 1.6194177226043878, 1.623320736231616, 1.6271207899342592, 1.630820599753583, 1.6344228100827807, 1.6379299955570181, 1.6413446628936268, 1.644669252683745, 1.6479061411367022, 1.6510576417783844, 1.6541260071047983, 1.6571134301920147, 1.660022046263643, 1.6628539342169544, 1.66561111810875, 1.6682955686020293, 1.6709092043744962, 1.673453893489911, 1.6759314547332662, 1.6783436589107408, 1.6806922301153595, 1.6829788469592704, 1.68520514377351, 1.6873727117761208, 1.6894831002094557, 1.6915378174474807, 1.6935383320738637, 1.6954860739316284, 1.6973824351451168, 1.699228771114993, 1.7010264014869967, 1.702776611095147, 1.70448065088006, 1.7061397387830433, 1.7077550606166023, 1.709327770911989, 1.7108589937443868, 1.7123498235363281, 1.713801325839921, 1.7152145380984396, 1.7165904703878232, 1.7179301061386134, 1.7192344028388535, 1.7205042927184364, 1.7217406834154083, 1.722944458624689, 1.724116478729683, 1.7252575814172284, 1.7263685822763215, 1.7274502753810503, 1.72850343385815, 1.7295288104395825, 1.7305271380005456, 1.731499130083285, 1.7324454814070889, 1.7333668683648324, 1.734263949506419, 1.7351373660094707, 1.7359877421376038, 1.7368156856866106, 1.737621788418878, 1.7384066264863376, 1.739170760842267, 1.7399147376422224, 1.7406390886343963, 1.7413443315396788, 1.7420309704216919, 1.742699496047062, 1.7433503862361919, 1.7439841062047723, 1.7446011088962936, 1.7452018353057783, 1.7457867147949795, 1.74635616539926, 1.7469105941263778, 1.7474503972473914, 1.7479759605798886, 1.7484876597637433, 1.748985860529604, 1.749470918960289, 1.7499431817452988, 1.750402986428602, 1.750850661649895, 1.7512865273794915, 1.7517108951470168, 1.7521240682640713, 1.7525263420410166, 1.7529180039980479, 1.7532993340706913, 0.01], \"y\": [0.8721476510067113, 0.8988814317673377, 0.9256152125279642, 0.9523489932885906, 0.9790827740492171, 1.0058165548098434, 1.0325503355704697, 1.0592841163310962, 1.0860178970917225, 1.112751677852349, 1.1394854586129755, 1.1662192393736017, 1.192953020134228, 1.2196868008948545, 1.246420581655481, 1.2731543624161075, 1.2998881431767337, 1.32662192393736, 1.3533557046979865, 1.380089485458613, 1.4068232662192395, 1.4335570469798657, 1.460290827740492, 1.4870246085011185, 1.5137583892617448, 1.5404921700223715, 1.5672259507829978, 1.593959731543624, 1.6206935123042505, 1.6474272930648768, 1.6741610738255035, 1.7008948545861298, 1.727628635346756, 1.7543624161073825, 1.7810961968680088, 1.8078299776286355, 1.8345637583892618, 1.861297539149888, 1.8880313199105145, 1.9147651006711408, 1.9414988814317675, 1.9682326621923938, 1.99496644295302, 2.0217002237136463, 2.048434004474273, 2.0751677852348993, 2.101901565995526, 2.1286353467561523, 2.1553691275167783, 2.182102908277405, 2.2088366890380313, 2.235570469798658, 2.2623042505592843, 2.2890380313199103, 2.315771812080537, 2.3425055928411633, 2.3692393736017894, 2.3959731543624163, 2.4227069351230424, 2.449440715883669, 2.4761744966442953, 2.5029082774049214, 2.5296420581655483, 2.5563758389261744, 2.583109619686801, 2.6098434004474274, 2.6365771812080534, 2.6633109619686803, 2.6900447427293064, 2.7167785234899333, 2.74351230425056, 2.770246085011186, 2.7969798657718123, 2.8237136465324384, 2.8504474272930653, 2.877181208053692, 2.903914988814318, 2.9306487695749444, 2.9573825503355704, 2.9841163310961973, 3.0108501118568234, 3.03758389261745, 3.0643176733780764, 3.0910514541387024, 3.1177852348993293, 3.1445190156599554, 3.171252796420582, 3.1979865771812084, 3.2247203579418344, 3.2514541387024614, 3.2781879194630874, 3.304921700223714, 3.3316554809843404, 3.3583892617449664, 3.3851230425055934, 3.4118568232662194, 3.438590604026846, 3.4653243847874724, 3.4920581655480984, 3.5187919463087254, 3.5455257270693514, 3.572259507829978, 3.5989932885906044, 3.6257270693512305, 3.6524608501118574, 3.6791946308724834, 3.70592841163311, 3.7326621923937364, 3.7593959731543625, 3.7861297539149894, 3.8128635346756155, 3.839597315436242, 3.8663310961968684, 3.8930648769574945, 3.9197986577181214, 3.9465324384787475, 3.973266219239374, 4.0, 4.0]}, {\"line\": {\"color\": \"green\", \"width\": 4}, \"mode\": \"lines\", \"type\": \"scatter\", \"x\": [1.011651156768853, 1.0315868071634742, 1.050996563144902, 1.069894297595553, 1.0882935174368042, 1.1062073732828959, 1.1236486688401714, 1.1406298700583681, 1.1571631140404983, 1.1732602177176945, 1.1889326862952143, 1.204191721475643, 1.2190482294651714, 1.2335128287686727, 1.2475958577791453, 1.2613073821669523, 1.2746572020741338, 1.287654859118938, 1.3003096432155732, 1.3126305992140603, 1.3246265333649245, 1.3363060196133585, 1.3476774057273375, 1.3587488192640877, 1.3695281733791551, 1.380023172482234, 1.390241317743802, 1.4001899124564845, 1.4098760672549948, 1.4193067051983723, 1.428488566718152, 1.4374282144360047, 1.4461320378542895, 1.454606257922872, 1.4628569314854705, 1.4708899556087098, 1.478711071796976, 1.4863258700960877, 1.4937397930887093, 1.5009581397843712, 1.50798606940687, 1.514828605081761, 1.5214906374265742, 1.5279769280463216, 1.5342921129367975, 1.5404407057980973, 1.5464271012607294, 1.5522555780266225, 1.5579303019272746, 1.56345532890123, 1.5688346078930118, 1.574071983675578, 1.5791711995983293, 1.5841359002626185, 1.588969634126686, 1.5936758560418745, 1.598257929721944, 1.6027191301472419, 1.607062645905455, 1.6112915814706152, 1.61540895942198, 1.6194177226043878, 1.623320736231616, 1.6271207899342592, 1.630820599753583, 1.6344228100827807, 1.6379299955570181, 1.6413446628936268, 1.644669252683745, 1.6479061411367022, 1.6510576417783844, 1.6541260071047983, 1.6571134301920147, 1.660022046263643, 1.6628539342169544, 1.66561111810875, 1.6682955686020293, 1.6709092043744962, 1.673453893489911, 1.6759314547332662, 1.6783436589107408, 1.6806922301153595, 1.6829788469592704, 1.68520514377351, 1.6873727117761208, 1.6894831002094557, 1.6915378174474807, 1.6935383320738637, 1.6954860739316284, 1.6973824351451168, 1.699228771114993, 1.7010264014869967, 1.702776611095147, 1.70448065088006, 1.7061397387830433, 1.7077550606166023, 1.709327770911989, 1.7108589937443868, 1.7123498235363281, 1.713801325839921, 1.7152145380984396, 1.7165904703878232, 1.7179301061386134, 1.7192344028388535, 1.7205042927184364, 1.7217406834154083, 1.722944458624689, 1.724116478729683, 1.7252575814172284, 1.7263685822763215, 1.7274502753810503, 1.72850343385815, 1.7295288104395825, 1.7305271380005456, 1.731499130083285, 1.7324454814070889, 1.7333668683648324, 1.734263949506419, 1.7351373660094707, 1.7359877421376038, 1.7368156856866106, 1.737621788418878, 1.7384066264863376, 1.739170760842267, 1.7399147376422224, 1.7406390886343963, 1.7413443315396788, 1.7420309704216919, 1.742699496047062, 1.7433503862361919, 1.7439841062047723, 1.7446011088962936, 1.7452018353057783, 1.7457867147949795, 1.74635616539926, 1.7469105941263778, 1.7474503972473914, 1.7479759605798886, 1.7484876597637433, 1.748985860529604, 1.749470918960289, 1.7499431817452988, 1.750402986428602, 1.750850661649895, 1.7512865273794915, 1.7517108951470168, 1.7521240682640713, 1.7525263420410166, 1.7529180039980479, 1.7532993340706913], \"y\": [0.016666666666666666, 0.043400447427293064, 0.07013422818791946, 0.09686800894854586, 0.12360178970917225, 0.15033557046979865, 0.17706935123042508, 0.20380313199105146, 0.23053691275167787, 0.2572706935123043, 0.2840044742729307, 0.31073825503355706, 0.33747203579418344, 0.3642058165548099, 0.3909395973154362, 0.41767337807606264, 0.4444071588366891, 0.47114093959731546, 0.4978747203579419, 0.5246085011185683, 0.5513422818791947, 0.578076062639821, 0.6048098434004474, 0.6315436241610738, 0.6582774049217003, 0.6850111856823266, 0.711744966442953, 0.7384787472035793, 0.7652125279642057, 0.7919463087248322, 0.8186800894854586, 0.845413870246085, 0.8721476510067113, 0.8988814317673377, 0.9256152125279642, 0.9523489932885906, 0.9790827740492171, 1.0058165548098434, 1.0325503355704697, 1.0592841163310962, 1.0860178970917225, 1.112751677852349, 1.1394854586129755, 1.1662192393736017, 1.192953020134228, 1.2196868008948545, 1.246420581655481, 1.2731543624161075, 1.2998881431767337, 1.32662192393736, 1.3533557046979865, 1.380089485458613, 1.4068232662192395, 1.4335570469798657, 1.460290827740492, 1.4870246085011185, 1.5137583892617448, 1.5404921700223715, 1.5672259507829978, 1.593959731543624, 1.6206935123042505, 1.6474272930648768, 1.6741610738255035, 1.7008948545861298, 1.727628635346756, 1.7543624161073825, 1.7810961968680088, 1.8078299776286355, 1.8345637583892618, 1.861297539149888, 1.8880313199105145, 1.9147651006711408, 1.9414988814317675, 1.9682326621923938, 1.99496644295302, 2.0217002237136463, 2.048434004474273, 2.0751677852348993, 2.101901565995526, 2.1286353467561523, 2.1553691275167783, 2.182102908277405, 2.2088366890380313, 2.235570469798658, 2.2623042505592843, 2.2890380313199103, 2.315771812080537, 2.3425055928411633, 2.3692393736017894, 2.3959731543624163, 2.4227069351230424, 2.449440715883669, 2.4761744966442953, 2.5029082774049214, 2.5296420581655483, 2.5563758389261744, 2.583109619686801, 2.6098434004474274, 2.6365771812080534, 2.6633109619686803, 2.6900447427293064, 2.7167785234899333, 2.74351230425056, 2.770246085011186, 2.7969798657718123, 2.8237136465324384, 2.8504474272930653, 2.877181208053692, 2.903914988814318, 2.9306487695749444, 2.9573825503355704, 2.9841163310961973, 3.0108501118568234, 3.03758389261745, 3.0643176733780764, 3.0910514541387024, 3.1177852348993293, 3.1445190156599554, 3.171252796420582, 3.1979865771812084, 3.2247203579418344, 3.2514541387024614, 3.2781879194630874, 3.304921700223714, 3.3316554809843404, 3.3583892617449664, 3.3851230425055934, 3.4118568232662194, 3.438590604026846, 3.4653243847874724, 3.4920581655480984, 3.5187919463087254, 3.5455257270693514, 3.572259507829978, 3.5989932885906044, 3.6257270693512305, 3.6524608501118574, 3.6791946308724834, 3.70592841163311, 3.7326621923937364, 3.7593959731543625, 3.7861297539149894, 3.8128635346756155, 3.839597315436242, 3.8663310961968684, 3.8930648769574945, 3.9197986577181214, 3.9465324384787475, 3.973266219239374, 4.0]}, {\"line\": {\"color\": \"blue\", \"width\": 4}, \"mode\": \"lines\", \"type\": \"scatter\", \"x\": [2.125503355704698, 2.098724832214765, 2.071946308724832, 2.045167785234899, 2.045167785234899, 2.0183892617449666, 1.9916107382550337, 1.9648322147651007, 1.938053691275168, 1.911275167785235, 1.911275167785235, 1.8844966442953022, 1.8577181208053692, 1.8309395973154363, 1.8041610738255034, 1.8041610738255034, 1.7773825503355707, 1.7506040268456378, 1.7238255033557048, 1.7238255033557048, 1.697046979865772, 1.670268456375839, 1.6434899328859063, 1.6167114093959734, 1.6167114093959734, 1.5899328859060404, 1.5631543624161075, 1.5363758389261746, 1.5095973154362416, 1.482818791946309, 1.4461320378542895], \"y\": [0.043400447427293064, 0.07013422818791946, 0.09686800894854586, 0.12360178970917225, 0.15033557046979865, 0.17706935123042508, 0.20380313199105146, 0.23053691275167787, 0.2572706935123043, 0.2840044742729307, 0.31073825503355706, 0.33747203579418344, 0.3642058165548099, 0.3909395973154362, 0.41767337807606264, 0.4444071588366891, 0.47114093959731546, 0.4978747203579419, 0.5246085011185683, 0.5513422818791947, 0.578076062639821, 0.6048098434004474, 0.6315436241610738, 0.6582774049217003, 0.6850111856823266, 0.711744966442953, 0.7384787472035793, 0.7652125279642057, 0.7919463087248322, 0.8186800894854586, 0.8721476510067113]}, {\"line\": {\"color\": \"red\", \"width\": 4}, \"mode\": \"lines\", \"type\": \"scatter\", \"x\": [0.01, 1.4461320378542895], \"y\": [0.8601516567511339, 0.8601516567511339]}, {\"line\": {\"color\": \"red\", \"width\": 4}, \"mode\": \"lines\", \"type\": \"scatter\", \"x\": [4.0, 4.0, 4.0, 4.0, 4.0, 4.0, 4.0, 4.0, 4.0, 4.0, 4.0, 4.0, 4.0, 4.0, 4.0, 4.0, 3.544765100671141, 3.1430872483221477, 2.875302013422819, 2.60751677852349, 2.3932885906040267, 2.2326174496644295, 2.071946308724832, 1.938053691275168, 1.8309395973154363, 1.7506040268456378, 1.670268456375839, 1.5899328859060404, 1.5363758389261746, 1.482818791946309, 1.4461320378542895], \"y\": [0.043400447427293064, 0.07013422818791946, 0.09686800894854586, 0.12360178970917225, 0.15033557046979865, 0.17706935123042508, 0.20380313199105146, 0.23053691275167787, 0.2572706935123043, 0.2840044742729307, 0.31073825503355706, 0.33747203579418344, 0.3642058165548099, 0.3909395973154362, 0.41767337807606264, 0.4444071588366891, 0.47114093959731546, 0.4978747203579419, 0.5246085011185683, 0.5513422818791947, 0.578076062639821, 0.6048098434004474, 0.6315436241610738, 0.6582774049217003, 0.6850111856823266, 0.711744966442953, 0.7384787472035793, 0.7652125279642057, 0.7919463087248322, 0.8186800894854586, 0.8721476510067113]}, {\"marker\": {\"color\": \"#0000FF\", \"size\": 20}, \"mode\": \"markers\", \"type\": \"scatter\", \"x\": [1.0], \"y\": [0.43333333333333335]}, {\"marker\": {\"color\": \"#008000\", \"size\": 20}, \"mode\": \"markers\", \"type\": \"scatter\", \"x\": [1.0], \"y\": [1.3333333333333333]}, {\"marker\": {\"color\": \"#FF0000\", \"size\": 20}, \"mode\": \"markers\", \"type\": \"scatter\", \"x\": [2.5], \"y\": [1.3333333333333333]}, {\"marker\": {\"color\": \"#808080\", \"size\": 20}, \"mode\": \"markers\", \"type\": \"scatter\", \"x\": [1.5], \"y\": [0.43333333333333335]}, {\"marker\": {\"color\": \"#800080\", \"size\": 20}, \"mode\": \"markers\", \"type\": \"scatter\", \"x\": [2.5], \"y\": [0.43333333333333335]}, {\"marker\": {\"color\": \"#FFA500\", \"size\": 20}, \"mode\": \"markers\", \"type\": \"scatter\", \"x\": [2.5], \"y\": [0.7666666666666666]}],                        {\"font\": {\"size\": 18}, \"height\": 600, \"paper_bgcolor\": \"rgba(0,0,0,0)\", \"plot_bgcolor\": \"rgba(0,0,0,0)\", \"template\": {\"data\": {\"bar\": [{\"error_x\": {\"color\": \"rgb(36,36,36)\"}, \"error_y\": {\"color\": \"rgb(36,36,36)\"}, \"marker\": {\"line\": {\"color\": \"white\", \"width\": 0.5}}, \"type\": \"bar\"}], \"barpolar\": [{\"marker\": {\"line\": {\"color\": \"white\", \"width\": 0.5}}, \"type\": \"barpolar\"}], \"carpet\": [{\"aaxis\": {\"endlinecolor\": \"rgb(36,36,36)\", \"gridcolor\": \"white\", \"linecolor\": \"white\", \"minorgridcolor\": \"white\", \"startlinecolor\": \"rgb(36,36,36)\"}, \"baxis\": {\"endlinecolor\": \"rgb(36,36,36)\", \"gridcolor\": \"white\", \"linecolor\": \"white\", \"minorgridcolor\": \"white\", \"startlinecolor\": \"rgb(36,36,36)\"}, \"type\": \"carpet\"}], \"choropleth\": [{\"colorbar\": {\"outlinewidth\": 1, \"tickcolor\": \"rgb(36,36,36)\", \"ticks\": \"outside\"}, \"type\": \"choropleth\"}], \"contour\": [{\"colorbar\": {\"outlinewidth\": 1, \"tickcolor\": \"rgb(36,36,36)\", \"ticks\": \"outside\"}, \"colorscale\": [[0.0, \"#440154\"], [0.1111111111111111, \"#482878\"], [0.2222222222222222, \"#3e4989\"], [0.3333333333333333, \"#31688e\"], [0.4444444444444444, \"#26828e\"], [0.5555555555555556, \"#1f9e89\"], [0.6666666666666666, \"#35b779\"], [0.7777777777777778, \"#6ece58\"], [0.8888888888888888, \"#b5de2b\"], [1.0, \"#fde725\"]], \"type\": \"contour\"}], \"contourcarpet\": [{\"colorbar\": {\"outlinewidth\": 1, \"tickcolor\": \"rgb(36,36,36)\", \"ticks\": \"outside\"}, \"type\": \"contourcarpet\"}], \"heatmap\": [{\"colorbar\": {\"outlinewidth\": 1, \"tickcolor\": \"rgb(36,36,36)\", \"ticks\": \"outside\"}, \"colorscale\": [[0.0, \"#440154\"], [0.1111111111111111, \"#482878\"], [0.2222222222222222, \"#3e4989\"], [0.3333333333333333, \"#31688e\"], [0.4444444444444444, \"#26828e\"], [0.5555555555555556, \"#1f9e89\"], [0.6666666666666666, \"#35b779\"], [0.7777777777777778, \"#6ece58\"], [0.8888888888888888, \"#b5de2b\"], [1.0, \"#fde725\"]], \"type\": \"heatmap\"}], \"heatmapgl\": [{\"colorbar\": {\"outlinewidth\": 1, \"tickcolor\": \"rgb(36,36,36)\", \"ticks\": \"outside\"}, \"colorscale\": [[0.0, \"#440154\"], [0.1111111111111111, \"#482878\"], [0.2222222222222222, \"#3e4989\"], [0.3333333333333333, \"#31688e\"], [0.4444444444444444, \"#26828e\"], [0.5555555555555556, \"#1f9e89\"], [0.6666666666666666, \"#35b779\"], [0.7777777777777778, \"#6ece58\"], [0.8888888888888888, \"#b5de2b\"], [1.0, \"#fde725\"]], \"type\": \"heatmapgl\"}], \"histogram\": [{\"marker\": {\"line\": {\"color\": \"white\", \"width\": 0.6}}, \"type\": \"histogram\"}], \"histogram2d\": [{\"colorbar\": {\"outlinewidth\": 1, \"tickcolor\": \"rgb(36,36,36)\", \"ticks\": \"outside\"}, \"colorscale\": [[0.0, \"#440154\"], [0.1111111111111111, \"#482878\"], [0.2222222222222222, \"#3e4989\"], [0.3333333333333333, \"#31688e\"], [0.4444444444444444, \"#26828e\"], [0.5555555555555556, \"#1f9e89\"], [0.6666666666666666, \"#35b779\"], [0.7777777777777778, \"#6ece58\"], [0.8888888888888888, \"#b5de2b\"], [1.0, \"#fde725\"]], \"type\": \"histogram2d\"}], \"histogram2dcontour\": [{\"colorbar\": {\"outlinewidth\": 1, \"tickcolor\": \"rgb(36,36,36)\", \"ticks\": \"outside\"}, \"colorscale\": [[0.0, \"#440154\"], [0.1111111111111111, \"#482878\"], [0.2222222222222222, \"#3e4989\"], [0.3333333333333333, \"#31688e\"], [0.4444444444444444, \"#26828e\"], [0.5555555555555556, \"#1f9e89\"], [0.6666666666666666, \"#35b779\"], [0.7777777777777778, \"#6ece58\"], [0.8888888888888888, \"#b5de2b\"], [1.0, \"#fde725\"]], \"type\": \"histogram2dcontour\"}], \"mesh3d\": [{\"colorbar\": {\"outlinewidth\": 1, \"tickcolor\": \"rgb(36,36,36)\", \"ticks\": \"outside\"}, \"type\": \"mesh3d\"}], \"parcoords\": [{\"line\": {\"colorbar\": {\"outlinewidth\": 1, \"tickcolor\": \"rgb(36,36,36)\", \"ticks\": \"outside\"}}, \"type\": \"parcoords\"}], \"pie\": [{\"automargin\": true, \"type\": \"pie\"}], \"scatter\": [{\"marker\": {\"colorbar\": {\"outlinewidth\": 1, \"tickcolor\": \"rgb(36,36,36)\", \"ticks\": \"outside\"}}, \"type\": \"scatter\"}], \"scatter3d\": [{\"line\": {\"colorbar\": {\"outlinewidth\": 1, \"tickcolor\": \"rgb(36,36,36)\", \"ticks\": \"outside\"}}, \"marker\": {\"colorbar\": {\"outlinewidth\": 1, \"tickcolor\": \"rgb(36,36,36)\", \"ticks\": \"outside\"}}, \"type\": \"scatter3d\"}], \"scattercarpet\": [{\"marker\": {\"colorbar\": {\"outlinewidth\": 1, \"tickcolor\": \"rgb(36,36,36)\", \"ticks\": \"outside\"}}, \"type\": \"scattercarpet\"}], \"scattergeo\": [{\"marker\": {\"colorbar\": {\"outlinewidth\": 1, \"tickcolor\": \"rgb(36,36,36)\", \"ticks\": \"outside\"}}, \"type\": \"scattergeo\"}], \"scattergl\": [{\"marker\": {\"colorbar\": {\"outlinewidth\": 1, \"tickcolor\": \"rgb(36,36,36)\", \"ticks\": \"outside\"}}, \"type\": \"scattergl\"}], \"scattermapbox\": [{\"marker\": {\"colorbar\": {\"outlinewidth\": 1, \"tickcolor\": \"rgb(36,36,36)\", \"ticks\": \"outside\"}}, \"type\": \"scattermapbox\"}], \"scatterpolar\": [{\"marker\": {\"colorbar\": {\"outlinewidth\": 1, \"tickcolor\": \"rgb(36,36,36)\", \"ticks\": \"outside\"}}, \"type\": \"scatterpolar\"}], \"scatterpolargl\": [{\"marker\": {\"colorbar\": {\"outlinewidth\": 1, \"tickcolor\": \"rgb(36,36,36)\", \"ticks\": \"outside\"}}, \"type\": \"scatterpolargl\"}], \"scatterternary\": [{\"marker\": {\"colorbar\": {\"outlinewidth\": 1, \"tickcolor\": \"rgb(36,36,36)\", \"ticks\": \"outside\"}}, \"type\": \"scatterternary\"}], \"surface\": [{\"colorbar\": {\"outlinewidth\": 1, \"tickcolor\": \"rgb(36,36,36)\", \"ticks\": \"outside\"}, \"colorscale\": [[0.0, \"#440154\"], [0.1111111111111111, \"#482878\"], [0.2222222222222222, \"#3e4989\"], [0.3333333333333333, \"#31688e\"], [0.4444444444444444, \"#26828e\"], [0.5555555555555556, \"#1f9e89\"], [0.6666666666666666, \"#35b779\"], [0.7777777777777778, \"#6ece58\"], [0.8888888888888888, \"#b5de2b\"], [1.0, \"#fde725\"]], \"type\": \"surface\"}], \"table\": [{\"cells\": {\"fill\": {\"color\": \"rgb(237,237,237)\"}, \"line\": {\"color\": \"white\"}}, \"header\": {\"fill\": {\"color\": \"rgb(217,217,217)\"}, \"line\": {\"color\": \"white\"}}, \"type\": \"table\"}]}, \"layout\": {\"annotationdefaults\": {\"arrowhead\": 0, \"arrowwidth\": 1}, \"coloraxis\": {\"colorbar\": {\"outlinewidth\": 1, \"tickcolor\": \"rgb(36,36,36)\", \"ticks\": \"outside\"}}, \"colorscale\": {\"diverging\": [[0.0, \"rgb(103,0,31)\"], [0.1, \"rgb(178,24,43)\"], [0.2, \"rgb(214,96,77)\"], [0.3, \"rgb(244,165,130)\"], [0.4, \"rgb(253,219,199)\"], [0.5, \"rgb(247,247,247)\"], [0.6, \"rgb(209,229,240)\"], [0.7, \"rgb(146,197,222)\"], [0.8, \"rgb(67,147,195)\"], [0.9, \"rgb(33,102,172)\"], [1.0, \"rgb(5,48,97)\"]], \"sequential\": [[0.0, \"#440154\"], [0.1111111111111111, \"#482878\"], [0.2222222222222222, \"#3e4989\"], [0.3333333333333333, \"#31688e\"], [0.4444444444444444, \"#26828e\"], [0.5555555555555556, \"#1f9e89\"], [0.6666666666666666, \"#35b779\"], [0.7777777777777778, \"#6ece58\"], [0.8888888888888888, \"#b5de2b\"], [1.0, \"#fde725\"]], \"sequentialminus\": [[0.0, \"#440154\"], [0.1111111111111111, \"#482878\"], [0.2222222222222222, \"#3e4989\"], [0.3333333333333333, \"#31688e\"], [0.4444444444444444, \"#26828e\"], [0.5555555555555556, \"#1f9e89\"], [0.6666666666666666, \"#35b779\"], [0.7777777777777778, \"#6ece58\"], [0.8888888888888888, \"#b5de2b\"], [1.0, \"#fde725\"]]}, \"colorway\": [\"#1F77B4\", \"#FF7F0E\", \"#2CA02C\", \"#D62728\", \"#9467BD\", \"#8C564B\", \"#E377C2\", \"#7F7F7F\", \"#BCBD22\", \"#17BECF\"], \"font\": {\"color\": \"rgb(36,36,36)\"}, \"geo\": {\"bgcolor\": \"white\", \"lakecolor\": \"white\", \"landcolor\": \"white\", \"showlakes\": true, \"showland\": true, \"subunitcolor\": \"white\"}, \"hoverlabel\": {\"align\": \"left\"}, \"hovermode\": \"closest\", \"mapbox\": {\"style\": \"light\"}, \"paper_bgcolor\": \"white\", \"plot_bgcolor\": \"white\", \"polar\": {\"angularaxis\": {\"gridcolor\": \"rgb(232,232,232)\", \"linecolor\": \"rgb(36,36,36)\", \"showgrid\": false, \"showline\": true, \"ticks\": \"outside\"}, \"bgcolor\": \"white\", \"radialaxis\": {\"gridcolor\": \"rgb(232,232,232)\", \"linecolor\": \"rgb(36,36,36)\", \"showgrid\": false, \"showline\": true, \"ticks\": \"outside\"}}, \"scene\": {\"xaxis\": {\"backgroundcolor\": \"white\", \"gridcolor\": \"rgb(232,232,232)\", \"gridwidth\": 2, \"linecolor\": \"rgb(36,36,36)\", \"showbackground\": true, \"showgrid\": false, \"showline\": true, \"ticks\": \"outside\", \"zeroline\": false, \"zerolinecolor\": \"rgb(36,36,36)\"}, \"yaxis\": {\"backgroundcolor\": \"white\", \"gridcolor\": \"rgb(232,232,232)\", \"gridwidth\": 2, \"linecolor\": \"rgb(36,36,36)\", \"showbackground\": true, \"showgrid\": false, \"showline\": true, \"ticks\": \"outside\", \"zeroline\": false, \"zerolinecolor\": \"rgb(36,36,36)\"}, \"zaxis\": {\"backgroundcolor\": \"white\", \"gridcolor\": \"rgb(232,232,232)\", \"gridwidth\": 2, \"linecolor\": \"rgb(36,36,36)\", \"showbackground\": true, \"showgrid\": false, \"showline\": true, \"ticks\": \"outside\", \"zeroline\": false, \"zerolinecolor\": \"rgb(36,36,36)\"}}, \"shapedefaults\": {\"fillcolor\": \"black\", \"line\": {\"width\": 0}, \"opacity\": 0.3}, \"ternary\": {\"aaxis\": {\"gridcolor\": \"rgb(232,232,232)\", \"linecolor\": \"rgb(36,36,36)\", \"showgrid\": false, \"showline\": true, \"ticks\": \"outside\"}, \"baxis\": {\"gridcolor\": \"rgb(232,232,232)\", \"linecolor\": \"rgb(36,36,36)\", \"showgrid\": false, \"showline\": true, \"ticks\": \"outside\"}, \"bgcolor\": \"white\", \"caxis\": {\"gridcolor\": \"rgb(232,232,232)\", \"linecolor\": \"rgb(36,36,36)\", \"showgrid\": false, \"showline\": true, \"ticks\": \"outside\"}}, \"title\": {\"x\": 0.05}, \"xaxis\": {\"automargin\": true, \"gridcolor\": \"rgb(232,232,232)\", \"linecolor\": \"rgb(36,36,36)\", \"showgrid\": false, \"showline\": true, \"ticks\": \"outside\", \"title\": {\"standoff\": 15}, \"zeroline\": false, \"zerolinecolor\": \"rgb(36,36,36)\"}, \"yaxis\": {\"automargin\": true, \"gridcolor\": \"rgb(232,232,232)\", \"linecolor\": \"rgb(36,36,36)\", \"showgrid\": false, \"showline\": true, \"ticks\": \"outside\", \"title\": {\"standoff\": 15}, \"zeroline\": false, \"zerolinecolor\": \"rgb(36,36,36)\"}}}, \"width\": 700, \"xaxis\": {\"mirror\": true, \"range\": [0.0, 3.0], \"showline\": true}, \"yaxis\": {\"mirror\": true, \"range\": [0.13020134228187918, 1.5], \"showline\": true}},                        {\"responsive\": true}                    ).then(function(){\n",
       "                            \n",
       "var gd = document.getElementById('b3128753-a970-4c34-94fc-5e8d2c695c54');\n",
       "var x = new MutationObserver(function (mutations, observer) {{\n",
       "        var display = window.getComputedStyle(gd).display;\n",
       "        if (!display || display === 'none') {{\n",
       "            console.log([gd, 'removed!']);\n",
       "            Plotly.purge(gd);\n",
       "            observer.disconnect();\n",
       "        }}\n",
       "}});\n",
       "\n",
       "// Listen for the removal of the full notebook cells\n",
       "var notebookContainer = gd.closest('#notebook-container');\n",
       "if (notebookContainer) {{\n",
       "    x.observe(notebookContainer, {childList: true});\n",
       "}}\n",
       "\n",
       "// Listen for the clearing of the current output cell\n",
       "var outputEl = gd.closest('.output');\n",
       "if (outputEl) {{\n",
       "    x.observe(outputEl, {childList: true});\n",
       "}}\n",
       "\n",
       "                        })                };                });            </script>        </div>"
      ]
     },
     "metadata": {},
     "output_type": "display_data"
    },
    {
     "data": {
      "image/png": "[encoded data removed]",
      "text/plain": [
       "<Figure size 432x396 with 1 Axes>"
      ]
     },
     "metadata": {},
     "output_type": "display_data"
    },
    {
     "data": {
      "image/png": "[encoded data removed]",
      "text/plain": [
       "<Figure size 792x432 with 6 Axes>"
      ]
     },
     "metadata": {},
     "output_type": "display_data"
    }
   ],
   "source": [
    "print(params['m_c'])\n",
    "# print(params['a_c'])\n",
    "fig, ax = plt.subplots(1,1, figsize=(6, 5.5))\n",
    "\n",
    "# first order\n",
    "ax.plot(capture2minima, np.array(capture_mvals) /params['m0'], color='blue', linewidth=2.5)\n",
    "# first order\n",
    "ax.plot(capmax, np.array(capture_mvals) /params['m0'], color='red', linewidth=2.5)\n",
    "# second order\n",
    "ax.plot(a_c, m_space/params['m0'], color='green', linewidth=2.5, linestyle = '-.')\n",
    "# second order\n",
    "ax.plot([np.amin(a_space), a_c[mc_ind]],[m_c, m_c], color='red', linewidth=2.5)\n",
    "ax.set_xlim([0., 3.5])\n",
    "\n",
    "gfig = plot_PD_rates(capture2minima, capmax, capture_mvals, m_space, a_space, params)\n",
    "\n",
    "fig2, ax2 = plt.subplots(2, 3, figsize=(11, 6))\n",
    "\n",
    "choose_m = [1.3, 4., 4., 1.3, 1.3, 2.3]\n",
    "choose_a = [1., 1., 2.5, 1.5, 2.5, 2.5]\n",
    "colors = ['blue','green','red','gray','purple','orange']\n",
    "for mi, mm in enumerate(choose_m):\n",
    "    plotcounter = [(0,0), (0,1), (0,2), (1,0), (1,1), (1,2)]\n",
    "    \n",
    "    aa = choose_a[mi]    \n",
    "    ax.scatter(aa, mm/params['m0'], s=100, color=colors[mi])\n",
    "    gfig.add_trace(go.Scatter(x=[aa], y=[mm/params['m0']],\n",
    "                    mode='markers', marker=dict(size=20, color=mcolors[colors[mi]]),\n",
    "                         )\n",
    "              )\n",
    "    handle = ax2[plotcounter[mi]]\n",
    "    \n",
    "    choose_a_ind = np.where(np.abs(a_space - aa) == np.amin(np.abs(a_space - aa)))[0][0]\n",
    "    choose_m_ind = np.where(np.abs(m_space - mm) == np.amin(np.abs(m_space - mm)))[0][0]\n",
    "    \n",
    "    Uslice = U_data[choose_m_ind, :, :].squeeze()\n",
    "    m0coordsT = gmin_overm[choose_m_ind]\n",
    "    m1coordsT = b1_overm[choose_m_ind]\n",
    "    m2coordsT = b2_overm[choose_m_ind]\n",
    "\n",
    "    handle.plot(x_space, Uslice[:,choose_a_ind], color=colors[mi]) # mcolors['red']\n",
    "    xargs = scipy.signal.argrelextrema(Uslice[:,choose_a_ind], np.less)[0]      \n",
    "    x_mins = x_space[xargs]\n",
    "    handle.scatter(x_mins, Uslice[xargs, choose_a_ind], s=100, color=colors[mi], zorder=10) # color=mcolors['blueviolet']\n",
    "    handle.set_ylim([np.amin([np.amin(Uslice[:,choose_a_ind])*1.2,-0.1]), .6])\n",
    "    handle.set_xlim([0., 2.8])\n",
    "    handle.set_yticks([])\n",
    "    for xi, xx in enumerate(x_mins):\n",
    "        handle.text(0.1, 0.8 - 0.15*xi, ('x$_{n}$=%.2f' % xx), transform=handle.transAxes)\n",
    "\n",
    "gfig.show()\n",
    "\n",
    "saveall = False\n",
    "if saveall:\n",
    "    now = datetime.now().strftime(\"%m-%d-%Y_%H.%M\")\n",
    "    \n",
    "    direc = os.getcwd() + '/../figures_v2/figure2/'\n",
    "#     direc = os.getcwd() + '/powerpoints/ppt_figs/'\n",
    "    fname1 = direc + \"phase_diagram_rates_v2_\"+now+\".png\"\n",
    "    fname2 = direc + \"phase_diagram_rates_snapshots_v2_\"+now+\".png\"\n",
    "#     fig.tight_layout()\n",
    "    fig2.tight_layout()\n",
    "#     fig.savefig(fname1, format='png', dpi=600)\n",
    "    fig2.savefig(fname2, format='png', dpi=600)\n",
    "    gfig.write_image(fname1, scale = 1.5, engine='kaleido')\n",
    "    with open(fname1 + '.json', 'w') as f:\n",
    "        f.write(json.dumps(params))"
   ]
  },
  {
   "cell_type": "markdown",
   "metadata": {},
   "source": [
    "# Figure 2 3D Landscape over Alpha"
   ]
  },
  {
   "cell_type": "code",
   "execution_count": 12,
   "metadata": {},
   "outputs": [
    {
     "name": "stdout",
     "output_type": "stream",
     "text": [
      "0.8601516567511339\n"
     ]
    },
    {
     "data": {
      "application/vnd.jupyter.widget-view+json": {
       "model_id": "6a505b6e98f44dc79110aea927fe8733",
       "version_major": 2,
       "version_minor": 0
      },
      "text/plain": [
       "FigureWidget({\n",
       "    'data': [{'cmax': 8.985663561109881,\n",
       "              'cmin': -2.530959435542724,\n",
       "            …"
      ]
     },
     "metadata": {},
     "output_type": "display_data"
    },
    {
     "name": "stdout",
     "output_type": "stream",
     "text": [
      "/mnt/b/research/mechanical-memory/cell-mech-memory/../figures_v2/figure2/XA_memory_eng_surface_overMC03-21-2021_20.04.png\n"
     ]
    }
   ],
   "source": [
    "# 3D plot Udata over alpha\n",
    "choose_m = 4.5 # m_c\n",
    "print(m_c)\n",
    "# have been using 0.4 and 0.6\n",
    "choose_m_ind = np.where(np.abs(m_space - choose_m) == np.amin(np.abs(m_space-choose_m)))[0][0]\n",
    "choose_ac = a_c[choose_m_ind]\n",
    "\n",
    "# x_stiff = 1-np.exp(-choose_m/m0)\n",
    "ac_ind = np.where(np.abs(a_space - choose_ac) == np.amin(np.abs(a_space - choose_ac)))[0]\n",
    "\n",
    "Uslice = U_data[choose_m_ind, :, :].squeeze()\n",
    "bi1_coords = b1_overm[choose_m_ind]\n",
    "bi2_coords = b2_overm[choose_m_ind]\n",
    "gmin_coords = gmin_overm[choose_m_ind]\n",
    "\n",
    "xplot = x_space\n",
    "aplot = a_space\n",
    "uplot = Uslice # -U2_data\n",
    "\n",
    "fig = go.Figure(data=[go.Surface(z=uplot.T, x=xplot, y=aplot, colorscale='blackbody',\n",
    "                                cmin=np.amin(uplot)*0.8, cmax=np.amax(uplot)/6\n",
    "                                )],\n",
    "                     layout = go.Layout(paper_bgcolor='rgba(0,0,0,0)',\n",
    "                  plot_bgcolor='rgba(0,0,0,0)')\n",
    "               )\n",
    "\n",
    "fig.update_traces(contours_z=dict(show=True, usecolormap=False,\n",
    "                                  project_z=True, start=np.amin(uplot) * 0.9, \n",
    "                                  end=np.amax(uplot), color='black', size=0.09))\n",
    "if len(bi1_coords) > 0:\n",
    "    \n",
    "    fig.add_scatter3d(x=bi1_coords[:,0], y=bi1_coords[:,1], z=bi1_coords[:,2]+0.01, mode='markers', showlegend=False,\n",
    "                      marker=dict(size=4, color='blueviolet'), line=dict(color='blueviolet', width=10))\n",
    "\n",
    "    fig.add_scatter3d(x=bi2_coords[:,0], y=bi2_coords[:,1], z=bi2_coords[:,2]+0.01, mode='markers', showlegend=False,\n",
    "                      marker=dict(size=4, color='dodgerblue'), line=dict(color='dodgerblue', width=10))\n",
    "\n",
    "fig.add_scatter3d(x=gmin_coords[:,0], y=gmin_coords[:,1], z=gmin_coords[:,2]+0.01, mode='markers', showlegend=False,\n",
    "                  marker=dict(size=4, color='black'), line=dict(color='black', width=10))\n",
    "\n",
    "## plot inflection point in the second order region\n",
    "# fig.add_scatter3d(x=inf_coords[:,0], y=inf_coords[:,1], z=inf_coords[:,2]+0.01, mode='markers', showlegend=False,\n",
    "#                   marker=dict(size=4, color='red'), line=dict(color='red', width=10))\n",
    "\n",
    "## plot a_c\n",
    "# fig.add_scatter3d(x=x_space, y=np.ones(res)*choose_ac, z=Uslice[:,ac_ind].squeeze()+0.01, #np.zeros(res),\n",
    "#                   mode='lines', showlegend=False, line=dict(color='red', width=8))\n",
    "\n",
    "direc = os.getcwd() + '/../figures_v2/figure2/'\n",
    "# # direc = os.getcwd() + '/powerpoints/ppt_figs/\n",
    "now = datetime.now().strftime(\"%m-%d-%Y_%H.%M\")\n",
    "if choose_m / params['m0'] > m_c:\n",
    "    fname1 = direc + \"XA_memory_eng_surface_overMC\"+now+\".png\"\n",
    "    titlename = 'Landscape m > m_c'\n",
    "elif choose_m / params['m0'] < m_c:\n",
    "    fname1 = direc + \"XA_memory_eng_surface_underMC\"+now+\".png\"\n",
    "    titlename = 'Landscape m < m_c'\n",
    "elif choose_m / params['m0'] == m_c:\n",
    "#     fname1 = direc + \"XA_memory_eng_surface_atMC.png\"\n",
    "    fname1 = direc + \"plain_wadd.png\"\n",
    "    titlename = 'Landscape m = m_c'\n",
    "\n",
    "fig.update_layout(title=titlename, autosize=True, scene=dict(\n",
    "                    xaxis = dict(\n",
    "                        title='<b>x</b>',\n",
    "#                         title=' ',\n",
    "                        titlefont=dict(family='Cambria', size=22), \n",
    "#                         autorange=\"reversed\", \n",
    "#                         showticklabels=False,\n",
    "                        range=[3., 0.],\n",
    "                    ),\n",
    "                    yaxis = dict(\n",
    "                        title='<b>\\u03b1</b>',\n",
    "#                         title=' ',\n",
    "                        titlefont=dict(family='Cambria', size=22),\n",
    "#                         showticklabels=False,\n",
    "                        range=[0.3, 3.],\n",
    "                    ), \n",
    "                    zaxis = dict(\n",
    "#                         title='U', \n",
    "                        title=' ',\n",
    "                        range=[np.amin(uplot)*0.8, np.amax(uplot)/6],  \n",
    "#                         showticklabels=False, titlefont=dict(family='Cambria', size=24)\n",
    "                    ),\n",
    "                    aspectmode='cube'),\n",
    "                  width=1000, height=1000,\n",
    "                  margin=dict(l=70, r=70, b=70, t=70),\n",
    "                  font=dict(family='Cambria', size=16, color='#7f7f7f'),\n",
    "                  \n",
    "                  scene_camera = {\n",
    "                'center': {'x': 0, 'y': 0, 'z': 0},\n",
    "                'eye': {'x': -1.1257999146181883, 'y': 2.2694928492996156, 'z': 0.6797776646344754},\n",
    "                'projection': {'type': 'perspective'},\n",
    "                'up': {'x': 0, 'y': 0, 'z': 1}\n",
    "}\n",
    "                  )\n",
    "\n",
    "fig.update_xaxes(title_standoff=50)\n",
    "fig.update_yaxes(title_standoff=50)\n",
    "\n",
    "f1 = go.FigureWidget(fig)\n",
    "display(f1)\n",
    "\n",
    "saveall = True\n",
    "if saveall:\n",
    "    direc = os.getcwd() + '/../figures_v2/figure2/'        \n",
    "#     direc = os.getcwd() + '/powerpoints/ppt_figs/'\n",
    "    print(fname1)\n",
    "    fig.write_image(fname1, scale = 1.5, engine='kaleido')\n",
    "    "
   ]
  },
  {
   "cell_type": "code",
   "execution_count": null,
   "metadata": {},
   "outputs": [],
   "source": [
    "f1.layout.scene.camera"
   ]
  },
  {
   "cell_type": "markdown",
   "metadata": {},
   "source": [
    "# Figure 2 3D Landscape over M"
   ]
  },
  {
   "cell_type": "code",
   "execution_count": 62,
   "metadata": {
    "scrolled": false
   },
   "outputs": [
    {
     "name": "stdout",
     "output_type": "stream",
     "text": [
      "0.8987968575955837\n",
      "-0.46761788172495455\n",
      "5.18198586274015\n"
     ]
    },
    {
     "data": {
      "application/vnd.jupyter.widget-view+json": {
       "model_id": "eb535cb76aa34cf08360ca1978cc64a8",
       "version_major": 2,
       "version_minor": 0
      },
      "text/plain": [
       "FigureWidget({\n",
       "    'data': [{'cmax': 5.18198586274015,\n",
       "              'cmin': -0.46761788172495455,\n",
       "           …"
      ]
     },
     "metadata": {},
     "output_type": "display_data"
    },
    {
     "name": "stdout",
     "output_type": "stream",
     "text": [
      "/mnt/b/research/mechanical-memory/cell-mech-memory/../figures_v2/figure2/XA_memory_eng_surface_underAC.png\n"
     ]
    }
   ],
   "source": [
    "# 3D plot Udata over m\n",
    "print(m_c)\n",
    "choose_a = 2.5\n",
    "choose_a_ind = np.where(np.abs(a_space - choose_a) == np.amin(np.abs(a_space-choose_a)))[0][0]\n",
    "# choose_ac = a_c[choose_m_ind]\n",
    "# ac_ind = np.where(np.abs(a_space - choose_ac) == np.amin(np.abs(a_space - choose_ac)))[0]\n",
    "\n",
    "Uslice = U_data[:, :, choose_a_ind].squeeze()\n",
    "mbi1_coords = []; mbi2_coords = []; mgmin_coords = []; minf_coords= [];\n",
    "for mi, mm in enumerate(m_space / params['m0']):\n",
    "        \n",
    "    xargs = scipy.signal.argrelextrema(U_data[mi, :, choose_a_ind], np.less)[0]      \n",
    "    x_mins = x_space[xargs] \n",
    "\n",
    "    if len(x_mins) > 1:\n",
    "        mbi1_coords.append([np.amin(x_mins), mm, U_data[mi, np.amin(xargs), choose_a_ind]])\n",
    "        mbi2_coords.append([np.amax(x_mins), mm, U_data[mi, np.amax(xargs), choose_a_ind]])\n",
    "        \n",
    "    elif len(x_mins) > 0:\n",
    "        mgmin_coords.append([x_mins[U_data[mi, xargs, choose_a_ind] == np.amin(U_data[mi, xargs, choose_a_ind])][0],\n",
    "                             mm, np.amin(U_data[mi, xargs, choose_a_ind])])\n",
    "#         minf_coords.append([x_mins[U_data[mi, xargs, choose_a_ind] == np.amax(U_data[mi, xargs, choose_a_ind])][0], \n",
    "#                             mm, np.amax(U_data[mi, xargs, choose_a_ind])])\n",
    "    else:\n",
    "        x_mins = x_space[np.argmin(U_data[mi, :, choose_a_ind])]\n",
    "        mgmin_coords.append([np.amin(x_mins), mm, U_data[mi, np.argmin(U_data[mi,:,choose_a_ind]), choose_a_ind]])\n",
    "\n",
    "mbi1_coords = np.array(mbi1_coords)\n",
    "mbi2_coords = np.array(mbi2_coords)\n",
    "mgmin_coords = np.array(mgmin_coords)\n",
    "minf_coords = np.array(minf_coords)\n",
    "\n",
    "xplot = x_space\n",
    "mplot = m_space / params['m0']\n",
    "uplot = Uslice # -U2_data\n",
    "\n",
    "fig = go.Figure(data=[go.Surface(z=uplot, x=xplot, y=mplot, colorscale='blackbody',\n",
    "                                cmin=np.amin(uplot)*1.2, cmax=np.amax(uplot)/3\n",
    "                                )],\n",
    "                     layout = go.Layout(paper_bgcolor='rgba(0,0,0,0)',\n",
    "                  plot_bgcolor='rgba(0,0,0,0)')\n",
    "               )\n",
    "\n",
    "fig.update_traces(contours_z=dict(show=True, usecolormap=False,\n",
    "                                  project_z=True, start=np.amin(uplot) * 0.9, \n",
    "                                  end=np.amax(uplot), color='black', size=0.09))\n",
    "\n",
    "if len(mbi1_coords) > 0:\n",
    "    fig.add_scatter3d(x=mbi1_coords[:,0], y=mbi1_coords[:,1], z=mbi1_coords[:,2]+0.01, mode='markers', showlegend=False,\n",
    "                      marker=dict(size=4, color='blueviolet'), line=dict(color='blueviolet', width=10))\n",
    "\n",
    "    fig.add_scatter3d(x=mbi2_coords[:,0], y=mbi2_coords[:,1], z=mbi2_coords[:,2]+0.01, mode='markers', showlegend=False,\n",
    "                      marker=dict(size=4, color='dodgerblue'), line=dict(color='dodgerblue', width=10))\n",
    "\n",
    "fig.add_scatter3d(x=mgmin_coords[:,0], y=mgmin_coords[:,1], z=mgmin_coords[:,2]+0.01, mode='markers', showlegend=False,\n",
    "                  marker=dict(size=4, color='green'), line=dict(color='green', width=10))\n",
    "\n",
    "# fig.add_scatter3d(x=inf_coords[:,0], y=inf_coords[:,1], z=inf_coords[:,2]+0.01, mode='markers', showlegend=False,\n",
    "#                   marker=dict(size=4, color='red'), line=dict(color='red', width=10))\n",
    "\n",
    "# fig.add_scatter3d(x=x_space, y=np.ones(res)*choose_ac, z=Uslice[mc_ind, :].squeeze()+0.01, #np.zeros(res),\n",
    "#                   mode='lines', showlegend=False, line=dict(color='red', width=8))\n",
    "\n",
    "direc = os.getcwd() + '/../figures_v2/figure2/'\n",
    "# # direc = os.getcwd() + '/powerpoints/ppt_figs/'\n",
    "if choose_a > a_c[choose_a_ind]:\n",
    "    fname1 = direc + \"XA_memory_eng_surface_overAC_bendup.png\"\n",
    "    titlename = 'Landscape a > a_c'\n",
    "elif choose_a < a_c[choose_a_ind]:\n",
    "    fname1 = direc + \"XA_memory_eng_surface_underAC.png\"\n",
    "    titlename = 'Landscape a < a_c'\n",
    "elif choose_a == a_c[choose_a_ind]:\n",
    "    fname1 = direc + \"XA_memory_eng_surface_atAC.png\"\n",
    "    titlename = 'Landscape a = a_c'\n",
    "\n",
    "fig.update_layout(title=titlename, autosize=True, scene=dict(\n",
    "                    xaxis = dict(\n",
    "                        title='<b>x</b>',\n",
    "#                         title=' ',\n",
    "                        titlefont=dict(family='Cambria', size=22), \n",
    "#                         autorange=\"reversed\", \n",
    "#                         showticklabels=False,\n",
    "                        range=[0., 4.],\n",
    "                    ),\n",
    "                    yaxis = dict(\n",
    "                        title='<b>m/m0</b>',\n",
    "#                         title=' ',\n",
    "                        titlefont=dict(family='Cambria', size=22),\n",
    "#                         showticklabels=False,\n",
    "                        range=[0., 2.],\n",
    "                    ), \n",
    "                    zaxis = dict(\n",
    "#                         title='U', \n",
    "                        title=' ',\n",
    "                        range=[np.amin(uplot)*1.2, np.amax(uplot)/6],  \n",
    "#                         showticklabels=False, titlefont=dict(family='Cambria', size=24)\n",
    "                    ),\n",
    "                    aspectmode='cube'),\n",
    "                  width=1000, height=1000,\n",
    "                  margin=dict(l=70, r=70, b=70, t=70),\n",
    "                  font=dict(family='Cambria', size=16, color='#7f7f7f'),\n",
    "                  \n",
    "                  scene_camera = {\n",
    "            'center': {'x': 0, 'y': 0, 'z': 0},\n",
    "            'eye': {'x': 0.5428878983312541, 'y': -1.8893492457586798, 'z': 1.2229604071255062},\n",
    "            'projection': {'type': 'perspective'},\n",
    "            'up': {'x': 0, 'y': 0, 'z': 1}\n",
    "        }\n",
    "                  )\n",
    "\n",
    "new_cmin = uplot[(mplot > fig.layout.scene.yaxis.range[0]) & (mplot < fig.layout.scene.yaxis.range[1]),:]\n",
    "new_cmin = new_cmin[:,(xplot > fig.layout.scene.xaxis.range[0]) & (xplot < fig.layout.scene.xaxis.range[1])]\n",
    "new_cmax = np.amax(new_cmin)\n",
    "new_cmin = np.amin(new_cmin)\n",
    "fig.data[0].cmin = new_cmin\n",
    "fig.data[0].cmax = new_cmax\n",
    "\n",
    "fig.update_xaxes(title_standoff=50)\n",
    "fig.update_yaxes(title_standoff=50)\n",
    "\n",
    "f2 = go.FigureWidget(fig)\n",
    "display(f2)\n",
    "\n",
    "saveall = True\n",
    "if saveall:\n",
    "#     direc = os.getcwd() + '/figures/figure2/'        \n",
    "#     direc = os.getcwd() + '/powerpoints/ppt_figs/'\n",
    "    print(fname1)\n",
    "    fname2 = fname1.split('.')[0] + '_secondary.png'\n",
    "    fig.write_image(fname1, scale = 1.5, engine='kaleido')\n",
    "#     figR.write_image(fname1.split('.')[0]+'_right.png', scale = 1.5, engine='kaleido' )\n",
    "#     fig2.savefig(fname2, format='png', dpi=600)"
   ]
  },
  {
   "cell_type": "code",
   "execution_count": 20,
   "metadata": {},
   "outputs": [
    {
     "data": {
      "text/plain": [
       "layout.scene.Camera({\n",
       "    'center': {'x': 0, 'y': 0, 'z': 0},\n",
       "    'eye': {'x': 0.5428878983312541, 'y': -1.8893492457586798, 'z': 1.2229604071255062},\n",
       "    'projection': {'type': 'perspective'},\n",
       "    'up': {'x': 0, 'y': 0, 'z': 1}\n",
       "})"
      ]
     },
     "execution_count": 20,
     "metadata": {},
     "output_type": "execute_result"
    }
   ],
   "source": [
    "f2.layout.scene.camera"
   ]
  },
  {
   "cell_type": "markdown",
   "metadata": {},
   "source": [
    "# Figure 3 plot dynamics examples"
   ]
  },
  {
   "cell_type": "code",
   "execution_count": null,
   "metadata": {},
   "outputs": [],
   "source": [
    "## figure 3 dynamics examples\n",
    "\n",
    "params = {}\n",
    "params['tau_SGR'] = 120 # params['tau_SG'] #* 2\n",
    "params['TV0SR'] = 0.03\n",
    "params['TV0SG'] = .5\n",
    "params['a0'] = 1.\n",
    "params['tau_SG'] = 120\n",
    "params['tau_SR'] = 120\n",
    "params['a_c'] = 2.3\n",
    "\n",
    "res = 480\n",
    "\n",
    "figdim = (5,5)\n",
    "\n",
    "fig, fig2, ax, ax2 = plotwrap(params, res, figdim)\n",
    "\n",
    "saveall = False\n",
    "if saveall:\n",
    "    \n",
    "    ax[0].get_yaxis().set_ticks([])\n",
    "    ax[1].get_yaxis().set_ticks([])\n",
    "    ax2[0].get_yaxis().set_ticks([])\n",
    "    ax2[1].get_yaxis().set_ticks([])\n",
    "    \n",
    "    direc = os.getcwd() + '/../figures_v2/figure3_timetraj/'\n",
    "#     direc = os.getcwd() + '/powerpoints/ppt_figs/'\n",
    "\n",
    "    fname1 = direc + \"static_v4_blue.png\"\n",
    "    print(fname1)\n",
    "    fig.savefig(fname1, format='png', dpi=600)\n",
    "    \n",
    "    fname2 = direc + \"dynamic_v4_blue.png\"\n",
    "    print(fname2)\n",
    "    fig2.savefig(fname2, format='png', dpi=600)"
   ]
  },
  {
   "cell_type": "code",
   "execution_count": 73,
   "metadata": {},
   "outputs": [
    {
     "data": {
      "application/vnd.plotly.v1+json": {
       "config": {
        "plotlyServerURL": "https://plot.ly"
       },
       "data": [
        {
         "fill": "tozerox",
         "fillcolor": "rgba(148, 0,211, 0.3)",
         "mode": "none",
         "type": "scatter",
         "x": [
          2.125503355704698,
          2.098724832214765,
          2.071946308724832,
          2.045167785234899,
          2.045167785234899,
          2.0183892617449666,
          1.9916107382550337,
          1.9648322147651007,
          1.938053691275168,
          1.911275167785235,
          1.911275167785235,
          1.8844966442953022,
          1.8577181208053692,
          1.8309395973154363,
          1.8041610738255034,
          1.8041610738255034,
          1.7773825503355707,
          1.7506040268456378,
          1.7238255033557048,
          1.7238255033557048,
          1.697046979865772,
          1.670268456375839,
          1.6434899328859063,
          1.6167114093959734,
          1.6167114093959734,
          1.5899328859060404,
          1.5631543624161075,
          1.5363758389261746,
          1.5095973154362416,
          1.482818791946309,
          1.4461320378542895
         ],
         "y": [
          0.043400447427293064,
          0.07013422818791946,
          0.09686800894854586,
          0.12360178970917225,
          0.15033557046979865,
          0.17706935123042508,
          0.20380313199105146,
          0.23053691275167787,
          0.2572706935123043,
          0.2840044742729307,
          0.31073825503355706,
          0.33747203579418344,
          0.3642058165548099,
          0.3909395973154362,
          0.41767337807606264,
          0.4444071588366891,
          0.47114093959731546,
          0.4978747203579419,
          0.5246085011185683,
          0.5513422818791947,
          0.578076062639821,
          0.6048098434004474,
          0.6315436241610738,
          0.6582774049217003,
          0.6850111856823266,
          0.711744966442953,
          0.7384787472035793,
          0.7652125279642057,
          0.7919463087248322,
          0.8186800894854586,
          0.8601516567511339
         ]
        },
        {
         "fill": "tonextx",
         "fillcolor": "rgba(3, 255,127, 0.3)",
         "mode": "none",
         "type": "scatter",
         "x": [
          4,
          4,
          4,
          4,
          4,
          4,
          4,
          4,
          4,
          4,
          4,
          4,
          4,
          4,
          4,
          4,
          3.544765100671141,
          3.1430872483221477,
          2.875302013422819,
          2.60751677852349,
          2.3932885906040267,
          2.2326174496644295,
          2.071946308724832,
          1.938053691275168,
          1.8309395973154363,
          1.7506040268456378,
          1.670268456375839,
          1.5899328859060404,
          1.5363758389261746,
          1.482818791946309
         ],
         "y": [
          0.043400447427293064,
          0.07013422818791946,
          0.09686800894854586,
          0.12360178970917225,
          0.15033557046979865,
          0.17706935123042508,
          0.20380313199105146,
          0.23053691275167787,
          0.2572706935123043,
          0.2840044742729307,
          0.31073825503355706,
          0.33747203579418344,
          0.3642058165548099,
          0.3909395973154362,
          0.41767337807606264,
          0.4444071588366891,
          0.47114093959731546,
          0.4978747203579419,
          0.5246085011185683,
          0.5513422818791947,
          0.578076062639821,
          0.6048098434004474,
          0.6315436241610738,
          0.6582774049217003,
          0.6850111856823266,
          0.711744966442953,
          0.7384787472035793,
          0.7652125279642057,
          0.7919463087248322,
          0.8186800894854586
         ]
        },
        {
         "fill": "tozerox",
         "fillcolor": "rgba(255, 140, 34, 0.3)",
         "mode": "none",
         "type": "scatter",
         "x": [
          1.4461320378542895,
          1.454606257922872,
          1.4628569314854705,
          1.4708899556087098,
          1.478711071796976,
          1.4863258700960877,
          1.4937397930887093,
          1.5009581397843712,
          1.50798606940687,
          1.514828605081761,
          1.5214906374265742,
          1.5279769280463216,
          1.5342921129367975,
          1.5404407057980973,
          1.5464271012607294,
          1.5522555780266225,
          1.5579303019272746,
          1.56345532890123,
          1.5688346078930118,
          1.574071983675578,
          1.5791711995983293,
          1.5841359002626185,
          1.588969634126686,
          1.5936758560418745,
          1.598257929721944,
          1.6027191301472419,
          1.607062645905455,
          1.6112915814706152,
          1.61540895942198,
          1.6194177226043878,
          1.623320736231616,
          1.6271207899342592,
          1.630820599753583,
          1.6344228100827807,
          1.6379299955570181,
          1.6413446628936268,
          1.644669252683745,
          1.6479061411367022,
          1.6510576417783844,
          1.6541260071047983,
          1.6571134301920147,
          1.660022046263643,
          1.6628539342169544,
          1.66561111810875,
          1.6682955686020293,
          1.6709092043744962,
          1.673453893489911,
          1.6759314547332662,
          1.6783436589107408,
          1.6806922301153595,
          1.6829788469592704,
          1.68520514377351,
          1.6873727117761208,
          1.6894831002094557,
          1.6915378174474807,
          1.6935383320738637,
          1.6954860739316284,
          1.6973824351451168,
          1.699228771114993,
          1.7010264014869967,
          1.702776611095147,
          1.70448065088006,
          1.7061397387830433,
          1.7077550606166023,
          1.709327770911989,
          1.7108589937443868,
          1.7123498235363281,
          1.713801325839921,
          1.7152145380984396,
          1.7165904703878232,
          1.7179301061386134,
          1.7192344028388535,
          1.7205042927184364,
          1.7217406834154083,
          1.722944458624689,
          1.724116478729683,
          1.7252575814172284,
          1.7263685822763215,
          1.7274502753810503,
          1.72850343385815,
          1.7295288104395825,
          1.7305271380005456,
          1.731499130083285,
          1.7324454814070889,
          1.7333668683648324,
          1.734263949506419,
          1.7351373660094707,
          1.7359877421376038,
          1.7368156856866106,
          1.737621788418878,
          1.7384066264863376,
          1.739170760842267,
          1.7399147376422224,
          1.7406390886343963,
          1.7413443315396788,
          1.7420309704216919,
          1.742699496047062,
          1.7433503862361919,
          1.7439841062047723,
          1.7446011088962936,
          1.7452018353057783,
          1.7457867147949795,
          1.74635616539926,
          1.7469105941263778,
          1.7474503972473914,
          1.7479759605798886,
          1.7484876597637433,
          1.748985860529604,
          1.749470918960289,
          1.7499431817452988,
          1.750402986428602,
          1.750850661649895,
          1.7512865273794915,
          1.7517108951470168,
          1.7521240682640713,
          1.7525263420410166,
          1.7529180039980479,
          1.7532993340706913,
          0.01
         ],
         "y": [
          0.8721476510067113,
          0.8988814317673377,
          0.9256152125279642,
          0.9523489932885906,
          0.9790827740492171,
          1.0058165548098434,
          1.0325503355704697,
          1.0592841163310962,
          1.0860178970917225,
          1.112751677852349,
          1.1394854586129755,
          1.1662192393736017,
          1.192953020134228,
          1.2196868008948545,
          1.246420581655481,
          1.2731543624161075,
          1.2998881431767337,
          1.32662192393736,
          1.3533557046979865,
          1.380089485458613,
          1.4068232662192395,
          1.4335570469798657,
          1.460290827740492,
          1.4870246085011185,
          1.5137583892617448,
          1.5404921700223715,
          1.5672259507829978,
          1.593959731543624,
          1.6206935123042505,
          1.6474272930648768,
          1.6741610738255035,
          1.7008948545861298,
          1.727628635346756,
          1.7543624161073825,
          1.7810961968680088,
          1.8078299776286355,
          1.8345637583892618,
          1.861297539149888,
          1.8880313199105145,
          1.9147651006711408,
          1.9414988814317675,
          1.9682326621923938,
          1.99496644295302,
          2.0217002237136463,
          2.048434004474273,
          2.0751677852348993,
          2.101901565995526,
          2.1286353467561523,
          2.1553691275167783,
          2.182102908277405,
          2.2088366890380313,
          2.235570469798658,
          2.2623042505592843,
          2.2890380313199103,
          2.315771812080537,
          2.3425055928411633,
          2.3692393736017894,
          2.3959731543624163,
          2.4227069351230424,
          2.449440715883669,
          2.4761744966442953,
          2.5029082774049214,
          2.5296420581655483,
          2.5563758389261744,
          2.583109619686801,
          2.6098434004474274,
          2.6365771812080534,
          2.6633109619686803,
          2.6900447427293064,
          2.7167785234899333,
          2.74351230425056,
          2.770246085011186,
          2.7969798657718123,
          2.8237136465324384,
          2.8504474272930653,
          2.877181208053692,
          2.903914988814318,
          2.9306487695749444,
          2.9573825503355704,
          2.9841163310961973,
          3.0108501118568234,
          3.03758389261745,
          3.0643176733780764,
          3.0910514541387024,
          3.1177852348993293,
          3.1445190156599554,
          3.171252796420582,
          3.1979865771812084,
          3.2247203579418344,
          3.2514541387024614,
          3.2781879194630874,
          3.304921700223714,
          3.3316554809843404,
          3.3583892617449664,
          3.3851230425055934,
          3.4118568232662194,
          3.438590604026846,
          3.4653243847874724,
          3.4920581655480984,
          3.5187919463087254,
          3.5455257270693514,
          3.572259507829978,
          3.5989932885906044,
          3.6257270693512305,
          3.6524608501118574,
          3.6791946308724834,
          3.70592841163311,
          3.7326621923937364,
          3.7593959731543625,
          3.7861297539149894,
          3.8128635346756155,
          3.839597315436242,
          3.8663310961968684,
          3.8930648769574945,
          3.9197986577181214,
          3.9465324384787475,
          3.973266219239374,
          4,
          4
         ]
        },
        {
         "line": {
          "color": "green",
          "width": 4
         },
         "mode": "lines",
         "type": "scatter",
         "x": [
          1.011651156768853,
          1.0315868071634742,
          1.050996563144902,
          1.069894297595553,
          1.0882935174368042,
          1.1062073732828959,
          1.1236486688401714,
          1.1406298700583681,
          1.1571631140404983,
          1.1732602177176945,
          1.1889326862952143,
          1.204191721475643,
          1.2190482294651714,
          1.2335128287686727,
          1.2475958577791453,
          1.2613073821669523,
          1.2746572020741338,
          1.287654859118938,
          1.3003096432155732,
          1.3126305992140603,
          1.3246265333649245,
          1.3363060196133585,
          1.3476774057273375,
          1.3587488192640877,
          1.3695281733791551,
          1.380023172482234,
          1.390241317743802,
          1.4001899124564845,
          1.4098760672549948,
          1.4193067051983723,
          1.428488566718152,
          1.4374282144360047,
          1.4461320378542895,
          1.454606257922872,
          1.4628569314854705,
          1.4708899556087098,
          1.478711071796976,
          1.4863258700960877,
          1.4937397930887093,
          1.5009581397843712,
          1.50798606940687,
          1.514828605081761,
          1.5214906374265742,
          1.5279769280463216,
          1.5342921129367975,
          1.5404407057980973,
          1.5464271012607294,
          1.5522555780266225,
          1.5579303019272746,
          1.56345532890123,
          1.5688346078930118,
          1.574071983675578,
          1.5791711995983293,
          1.5841359002626185,
          1.588969634126686,
          1.5936758560418745,
          1.598257929721944,
          1.6027191301472419,
          1.607062645905455,
          1.6112915814706152,
          1.61540895942198,
          1.6194177226043878,
          1.623320736231616,
          1.6271207899342592,
          1.630820599753583,
          1.6344228100827807,
          1.6379299955570181,
          1.6413446628936268,
          1.644669252683745,
          1.6479061411367022,
          1.6510576417783844,
          1.6541260071047983,
          1.6571134301920147,
          1.660022046263643,
          1.6628539342169544,
          1.66561111810875,
          1.6682955686020293,
          1.6709092043744962,
          1.673453893489911,
          1.6759314547332662,
          1.6783436589107408,
          1.6806922301153595,
          1.6829788469592704,
          1.68520514377351,
          1.6873727117761208,
          1.6894831002094557,
          1.6915378174474807,
          1.6935383320738637,
          1.6954860739316284,
          1.6973824351451168,
          1.699228771114993,
          1.7010264014869967,
          1.702776611095147,
          1.70448065088006,
          1.7061397387830433,
          1.7077550606166023,
          1.709327770911989,
          1.7108589937443868,
          1.7123498235363281,
          1.713801325839921,
          1.7152145380984396,
          1.7165904703878232,
          1.7179301061386134,
          1.7192344028388535,
          1.7205042927184364,
          1.7217406834154083,
          1.722944458624689,
          1.724116478729683,
          1.7252575814172284,
          1.7263685822763215,
          1.7274502753810503,
          1.72850343385815,
          1.7295288104395825,
          1.7305271380005456,
          1.731499130083285,
          1.7324454814070889,
          1.7333668683648324,
          1.734263949506419,
          1.7351373660094707,
          1.7359877421376038,
          1.7368156856866106,
          1.737621788418878,
          1.7384066264863376,
          1.739170760842267,
          1.7399147376422224,
          1.7406390886343963,
          1.7413443315396788,
          1.7420309704216919,
          1.742699496047062,
          1.7433503862361919,
          1.7439841062047723,
          1.7446011088962936,
          1.7452018353057783,
          1.7457867147949795,
          1.74635616539926,
          1.7469105941263778,
          1.7474503972473914,
          1.7479759605798886,
          1.7484876597637433,
          1.748985860529604,
          1.749470918960289,
          1.7499431817452988,
          1.750402986428602,
          1.750850661649895,
          1.7512865273794915,
          1.7517108951470168,
          1.7521240682640713,
          1.7525263420410166,
          1.7529180039980479,
          1.7532993340706913
         ],
         "y": [
          0.016666666666666666,
          0.043400447427293064,
          0.07013422818791946,
          0.09686800894854586,
          0.12360178970917225,
          0.15033557046979865,
          0.17706935123042508,
          0.20380313199105146,
          0.23053691275167787,
          0.2572706935123043,
          0.2840044742729307,
          0.31073825503355706,
          0.33747203579418344,
          0.3642058165548099,
          0.3909395973154362,
          0.41767337807606264,
          0.4444071588366891,
          0.47114093959731546,
          0.4978747203579419,
          0.5246085011185683,
          0.5513422818791947,
          0.578076062639821,
          0.6048098434004474,
          0.6315436241610738,
          0.6582774049217003,
          0.6850111856823266,
          0.711744966442953,
          0.7384787472035793,
          0.7652125279642057,
          0.7919463087248322,
          0.8186800894854586,
          0.845413870246085,
          0.8721476510067113,
          0.8988814317673377,
          0.9256152125279642,
          0.9523489932885906,
          0.9790827740492171,
          1.0058165548098434,
          1.0325503355704697,
          1.0592841163310962,
          1.0860178970917225,
          1.112751677852349,
          1.1394854586129755,
          1.1662192393736017,
          1.192953020134228,
          1.2196868008948545,
          1.246420581655481,
          1.2731543624161075,
          1.2998881431767337,
          1.32662192393736,
          1.3533557046979865,
          1.380089485458613,
          1.4068232662192395,
          1.4335570469798657,
          1.460290827740492,
          1.4870246085011185,
          1.5137583892617448,
          1.5404921700223715,
          1.5672259507829978,
          1.593959731543624,
          1.6206935123042505,
          1.6474272930648768,
          1.6741610738255035,
          1.7008948545861298,
          1.727628635346756,
          1.7543624161073825,
          1.7810961968680088,
          1.8078299776286355,
          1.8345637583892618,
          1.861297539149888,
          1.8880313199105145,
          1.9147651006711408,
          1.9414988814317675,
          1.9682326621923938,
          1.99496644295302,
          2.0217002237136463,
          2.048434004474273,
          2.0751677852348993,
          2.101901565995526,
          2.1286353467561523,
          2.1553691275167783,
          2.182102908277405,
          2.2088366890380313,
          2.235570469798658,
          2.2623042505592843,
          2.2890380313199103,
          2.315771812080537,
          2.3425055928411633,
          2.3692393736017894,
          2.3959731543624163,
          2.4227069351230424,
          2.449440715883669,
          2.4761744966442953,
          2.5029082774049214,
          2.5296420581655483,
          2.5563758389261744,
          2.583109619686801,
          2.6098434004474274,
          2.6365771812080534,
          2.6633109619686803,
          2.6900447427293064,
          2.7167785234899333,
          2.74351230425056,
          2.770246085011186,
          2.7969798657718123,
          2.8237136465324384,
          2.8504474272930653,
          2.877181208053692,
          2.903914988814318,
          2.9306487695749444,
          2.9573825503355704,
          2.9841163310961973,
          3.0108501118568234,
          3.03758389261745,
          3.0643176733780764,
          3.0910514541387024,
          3.1177852348993293,
          3.1445190156599554,
          3.171252796420582,
          3.1979865771812084,
          3.2247203579418344,
          3.2514541387024614,
          3.2781879194630874,
          3.304921700223714,
          3.3316554809843404,
          3.3583892617449664,
          3.3851230425055934,
          3.4118568232662194,
          3.438590604026846,
          3.4653243847874724,
          3.4920581655480984,
          3.5187919463087254,
          3.5455257270693514,
          3.572259507829978,
          3.5989932885906044,
          3.6257270693512305,
          3.6524608501118574,
          3.6791946308724834,
          3.70592841163311,
          3.7326621923937364,
          3.7593959731543625,
          3.7861297539149894,
          3.8128635346756155,
          3.839597315436242,
          3.8663310961968684,
          3.8930648769574945,
          3.9197986577181214,
          3.9465324384787475,
          3.973266219239374,
          4
         ]
        },
        {
         "line": {
          "color": "blue",
          "width": 4
         },
         "mode": "lines",
         "type": "scatter",
         "x": [
          2.125503355704698,
          2.098724832214765,
          2.071946308724832,
          2.045167785234899,
          2.045167785234899,
          2.0183892617449666,
          1.9916107382550337,
          1.9648322147651007,
          1.938053691275168,
          1.911275167785235,
          1.911275167785235,
          1.8844966442953022,
          1.8577181208053692,
          1.8309395973154363,
          1.8041610738255034,
          1.8041610738255034,
          1.7773825503355707,
          1.7506040268456378,
          1.7238255033557048,
          1.7238255033557048,
          1.697046979865772,
          1.670268456375839,
          1.6434899328859063,
          1.6167114093959734,
          1.6167114093959734,
          1.5899328859060404,
          1.5631543624161075,
          1.5363758389261746,
          1.5095973154362416,
          1.482818791946309,
          1.4461320378542895
         ],
         "y": [
          0.043400447427293064,
          0.07013422818791946,
          0.09686800894854586,
          0.12360178970917225,
          0.15033557046979865,
          0.17706935123042508,
          0.20380313199105146,
          0.23053691275167787,
          0.2572706935123043,
          0.2840044742729307,
          0.31073825503355706,
          0.33747203579418344,
          0.3642058165548099,
          0.3909395973154362,
          0.41767337807606264,
          0.4444071588366891,
          0.47114093959731546,
          0.4978747203579419,
          0.5246085011185683,
          0.5513422818791947,
          0.578076062639821,
          0.6048098434004474,
          0.6315436241610738,
          0.6582774049217003,
          0.6850111856823266,
          0.711744966442953,
          0.7384787472035793,
          0.7652125279642057,
          0.7919463087248322,
          0.8186800894854586,
          0.8721476510067113
         ]
        },
        {
         "line": {
          "color": "red",
          "width": 4
         },
         "mode": "lines",
         "type": "scatter",
         "x": [
          0.01,
          1.4461320378542895
         ],
         "y": [
          0.8601516567511339,
          0.8601516567511339
         ]
        },
        {
         "line": {
          "color": "red",
          "width": 4
         },
         "mode": "lines",
         "type": "scatter",
         "x": [
          4,
          4,
          4,
          4,
          4,
          4,
          4,
          4,
          4,
          4,
          4,
          4,
          4,
          4,
          4,
          4,
          3.544765100671141,
          3.1430872483221477,
          2.875302013422819,
          2.60751677852349,
          2.3932885906040267,
          2.2326174496644295,
          2.071946308724832,
          1.938053691275168,
          1.8309395973154363,
          1.7506040268456378,
          1.670268456375839,
          1.5899328859060404,
          1.5363758389261746,
          1.482818791946309,
          1.4461320378542895
         ],
         "y": [
          0.043400447427293064,
          0.07013422818791946,
          0.09686800894854586,
          0.12360178970917225,
          0.15033557046979865,
          0.17706935123042508,
          0.20380313199105146,
          0.23053691275167787,
          0.2572706935123043,
          0.2840044742729307,
          0.31073825503355706,
          0.33747203579418344,
          0.3642058165548099,
          0.3909395973154362,
          0.41767337807606264,
          0.4444071588366891,
          0.47114093959731546,
          0.4978747203579419,
          0.5246085011185683,
          0.5513422818791947,
          0.578076062639821,
          0.6048098434004474,
          0.6315436241610738,
          0.6582774049217003,
          0.6850111856823266,
          0.711744966442953,
          0.7384787472035793,
          0.7652125279642057,
          0.7919463087248322,
          0.8186800894854586,
          0.8721476510067113
         ]
        }
       ],
       "layout": {
        "font": {
         "size": 18
        },
        "height": 600,
        "paper_bgcolor": "rgba(0,0,0,0)",
        "plot_bgcolor": "rgba(0,0,0,0)",
        "template": {
         "data": {
          "bar": [
           {
            "error_x": {
             "color": "rgb(36,36,36)"
            },
            "error_y": {
             "color": "rgb(36,36,36)"
            },
            "marker": {
             "line": {
              "color": "white",
              "width": 0.5
             }
            },
            "type": "bar"
           }
          ],
          "barpolar": [
           {
            "marker": {
             "line": {
              "color": "white",
              "width": 0.5
             }
            },
            "type": "barpolar"
           }
          ],
          "carpet": [
           {
            "aaxis": {
             "endlinecolor": "rgb(36,36,36)",
             "gridcolor": "white",
             "linecolor": "white",
             "minorgridcolor": "white",
             "startlinecolor": "rgb(36,36,36)"
            },
            "baxis": {
             "endlinecolor": "rgb(36,36,36)",
             "gridcolor": "white",
             "linecolor": "white",
             "minorgridcolor": "white",
             "startlinecolor": "rgb(36,36,36)"
            },
            "type": "carpet"
           }
          ],
          "choropleth": [
           {
            "colorbar": {
             "outlinewidth": 1,
             "tickcolor": "rgb(36,36,36)",
             "ticks": "outside"
            },
            "type": "choropleth"
           }
          ],
          "contour": [
           {
            "colorbar": {
             "outlinewidth": 1,
             "tickcolor": "rgb(36,36,36)",
             "ticks": "outside"
            },
            "colorscale": [
             [
              0,
              "#440154"
             ],
             [
              0.1111111111111111,
              "#482878"
             ],
             [
              0.2222222222222222,
              "#3e4989"
             ],
             [
              0.3333333333333333,
              "#31688e"
             ],
             [
              0.4444444444444444,
              "#26828e"
             ],
             [
              0.5555555555555556,
              "#1f9e89"
             ],
             [
              0.6666666666666666,
              "#35b779"
             ],
             [
              0.7777777777777778,
              "#6ece58"
             ],
             [
              0.8888888888888888,
              "#b5de2b"
             ],
             [
              1,
              "#fde725"
             ]
            ],
            "type": "contour"
           }
          ],
          "contourcarpet": [
           {
            "colorbar": {
             "outlinewidth": 1,
             "tickcolor": "rgb(36,36,36)",
             "ticks": "outside"
            },
            "type": "contourcarpet"
           }
          ],
          "heatmap": [
           {
            "colorbar": {
             "outlinewidth": 1,
             "tickcolor": "rgb(36,36,36)",
             "ticks": "outside"
            },
            "colorscale": [
             [
              0,
              "#440154"
             ],
             [
              0.1111111111111111,
              "#482878"
             ],
             [
              0.2222222222222222,
              "#3e4989"
             ],
             [
              0.3333333333333333,
              "#31688e"
             ],
             [
              0.4444444444444444,
              "#26828e"
             ],
             [
              0.5555555555555556,
              "#1f9e89"
             ],
             [
              0.6666666666666666,
              "#35b779"
             ],
             [
              0.7777777777777778,
              "#6ece58"
             ],
             [
              0.8888888888888888,
              "#b5de2b"
             ],
             [
              1,
              "#fde725"
             ]
            ],
            "type": "heatmap"
           }
          ],
          "heatmapgl": [
           {
            "colorbar": {
             "outlinewidth": 1,
             "tickcolor": "rgb(36,36,36)",
             "ticks": "outside"
            },
            "colorscale": [
             [
              0,
              "#440154"
             ],
             [
              0.1111111111111111,
              "#482878"
             ],
             [
              0.2222222222222222,
              "#3e4989"
             ],
             [
              0.3333333333333333,
              "#31688e"
             ],
             [
              0.4444444444444444,
              "#26828e"
             ],
             [
              0.5555555555555556,
              "#1f9e89"
             ],
             [
              0.6666666666666666,
              "#35b779"
             ],
             [
              0.7777777777777778,
              "#6ece58"
             ],
             [
              0.8888888888888888,
              "#b5de2b"
             ],
             [
              1,
              "#fde725"
             ]
            ],
            "type": "heatmapgl"
           }
          ],
          "histogram": [
           {
            "marker": {
             "line": {
              "color": "white",
              "width": 0.6
             }
            },
            "type": "histogram"
           }
          ],
          "histogram2d": [
           {
            "colorbar": {
             "outlinewidth": 1,
             "tickcolor": "rgb(36,36,36)",
             "ticks": "outside"
            },
            "colorscale": [
             [
              0,
              "#440154"
             ],
             [
              0.1111111111111111,
              "#482878"
             ],
             [
              0.2222222222222222,
              "#3e4989"
             ],
             [
              0.3333333333333333,
              "#31688e"
             ],
             [
              0.4444444444444444,
              "#26828e"
             ],
             [
              0.5555555555555556,
              "#1f9e89"
             ],
             [
              0.6666666666666666,
              "#35b779"
             ],
             [
              0.7777777777777778,
              "#6ece58"
             ],
             [
              0.8888888888888888,
              "#b5de2b"
             ],
             [
              1,
              "#fde725"
             ]
            ],
            "type": "histogram2d"
           }
          ],
          "histogram2dcontour": [
           {
            "colorbar": {
             "outlinewidth": 1,
             "tickcolor": "rgb(36,36,36)",
             "ticks": "outside"
            },
            "colorscale": [
             [
              0,
              "#440154"
             ],
             [
              0.1111111111111111,
              "#482878"
             ],
             [
              0.2222222222222222,
              "#3e4989"
             ],
             [
              0.3333333333333333,
              "#31688e"
             ],
             [
              0.4444444444444444,
              "#26828e"
             ],
             [
              0.5555555555555556,
              "#1f9e89"
             ],
             [
              0.6666666666666666,
              "#35b779"
             ],
             [
              0.7777777777777778,
              "#6ece58"
             ],
             [
              0.8888888888888888,
              "#b5de2b"
             ],
             [
              1,
              "#fde725"
             ]
            ],
            "type": "histogram2dcontour"
           }
          ],
          "mesh3d": [
           {
            "colorbar": {
             "outlinewidth": 1,
             "tickcolor": "rgb(36,36,36)",
             "ticks": "outside"
            },
            "type": "mesh3d"
           }
          ],
          "parcoords": [
           {
            "line": {
             "colorbar": {
              "outlinewidth": 1,
              "tickcolor": "rgb(36,36,36)",
              "ticks": "outside"
             }
            },
            "type": "parcoords"
           }
          ],
          "pie": [
           {
            "automargin": true,
            "type": "pie"
           }
          ],
          "scatter": [
           {
            "marker": {
             "colorbar": {
              "outlinewidth": 1,
              "tickcolor": "rgb(36,36,36)",
              "ticks": "outside"
             }
            },
            "type": "scatter"
           }
          ],
          "scatter3d": [
           {
            "line": {
             "colorbar": {
              "outlinewidth": 1,
              "tickcolor": "rgb(36,36,36)",
              "ticks": "outside"
             }
            },
            "marker": {
             "colorbar": {
              "outlinewidth": 1,
              "tickcolor": "rgb(36,36,36)",
              "ticks": "outside"
             }
            },
            "type": "scatter3d"
           }
          ],
          "scattercarpet": [
           {
            "marker": {
             "colorbar": {
              "outlinewidth": 1,
              "tickcolor": "rgb(36,36,36)",
              "ticks": "outside"
             }
            },
            "type": "scattercarpet"
           }
          ],
          "scattergeo": [
           {
            "marker": {
             "colorbar": {
              "outlinewidth": 1,
              "tickcolor": "rgb(36,36,36)",
              "ticks": "outside"
             }
            },
            "type": "scattergeo"
           }
          ],
          "scattergl": [
           {
            "marker": {
             "colorbar": {
              "outlinewidth": 1,
              "tickcolor": "rgb(36,36,36)",
              "ticks": "outside"
             }
            },
            "type": "scattergl"
           }
          ],
          "scattermapbox": [
           {
            "marker": {
             "colorbar": {
              "outlinewidth": 1,
              "tickcolor": "rgb(36,36,36)",
              "ticks": "outside"
             }
            },
            "type": "scattermapbox"
           }
          ],
          "scatterpolar": [
           {
            "marker": {
             "colorbar": {
              "outlinewidth": 1,
              "tickcolor": "rgb(36,36,36)",
              "ticks": "outside"
             }
            },
            "type": "scatterpolar"
           }
          ],
          "scatterpolargl": [
           {
            "marker": {
             "colorbar": {
              "outlinewidth": 1,
              "tickcolor": "rgb(36,36,36)",
              "ticks": "outside"
             }
            },
            "type": "scatterpolargl"
           }
          ],
          "scatterternary": [
           {
            "marker": {
             "colorbar": {
              "outlinewidth": 1,
              "tickcolor": "rgb(36,36,36)",
              "ticks": "outside"
             }
            },
            "type": "scatterternary"
           }
          ],
          "surface": [
           {
            "colorbar": {
             "outlinewidth": 1,
             "tickcolor": "rgb(36,36,36)",
             "ticks": "outside"
            },
            "colorscale": [
             [
              0,
              "#440154"
             ],
             [
              0.1111111111111111,
              "#482878"
             ],
             [
              0.2222222222222222,
              "#3e4989"
             ],
             [
              0.3333333333333333,
              "#31688e"
             ],
             [
              0.4444444444444444,
              "#26828e"
             ],
             [
              0.5555555555555556,
              "#1f9e89"
             ],
             [
              0.6666666666666666,
              "#35b779"
             ],
             [
              0.7777777777777778,
              "#6ece58"
             ],
             [
              0.8888888888888888,
              "#b5de2b"
             ],
             [
              1,
              "#fde725"
             ]
            ],
            "type": "surface"
           }
          ],
          "table": [
           {
            "cells": {
             "fill": {
              "color": "rgb(237,237,237)"
             },
             "line": {
              "color": "white"
             }
            },
            "header": {
             "fill": {
              "color": "rgb(217,217,217)"
             },
             "line": {
              "color": "white"
             }
            },
            "type": "table"
           }
          ]
         },
         "layout": {
          "annotationdefaults": {
           "arrowhead": 0,
           "arrowwidth": 1
          },
          "coloraxis": {
           "colorbar": {
            "outlinewidth": 1,
            "tickcolor": "rgb(36,36,36)",
            "ticks": "outside"
           }
          },
          "colorscale": {
           "diverging": [
            [
             0,
             "rgb(103,0,31)"
            ],
            [
             0.1,
             "rgb(178,24,43)"
            ],
            [
             0.2,
             "rgb(214,96,77)"
            ],
            [
             0.3,
             "rgb(244,165,130)"
            ],
            [
             0.4,
             "rgb(253,219,199)"
            ],
            [
             0.5,
             "rgb(247,247,247)"
            ],
            [
             0.6,
             "rgb(209,229,240)"
            ],
            [
             0.7,
             "rgb(146,197,222)"
            ],
            [
             0.8,
             "rgb(67,147,195)"
            ],
            [
             0.9,
             "rgb(33,102,172)"
            ],
            [
             1,
             "rgb(5,48,97)"
            ]
           ],
           "sequential": [
            [
             0,
             "#440154"
            ],
            [
             0.1111111111111111,
             "#482878"
            ],
            [
             0.2222222222222222,
             "#3e4989"
            ],
            [
             0.3333333333333333,
             "#31688e"
            ],
            [
             0.4444444444444444,
             "#26828e"
            ],
            [
             0.5555555555555556,
             "#1f9e89"
            ],
            [
             0.6666666666666666,
             "#35b779"
            ],
            [
             0.7777777777777778,
             "#6ece58"
            ],
            [
             0.8888888888888888,
             "#b5de2b"
            ],
            [
             1,
             "#fde725"
            ]
           ],
           "sequentialminus": [
            [
             0,
             "#440154"
            ],
            [
             0.1111111111111111,
             "#482878"
            ],
            [
             0.2222222222222222,
             "#3e4989"
            ],
            [
             0.3333333333333333,
             "#31688e"
            ],
            [
             0.4444444444444444,
             "#26828e"
            ],
            [
             0.5555555555555556,
             "#1f9e89"
            ],
            [
             0.6666666666666666,
             "#35b779"
            ],
            [
             0.7777777777777778,
             "#6ece58"
            ],
            [
             0.8888888888888888,
             "#b5de2b"
            ],
            [
             1,
             "#fde725"
            ]
           ]
          },
          "colorway": [
           "#1F77B4",
           "#FF7F0E",
           "#2CA02C",
           "#D62728",
           "#9467BD",
           "#8C564B",
           "#E377C2",
           "#7F7F7F",
           "#BCBD22",
           "#17BECF"
          ],
          "font": {
           "color": "rgb(36,36,36)"
          },
          "geo": {
           "bgcolor": "white",
           "lakecolor": "white",
           "landcolor": "white",
           "showlakes": true,
           "showland": true,
           "subunitcolor": "white"
          },
          "hoverlabel": {
           "align": "left"
          },
          "hovermode": "closest",
          "mapbox": {
           "style": "light"
          },
          "paper_bgcolor": "white",
          "plot_bgcolor": "white",
          "polar": {
           "angularaxis": {
            "gridcolor": "rgb(232,232,232)",
            "linecolor": "rgb(36,36,36)",
            "showgrid": false,
            "showline": true,
            "ticks": "outside"
           },
           "bgcolor": "white",
           "radialaxis": {
            "gridcolor": "rgb(232,232,232)",
            "linecolor": "rgb(36,36,36)",
            "showgrid": false,
            "showline": true,
            "ticks": "outside"
           }
          },
          "scene": {
           "xaxis": {
            "backgroundcolor": "white",
            "gridcolor": "rgb(232,232,232)",
            "gridwidth": 2,
            "linecolor": "rgb(36,36,36)",
            "showbackground": true,
            "showgrid": false,
            "showline": true,
            "ticks": "outside",
            "zeroline": false,
            "zerolinecolor": "rgb(36,36,36)"
           },
           "yaxis": {
            "backgroundcolor": "white",
            "gridcolor": "rgb(232,232,232)",
            "gridwidth": 2,
            "linecolor": "rgb(36,36,36)",
            "showbackground": true,
            "showgrid": false,
            "showline": true,
            "ticks": "outside",
            "zeroline": false,
            "zerolinecolor": "rgb(36,36,36)"
           },
           "zaxis": {
            "backgroundcolor": "white",
            "gridcolor": "rgb(232,232,232)",
            "gridwidth": 2,
            "linecolor": "rgb(36,36,36)",
            "showbackground": true,
            "showgrid": false,
            "showline": true,
            "ticks": "outside",
            "zeroline": false,
            "zerolinecolor": "rgb(36,36,36)"
           }
          },
          "shapedefaults": {
           "fillcolor": "black",
           "line": {
            "width": 0
           },
           "opacity": 0.3
          },
          "ternary": {
           "aaxis": {
            "gridcolor": "rgb(232,232,232)",
            "linecolor": "rgb(36,36,36)",
            "showgrid": false,
            "showline": true,
            "ticks": "outside"
           },
           "baxis": {
            "gridcolor": "rgb(232,232,232)",
            "linecolor": "rgb(36,36,36)",
            "showgrid": false,
            "showline": true,
            "ticks": "outside"
           },
           "bgcolor": "white",
           "caxis": {
            "gridcolor": "rgb(232,232,232)",
            "linecolor": "rgb(36,36,36)",
            "showgrid": false,
            "showline": true,
            "ticks": "outside"
           }
          },
          "title": {
           "x": 0.05
          },
          "xaxis": {
           "automargin": true,
           "gridcolor": "rgb(232,232,232)",
           "linecolor": "rgb(36,36,36)",
           "showgrid": false,
           "showline": true,
           "ticks": "outside",
           "title": {
            "standoff": 15
           },
           "zeroline": false,
           "zerolinecolor": "rgb(36,36,36)"
          },
          "yaxis": {
           "automargin": true,
           "gridcolor": "rgb(232,232,232)",
           "linecolor": "rgb(36,36,36)",
           "showgrid": false,
           "showline": true,
           "ticks": "outside",
           "title": {
            "standoff": 15
           },
           "zeroline": false,
           "zerolinecolor": "rgb(36,36,36)"
          }
         }
        },
        "width": 700,
        "xaxis": {
         "mirror": true,
         "range": [
          0,
          3
         ],
         "showline": true
        },
        "yaxis": {
         "mirror": true,
         "range": [
          0.13020134228187918,
          1.5
         ],
         "showline": true
        }
       }
      },
      "text/html": [
       "<div>                            <div id=\"048d9393-0efb-4bd6-895e-2a65b313ffe8\" class=\"plotly-graph-div\" style=\"height:600px; width:700px;\"></div>            <script type=\"text/javascript\">                require([\"plotly\"], function(Plotly) {                    window.PLOTLYENV=window.PLOTLYENV || {};                                    if (document.getElementById(\"048d9393-0efb-4bd6-895e-2a65b313ffe8\")) {                    Plotly.newPlot(                        \"048d9393-0efb-4bd6-895e-2a65b313ffe8\",                        [{\"fill\": \"tozerox\", \"fillcolor\": \"rgba(148, 0,211, 0.3)\", \"mode\": \"none\", \"type\": \"scatter\", \"x\": [2.125503355704698, 2.098724832214765, 2.071946308724832, 2.045167785234899, 2.045167785234899, 2.0183892617449666, 1.9916107382550337, 1.9648322147651007, 1.938053691275168, 1.911275167785235, 1.911275167785235, 1.8844966442953022, 1.8577181208053692, 1.8309395973154363, 1.8041610738255034, 1.8041610738255034, 1.7773825503355707, 1.7506040268456378, 1.7238255033557048, 1.7238255033557048, 1.697046979865772, 1.670268456375839, 1.6434899328859063, 1.6167114093959734, 1.6167114093959734, 1.5899328859060404, 1.5631543624161075, 1.5363758389261746, 1.5095973154362416, 1.482818791946309, 1.4461320378542895], \"y\": [0.043400447427293064, 0.07013422818791946, 0.09686800894854586, 0.12360178970917225, 0.15033557046979865, 0.17706935123042508, 0.20380313199105146, 0.23053691275167787, 0.2572706935123043, 0.2840044742729307, 0.31073825503355706, 0.33747203579418344, 0.3642058165548099, 0.3909395973154362, 0.41767337807606264, 0.4444071588366891, 0.47114093959731546, 0.4978747203579419, 0.5246085011185683, 0.5513422818791947, 0.578076062639821, 0.6048098434004474, 0.6315436241610738, 0.6582774049217003, 0.6850111856823266, 0.711744966442953, 0.7384787472035793, 0.7652125279642057, 0.7919463087248322, 0.8186800894854586, 0.8601516567511339]}, {\"fill\": \"tonextx\", \"fillcolor\": \"rgba(3, 255,127, 0.3)\", \"mode\": \"none\", \"type\": \"scatter\", \"x\": [4.0, 4.0, 4.0, 4.0, 4.0, 4.0, 4.0, 4.0, 4.0, 4.0, 4.0, 4.0, 4.0, 4.0, 4.0, 4.0, 3.544765100671141, 3.1430872483221477, 2.875302013422819, 2.60751677852349, 2.3932885906040267, 2.2326174496644295, 2.071946308724832, 1.938053691275168, 1.8309395973154363, 1.7506040268456378, 1.670268456375839, 1.5899328859060404, 1.5363758389261746, 1.482818791946309], \"y\": [0.043400447427293064, 0.07013422818791946, 0.09686800894854586, 0.12360178970917225, 0.15033557046979865, 0.17706935123042508, 0.20380313199105146, 0.23053691275167787, 0.2572706935123043, 0.2840044742729307, 0.31073825503355706, 0.33747203579418344, 0.3642058165548099, 0.3909395973154362, 0.41767337807606264, 0.4444071588366891, 0.47114093959731546, 0.4978747203579419, 0.5246085011185683, 0.5513422818791947, 0.578076062639821, 0.6048098434004474, 0.6315436241610738, 0.6582774049217003, 0.6850111856823266, 0.711744966442953, 0.7384787472035793, 0.7652125279642057, 0.7919463087248322, 0.8186800894854586]}, {\"fill\": \"tozerox\", \"fillcolor\": \"rgba(255, 140, 34, 0.3)\", \"mode\": \"none\", \"type\": \"scatter\", \"x\": [1.4461320378542895, 1.454606257922872, 1.4628569314854705, 1.4708899556087098, 1.478711071796976, 1.4863258700960877, 1.4937397930887093, 1.5009581397843712, 1.50798606940687, 1.514828605081761, 1.5214906374265742, 1.5279769280463216, 1.5342921129367975, 1.5404407057980973, 1.5464271012607294, 1.5522555780266225, 1.5579303019272746, 1.56345532890123, 1.5688346078930118, 1.574071983675578, 1.5791711995983293, 1.5841359002626185, 1.588969634126686, 1.5936758560418745, 1.598257929721944, 1.6027191301472419, 1.607062645905455, 1.6112915814706152, 1.61540895942198, 1.6194177226043878, 1.623320736231616, 1.6271207899342592, 1.630820599753583, 1.6344228100827807, 1.6379299955570181, 1.6413446628936268, 1.644669252683745, 1.6479061411367022, 1.6510576417783844, 1.6541260071047983, 1.6571134301920147, 1.660022046263643, 1.6628539342169544, 1.66561111810875, 1.6682955686020293, 1.6709092043744962, 1.673453893489911, 1.6759314547332662, 1.6783436589107408, 1.6806922301153595, 1.6829788469592704, 1.68520514377351, 1.6873727117761208, 1.6894831002094557, 1.6915378174474807, 1.6935383320738637, 1.6954860739316284, 1.6973824351451168, 1.699228771114993, 1.7010264014869967, 1.702776611095147, 1.70448065088006, 1.7061397387830433, 1.7077550606166023, 1.709327770911989, 1.7108589937443868, 1.7123498235363281, 1.713801325839921, 1.7152145380984396, 1.7165904703878232, 1.7179301061386134, 1.7192344028388535, 1.7205042927184364, 1.7217406834154083, 1.722944458624689, 1.724116478729683, 1.7252575814172284, 1.7263685822763215, 1.7274502753810503, 1.72850343385815, 1.7295288104395825, 1.7305271380005456, 1.731499130083285, 1.7324454814070889, 1.7333668683648324, 1.734263949506419, 1.7351373660094707, 1.7359877421376038, 1.7368156856866106, 1.737621788418878, 1.7384066264863376, 1.739170760842267, 1.7399147376422224, 1.7406390886343963, 1.7413443315396788, 1.7420309704216919, 1.742699496047062, 1.7433503862361919, 1.7439841062047723, 1.7446011088962936, 1.7452018353057783, 1.7457867147949795, 1.74635616539926, 1.7469105941263778, 1.7474503972473914, 1.7479759605798886, 1.7484876597637433, 1.748985860529604, 1.749470918960289, 1.7499431817452988, 1.750402986428602, 1.750850661649895, 1.7512865273794915, 1.7517108951470168, 1.7521240682640713, 1.7525263420410166, 1.7529180039980479, 1.7532993340706913, 0.01], \"y\": [0.8721476510067113, 0.8988814317673377, 0.9256152125279642, 0.9523489932885906, 0.9790827740492171, 1.0058165548098434, 1.0325503355704697, 1.0592841163310962, 1.0860178970917225, 1.112751677852349, 1.1394854586129755, 1.1662192393736017, 1.192953020134228, 1.2196868008948545, 1.246420581655481, 1.2731543624161075, 1.2998881431767337, 1.32662192393736, 1.3533557046979865, 1.380089485458613, 1.4068232662192395, 1.4335570469798657, 1.460290827740492, 1.4870246085011185, 1.5137583892617448, 1.5404921700223715, 1.5672259507829978, 1.593959731543624, 1.6206935123042505, 1.6474272930648768, 1.6741610738255035, 1.7008948545861298, 1.727628635346756, 1.7543624161073825, 1.7810961968680088, 1.8078299776286355, 1.8345637583892618, 1.861297539149888, 1.8880313199105145, 1.9147651006711408, 1.9414988814317675, 1.9682326621923938, 1.99496644295302, 2.0217002237136463, 2.048434004474273, 2.0751677852348993, 2.101901565995526, 2.1286353467561523, 2.1553691275167783, 2.182102908277405, 2.2088366890380313, 2.235570469798658, 2.2623042505592843, 2.2890380313199103, 2.315771812080537, 2.3425055928411633, 2.3692393736017894, 2.3959731543624163, 2.4227069351230424, 2.449440715883669, 2.4761744966442953, 2.5029082774049214, 2.5296420581655483, 2.5563758389261744, 2.583109619686801, 2.6098434004474274, 2.6365771812080534, 2.6633109619686803, 2.6900447427293064, 2.7167785234899333, 2.74351230425056, 2.770246085011186, 2.7969798657718123, 2.8237136465324384, 2.8504474272930653, 2.877181208053692, 2.903914988814318, 2.9306487695749444, 2.9573825503355704, 2.9841163310961973, 3.0108501118568234, 3.03758389261745, 3.0643176733780764, 3.0910514541387024, 3.1177852348993293, 3.1445190156599554, 3.171252796420582, 3.1979865771812084, 3.2247203579418344, 3.2514541387024614, 3.2781879194630874, 3.304921700223714, 3.3316554809843404, 3.3583892617449664, 3.3851230425055934, 3.4118568232662194, 3.438590604026846, 3.4653243847874724, 3.4920581655480984, 3.5187919463087254, 3.5455257270693514, 3.572259507829978, 3.5989932885906044, 3.6257270693512305, 3.6524608501118574, 3.6791946308724834, 3.70592841163311, 3.7326621923937364, 3.7593959731543625, 3.7861297539149894, 3.8128635346756155, 3.839597315436242, 3.8663310961968684, 3.8930648769574945, 3.9197986577181214, 3.9465324384787475, 3.973266219239374, 4.0, 4.0]}, {\"line\": {\"color\": \"green\", \"width\": 4}, \"mode\": \"lines\", \"type\": \"scatter\", \"x\": [1.011651156768853, 1.0315868071634742, 1.050996563144902, 1.069894297595553, 1.0882935174368042, 1.1062073732828959, 1.1236486688401714, 1.1406298700583681, 1.1571631140404983, 1.1732602177176945, 1.1889326862952143, 1.204191721475643, 1.2190482294651714, 1.2335128287686727, 1.2475958577791453, 1.2613073821669523, 1.2746572020741338, 1.287654859118938, 1.3003096432155732, 1.3126305992140603, 1.3246265333649245, 1.3363060196133585, 1.3476774057273375, 1.3587488192640877, 1.3695281733791551, 1.380023172482234, 1.390241317743802, 1.4001899124564845, 1.4098760672549948, 1.4193067051983723, 1.428488566718152, 1.4374282144360047, 1.4461320378542895, 1.454606257922872, 1.4628569314854705, 1.4708899556087098, 1.478711071796976, 1.4863258700960877, 1.4937397930887093, 1.5009581397843712, 1.50798606940687, 1.514828605081761, 1.5214906374265742, 1.5279769280463216, 1.5342921129367975, 1.5404407057980973, 1.5464271012607294, 1.5522555780266225, 1.5579303019272746, 1.56345532890123, 1.5688346078930118, 1.574071983675578, 1.5791711995983293, 1.5841359002626185, 1.588969634126686, 1.5936758560418745, 1.598257929721944, 1.6027191301472419, 1.607062645905455, 1.6112915814706152, 1.61540895942198, 1.6194177226043878, 1.623320736231616, 1.6271207899342592, 1.630820599753583, 1.6344228100827807, 1.6379299955570181, 1.6413446628936268, 1.644669252683745, 1.6479061411367022, 1.6510576417783844, 1.6541260071047983, 1.6571134301920147, 1.660022046263643, 1.6628539342169544, 1.66561111810875, 1.6682955686020293, 1.6709092043744962, 1.673453893489911, 1.6759314547332662, 1.6783436589107408, 1.6806922301153595, 1.6829788469592704, 1.68520514377351, 1.6873727117761208, 1.6894831002094557, 1.6915378174474807, 1.6935383320738637, 1.6954860739316284, 1.6973824351451168, 1.699228771114993, 1.7010264014869967, 1.702776611095147, 1.70448065088006, 1.7061397387830433, 1.7077550606166023, 1.709327770911989, 1.7108589937443868, 1.7123498235363281, 1.713801325839921, 1.7152145380984396, 1.7165904703878232, 1.7179301061386134, 1.7192344028388535, 1.7205042927184364, 1.7217406834154083, 1.722944458624689, 1.724116478729683, 1.7252575814172284, 1.7263685822763215, 1.7274502753810503, 1.72850343385815, 1.7295288104395825, 1.7305271380005456, 1.731499130083285, 1.7324454814070889, 1.7333668683648324, 1.734263949506419, 1.7351373660094707, 1.7359877421376038, 1.7368156856866106, 1.737621788418878, 1.7384066264863376, 1.739170760842267, 1.7399147376422224, 1.7406390886343963, 1.7413443315396788, 1.7420309704216919, 1.742699496047062, 1.7433503862361919, 1.7439841062047723, 1.7446011088962936, 1.7452018353057783, 1.7457867147949795, 1.74635616539926, 1.7469105941263778, 1.7474503972473914, 1.7479759605798886, 1.7484876597637433, 1.748985860529604, 1.749470918960289, 1.7499431817452988, 1.750402986428602, 1.750850661649895, 1.7512865273794915, 1.7517108951470168, 1.7521240682640713, 1.7525263420410166, 1.7529180039980479, 1.7532993340706913], \"y\": [0.016666666666666666, 0.043400447427293064, 0.07013422818791946, 0.09686800894854586, 0.12360178970917225, 0.15033557046979865, 0.17706935123042508, 0.20380313199105146, 0.23053691275167787, 0.2572706935123043, 0.2840044742729307, 0.31073825503355706, 0.33747203579418344, 0.3642058165548099, 0.3909395973154362, 0.41767337807606264, 0.4444071588366891, 0.47114093959731546, 0.4978747203579419, 0.5246085011185683, 0.5513422818791947, 0.578076062639821, 0.6048098434004474, 0.6315436241610738, 0.6582774049217003, 0.6850111856823266, 0.711744966442953, 0.7384787472035793, 0.7652125279642057, 0.7919463087248322, 0.8186800894854586, 0.845413870246085, 0.8721476510067113, 0.8988814317673377, 0.9256152125279642, 0.9523489932885906, 0.9790827740492171, 1.0058165548098434, 1.0325503355704697, 1.0592841163310962, 1.0860178970917225, 1.112751677852349, 1.1394854586129755, 1.1662192393736017, 1.192953020134228, 1.2196868008948545, 1.246420581655481, 1.2731543624161075, 1.2998881431767337, 1.32662192393736, 1.3533557046979865, 1.380089485458613, 1.4068232662192395, 1.4335570469798657, 1.460290827740492, 1.4870246085011185, 1.5137583892617448, 1.5404921700223715, 1.5672259507829978, 1.593959731543624, 1.6206935123042505, 1.6474272930648768, 1.6741610738255035, 1.7008948545861298, 1.727628635346756, 1.7543624161073825, 1.7810961968680088, 1.8078299776286355, 1.8345637583892618, 1.861297539149888, 1.8880313199105145, 1.9147651006711408, 1.9414988814317675, 1.9682326621923938, 1.99496644295302, 2.0217002237136463, 2.048434004474273, 2.0751677852348993, 2.101901565995526, 2.1286353467561523, 2.1553691275167783, 2.182102908277405, 2.2088366890380313, 2.235570469798658, 2.2623042505592843, 2.2890380313199103, 2.315771812080537, 2.3425055928411633, 2.3692393736017894, 2.3959731543624163, 2.4227069351230424, 2.449440715883669, 2.4761744966442953, 2.5029082774049214, 2.5296420581655483, 2.5563758389261744, 2.583109619686801, 2.6098434004474274, 2.6365771812080534, 2.6633109619686803, 2.6900447427293064, 2.7167785234899333, 2.74351230425056, 2.770246085011186, 2.7969798657718123, 2.8237136465324384, 2.8504474272930653, 2.877181208053692, 2.903914988814318, 2.9306487695749444, 2.9573825503355704, 2.9841163310961973, 3.0108501118568234, 3.03758389261745, 3.0643176733780764, 3.0910514541387024, 3.1177852348993293, 3.1445190156599554, 3.171252796420582, 3.1979865771812084, 3.2247203579418344, 3.2514541387024614, 3.2781879194630874, 3.304921700223714, 3.3316554809843404, 3.3583892617449664, 3.3851230425055934, 3.4118568232662194, 3.438590604026846, 3.4653243847874724, 3.4920581655480984, 3.5187919463087254, 3.5455257270693514, 3.572259507829978, 3.5989932885906044, 3.6257270693512305, 3.6524608501118574, 3.6791946308724834, 3.70592841163311, 3.7326621923937364, 3.7593959731543625, 3.7861297539149894, 3.8128635346756155, 3.839597315436242, 3.8663310961968684, 3.8930648769574945, 3.9197986577181214, 3.9465324384787475, 3.973266219239374, 4.0]}, {\"line\": {\"color\": \"blue\", \"width\": 4}, \"mode\": \"lines\", \"type\": \"scatter\", \"x\": [2.125503355704698, 2.098724832214765, 2.071946308724832, 2.045167785234899, 2.045167785234899, 2.0183892617449666, 1.9916107382550337, 1.9648322147651007, 1.938053691275168, 1.911275167785235, 1.911275167785235, 1.8844966442953022, 1.8577181208053692, 1.8309395973154363, 1.8041610738255034, 1.8041610738255034, 1.7773825503355707, 1.7506040268456378, 1.7238255033557048, 1.7238255033557048, 1.697046979865772, 1.670268456375839, 1.6434899328859063, 1.6167114093959734, 1.6167114093959734, 1.5899328859060404, 1.5631543624161075, 1.5363758389261746, 1.5095973154362416, 1.482818791946309, 1.4461320378542895], \"y\": [0.043400447427293064, 0.07013422818791946, 0.09686800894854586, 0.12360178970917225, 0.15033557046979865, 0.17706935123042508, 0.20380313199105146, 0.23053691275167787, 0.2572706935123043, 0.2840044742729307, 0.31073825503355706, 0.33747203579418344, 0.3642058165548099, 0.3909395973154362, 0.41767337807606264, 0.4444071588366891, 0.47114093959731546, 0.4978747203579419, 0.5246085011185683, 0.5513422818791947, 0.578076062639821, 0.6048098434004474, 0.6315436241610738, 0.6582774049217003, 0.6850111856823266, 0.711744966442953, 0.7384787472035793, 0.7652125279642057, 0.7919463087248322, 0.8186800894854586, 0.8721476510067113]}, {\"line\": {\"color\": \"red\", \"width\": 4}, \"mode\": \"lines\", \"type\": \"scatter\", \"x\": [0.01, 1.4461320378542895], \"y\": [0.8601516567511339, 0.8601516567511339]}, {\"line\": {\"color\": \"red\", \"width\": 4}, \"mode\": \"lines\", \"type\": \"scatter\", \"x\": [4.0, 4.0, 4.0, 4.0, 4.0, 4.0, 4.0, 4.0, 4.0, 4.0, 4.0, 4.0, 4.0, 4.0, 4.0, 4.0, 3.544765100671141, 3.1430872483221477, 2.875302013422819, 2.60751677852349, 2.3932885906040267, 2.2326174496644295, 2.071946308724832, 1.938053691275168, 1.8309395973154363, 1.7506040268456378, 1.670268456375839, 1.5899328859060404, 1.5363758389261746, 1.482818791946309, 1.4461320378542895], \"y\": [0.043400447427293064, 0.07013422818791946, 0.09686800894854586, 0.12360178970917225, 0.15033557046979865, 0.17706935123042508, 0.20380313199105146, 0.23053691275167787, 0.2572706935123043, 0.2840044742729307, 0.31073825503355706, 0.33747203579418344, 0.3642058165548099, 0.3909395973154362, 0.41767337807606264, 0.4444071588366891, 0.47114093959731546, 0.4978747203579419, 0.5246085011185683, 0.5513422818791947, 0.578076062639821, 0.6048098434004474, 0.6315436241610738, 0.6582774049217003, 0.6850111856823266, 0.711744966442953, 0.7384787472035793, 0.7652125279642057, 0.7919463087248322, 0.8186800894854586, 0.8721476510067113]}],                        {\"font\": {\"size\": 18}, \"height\": 600, \"paper_bgcolor\": \"rgba(0,0,0,0)\", \"plot_bgcolor\": \"rgba(0,0,0,0)\", \"template\": {\"data\": {\"bar\": [{\"error_x\": {\"color\": \"rgb(36,36,36)\"}, \"error_y\": {\"color\": \"rgb(36,36,36)\"}, \"marker\": {\"line\": {\"color\": \"white\", \"width\": 0.5}}, \"type\": \"bar\"}], \"barpolar\": [{\"marker\": {\"line\": {\"color\": \"white\", \"width\": 0.5}}, \"type\": \"barpolar\"}], \"carpet\": [{\"aaxis\": {\"endlinecolor\": \"rgb(36,36,36)\", \"gridcolor\": \"white\", \"linecolor\": \"white\", \"minorgridcolor\": \"white\", \"startlinecolor\": \"rgb(36,36,36)\"}, \"baxis\": {\"endlinecolor\": \"rgb(36,36,36)\", \"gridcolor\": \"white\", \"linecolor\": \"white\", \"minorgridcolor\": \"white\", \"startlinecolor\": \"rgb(36,36,36)\"}, \"type\": \"carpet\"}], \"choropleth\": [{\"colorbar\": {\"outlinewidth\": 1, \"tickcolor\": \"rgb(36,36,36)\", \"ticks\": \"outside\"}, \"type\": \"choropleth\"}], \"contour\": [{\"colorbar\": {\"outlinewidth\": 1, \"tickcolor\": \"rgb(36,36,36)\", \"ticks\": \"outside\"}, \"colorscale\": [[0.0, \"#440154\"], [0.1111111111111111, \"#482878\"], [0.2222222222222222, \"#3e4989\"], [0.3333333333333333, \"#31688e\"], [0.4444444444444444, \"#26828e\"], [0.5555555555555556, \"#1f9e89\"], [0.6666666666666666, \"#35b779\"], [0.7777777777777778, \"#6ece58\"], [0.8888888888888888, \"#b5de2b\"], [1.0, \"#fde725\"]], \"type\": \"contour\"}], \"contourcarpet\": [{\"colorbar\": {\"outlinewidth\": 1, \"tickcolor\": \"rgb(36,36,36)\", \"ticks\": \"outside\"}, \"type\": \"contourcarpet\"}], \"heatmap\": [{\"colorbar\": {\"outlinewidth\": 1, \"tickcolor\": \"rgb(36,36,36)\", \"ticks\": \"outside\"}, \"colorscale\": [[0.0, \"#440154\"], [0.1111111111111111, \"#482878\"], [0.2222222222222222, \"#3e4989\"], [0.3333333333333333, \"#31688e\"], [0.4444444444444444, \"#26828e\"], [0.5555555555555556, \"#1f9e89\"], [0.6666666666666666, \"#35b779\"], [0.7777777777777778, \"#6ece58\"], [0.8888888888888888, \"#b5de2b\"], [1.0, \"#fde725\"]], \"type\": \"heatmap\"}], \"heatmapgl\": [{\"colorbar\": {\"outlinewidth\": 1, \"tickcolor\": \"rgb(36,36,36)\", \"ticks\": \"outside\"}, \"colorscale\": [[0.0, \"#440154\"], [0.1111111111111111, \"#482878\"], [0.2222222222222222, \"#3e4989\"], [0.3333333333333333, \"#31688e\"], [0.4444444444444444, \"#26828e\"], [0.5555555555555556, \"#1f9e89\"], [0.6666666666666666, \"#35b779\"], [0.7777777777777778, \"#6ece58\"], [0.8888888888888888, \"#b5de2b\"], [1.0, \"#fde725\"]], \"type\": \"heatmapgl\"}], \"histogram\": [{\"marker\": {\"line\": {\"color\": \"white\", \"width\": 0.6}}, \"type\": \"histogram\"}], \"histogram2d\": [{\"colorbar\": {\"outlinewidth\": 1, \"tickcolor\": \"rgb(36,36,36)\", \"ticks\": \"outside\"}, \"colorscale\": [[0.0, \"#440154\"], [0.1111111111111111, \"#482878\"], [0.2222222222222222, \"#3e4989\"], [0.3333333333333333, \"#31688e\"], [0.4444444444444444, \"#26828e\"], [0.5555555555555556, \"#1f9e89\"], [0.6666666666666666, \"#35b779\"], [0.7777777777777778, \"#6ece58\"], [0.8888888888888888, \"#b5de2b\"], [1.0, \"#fde725\"]], \"type\": \"histogram2d\"}], \"histogram2dcontour\": [{\"colorbar\": {\"outlinewidth\": 1, \"tickcolor\": \"rgb(36,36,36)\", \"ticks\": \"outside\"}, \"colorscale\": [[0.0, \"#440154\"], [0.1111111111111111, \"#482878\"], [0.2222222222222222, \"#3e4989\"], [0.3333333333333333, \"#31688e\"], [0.4444444444444444, \"#26828e\"], [0.5555555555555556, \"#1f9e89\"], [0.6666666666666666, \"#35b779\"], [0.7777777777777778, \"#6ece58\"], [0.8888888888888888, \"#b5de2b\"], [1.0, \"#fde725\"]], \"type\": \"histogram2dcontour\"}], \"mesh3d\": [{\"colorbar\": {\"outlinewidth\": 1, \"tickcolor\": \"rgb(36,36,36)\", \"ticks\": \"outside\"}, \"type\": \"mesh3d\"}], \"parcoords\": [{\"line\": {\"colorbar\": {\"outlinewidth\": 1, \"tickcolor\": \"rgb(36,36,36)\", \"ticks\": \"outside\"}}, \"type\": \"parcoords\"}], \"pie\": [{\"automargin\": true, \"type\": \"pie\"}], \"scatter\": [{\"marker\": {\"colorbar\": {\"outlinewidth\": 1, \"tickcolor\": \"rgb(36,36,36)\", \"ticks\": \"outside\"}}, \"type\": \"scatter\"}], \"scatter3d\": [{\"line\": {\"colorbar\": {\"outlinewidth\": 1, \"tickcolor\": \"rgb(36,36,36)\", \"ticks\": \"outside\"}}, \"marker\": {\"colorbar\": {\"outlinewidth\": 1, \"tickcolor\": \"rgb(36,36,36)\", \"ticks\": \"outside\"}}, \"type\": \"scatter3d\"}], \"scattercarpet\": [{\"marker\": {\"colorbar\": {\"outlinewidth\": 1, \"tickcolor\": \"rgb(36,36,36)\", \"ticks\": \"outside\"}}, \"type\": \"scattercarpet\"}], \"scattergeo\": [{\"marker\": {\"colorbar\": {\"outlinewidth\": 1, \"tickcolor\": \"rgb(36,36,36)\", \"ticks\": \"outside\"}}, \"type\": \"scattergeo\"}], \"scattergl\": [{\"marker\": {\"colorbar\": {\"outlinewidth\": 1, \"tickcolor\": \"rgb(36,36,36)\", \"ticks\": \"outside\"}}, \"type\": \"scattergl\"}], \"scattermapbox\": [{\"marker\": {\"colorbar\": {\"outlinewidth\": 1, \"tickcolor\": \"rgb(36,36,36)\", \"ticks\": \"outside\"}}, \"type\": \"scattermapbox\"}], \"scatterpolar\": [{\"marker\": {\"colorbar\": {\"outlinewidth\": 1, \"tickcolor\": \"rgb(36,36,36)\", \"ticks\": \"outside\"}}, \"type\": \"scatterpolar\"}], \"scatterpolargl\": [{\"marker\": {\"colorbar\": {\"outlinewidth\": 1, \"tickcolor\": \"rgb(36,36,36)\", \"ticks\": \"outside\"}}, \"type\": \"scatterpolargl\"}], \"scatterternary\": [{\"marker\": {\"colorbar\": {\"outlinewidth\": 1, \"tickcolor\": \"rgb(36,36,36)\", \"ticks\": \"outside\"}}, \"type\": \"scatterternary\"}], \"surface\": [{\"colorbar\": {\"outlinewidth\": 1, \"tickcolor\": \"rgb(36,36,36)\", \"ticks\": \"outside\"}, \"colorscale\": [[0.0, \"#440154\"], [0.1111111111111111, \"#482878\"], [0.2222222222222222, \"#3e4989\"], [0.3333333333333333, \"#31688e\"], [0.4444444444444444, \"#26828e\"], [0.5555555555555556, \"#1f9e89\"], [0.6666666666666666, \"#35b779\"], [0.7777777777777778, \"#6ece58\"], [0.8888888888888888, \"#b5de2b\"], [1.0, \"#fde725\"]], \"type\": \"surface\"}], \"table\": [{\"cells\": {\"fill\": {\"color\": \"rgb(237,237,237)\"}, \"line\": {\"color\": \"white\"}}, \"header\": {\"fill\": {\"color\": \"rgb(217,217,217)\"}, \"line\": {\"color\": \"white\"}}, \"type\": \"table\"}]}, \"layout\": {\"annotationdefaults\": {\"arrowhead\": 0, \"arrowwidth\": 1}, \"coloraxis\": {\"colorbar\": {\"outlinewidth\": 1, \"tickcolor\": \"rgb(36,36,36)\", \"ticks\": \"outside\"}}, \"colorscale\": {\"diverging\": [[0.0, \"rgb(103,0,31)\"], [0.1, \"rgb(178,24,43)\"], [0.2, \"rgb(214,96,77)\"], [0.3, \"rgb(244,165,130)\"], [0.4, \"rgb(253,219,199)\"], [0.5, \"rgb(247,247,247)\"], [0.6, \"rgb(209,229,240)\"], [0.7, \"rgb(146,197,222)\"], [0.8, \"rgb(67,147,195)\"], [0.9, \"rgb(33,102,172)\"], [1.0, \"rgb(5,48,97)\"]], \"sequential\": [[0.0, \"#440154\"], [0.1111111111111111, \"#482878\"], [0.2222222222222222, \"#3e4989\"], [0.3333333333333333, \"#31688e\"], [0.4444444444444444, \"#26828e\"], [0.5555555555555556, \"#1f9e89\"], [0.6666666666666666, \"#35b779\"], [0.7777777777777778, \"#6ece58\"], [0.8888888888888888, \"#b5de2b\"], [1.0, \"#fde725\"]], \"sequentialminus\": [[0.0, \"#440154\"], [0.1111111111111111, \"#482878\"], [0.2222222222222222, \"#3e4989\"], [0.3333333333333333, \"#31688e\"], [0.4444444444444444, \"#26828e\"], [0.5555555555555556, \"#1f9e89\"], [0.6666666666666666, \"#35b779\"], [0.7777777777777778, \"#6ece58\"], [0.8888888888888888, \"#b5de2b\"], [1.0, \"#fde725\"]]}, \"colorway\": [\"#1F77B4\", \"#FF7F0E\", \"#2CA02C\", \"#D62728\", \"#9467BD\", \"#8C564B\", \"#E377C2\", \"#7F7F7F\", \"#BCBD22\", \"#17BECF\"], \"font\": {\"color\": \"rgb(36,36,36)\"}, \"geo\": {\"bgcolor\": \"white\", \"lakecolor\": \"white\", \"landcolor\": \"white\", \"showlakes\": true, \"showland\": true, \"subunitcolor\": \"white\"}, \"hoverlabel\": {\"align\": \"left\"}, \"hovermode\": \"closest\", \"mapbox\": {\"style\": \"light\"}, \"paper_bgcolor\": \"white\", \"plot_bgcolor\": \"white\", \"polar\": {\"angularaxis\": {\"gridcolor\": \"rgb(232,232,232)\", \"linecolor\": \"rgb(36,36,36)\", \"showgrid\": false, \"showline\": true, \"ticks\": \"outside\"}, \"bgcolor\": \"white\", \"radialaxis\": {\"gridcolor\": \"rgb(232,232,232)\", \"linecolor\": \"rgb(36,36,36)\", \"showgrid\": false, \"showline\": true, \"ticks\": \"outside\"}}, \"scene\": {\"xaxis\": {\"backgroundcolor\": \"white\", \"gridcolor\": \"rgb(232,232,232)\", \"gridwidth\": 2, \"linecolor\": \"rgb(36,36,36)\", \"showbackground\": true, \"showgrid\": false, \"showline\": true, \"ticks\": \"outside\", \"zeroline\": false, \"zerolinecolor\": \"rgb(36,36,36)\"}, \"yaxis\": {\"backgroundcolor\": \"white\", \"gridcolor\": \"rgb(232,232,232)\", \"gridwidth\": 2, \"linecolor\": \"rgb(36,36,36)\", \"showbackground\": true, \"showgrid\": false, \"showline\": true, \"ticks\": \"outside\", \"zeroline\": false, \"zerolinecolor\": \"rgb(36,36,36)\"}, \"zaxis\": {\"backgroundcolor\": \"white\", \"gridcolor\": \"rgb(232,232,232)\", \"gridwidth\": 2, \"linecolor\": \"rgb(36,36,36)\", \"showbackground\": true, \"showgrid\": false, \"showline\": true, \"ticks\": \"outside\", \"zeroline\": false, \"zerolinecolor\": \"rgb(36,36,36)\"}}, \"shapedefaults\": {\"fillcolor\": \"black\", \"line\": {\"width\": 0}, \"opacity\": 0.3}, \"ternary\": {\"aaxis\": {\"gridcolor\": \"rgb(232,232,232)\", \"linecolor\": \"rgb(36,36,36)\", \"showgrid\": false, \"showline\": true, \"ticks\": \"outside\"}, \"baxis\": {\"gridcolor\": \"rgb(232,232,232)\", \"linecolor\": \"rgb(36,36,36)\", \"showgrid\": false, \"showline\": true, \"ticks\": \"outside\"}, \"bgcolor\": \"white\", \"caxis\": {\"gridcolor\": \"rgb(232,232,232)\", \"linecolor\": \"rgb(36,36,36)\", \"showgrid\": false, \"showline\": true, \"ticks\": \"outside\"}}, \"title\": {\"x\": 0.05}, \"xaxis\": {\"automargin\": true, \"gridcolor\": \"rgb(232,232,232)\", \"linecolor\": \"rgb(36,36,36)\", \"showgrid\": false, \"showline\": true, \"ticks\": \"outside\", \"title\": {\"standoff\": 15}, \"zeroline\": false, \"zerolinecolor\": \"rgb(36,36,36)\"}, \"yaxis\": {\"automargin\": true, \"gridcolor\": \"rgb(232,232,232)\", \"linecolor\": \"rgb(36,36,36)\", \"showgrid\": false, \"showline\": true, \"ticks\": \"outside\", \"title\": {\"standoff\": 15}, \"zeroline\": false, \"zerolinecolor\": \"rgb(36,36,36)\"}}}, \"width\": 700, \"xaxis\": {\"mirror\": true, \"range\": [0.0, 3.0], \"showline\": true}, \"yaxis\": {\"mirror\": true, \"range\": [0.13020134228187918, 1.5], \"showline\": true}},                        {\"responsive\": true}                    ).then(function(){\n",
       "                            \n",
       "var gd = document.getElementById('048d9393-0efb-4bd6-895e-2a65b313ffe8');\n",
       "var x = new MutationObserver(function (mutations, observer) {{\n",
       "        var display = window.getComputedStyle(gd).display;\n",
       "        if (!display || display === 'none') {{\n",
       "            console.log([gd, 'removed!']);\n",
       "            Plotly.purge(gd);\n",
       "            observer.disconnect();\n",
       "        }}\n",
       "}});\n",
       "\n",
       "// Listen for the removal of the full notebook cells\n",
       "var notebookContainer = gd.closest('#notebook-container');\n",
       "if (notebookContainer) {{\n",
       "    x.observe(notebookContainer, {childList: true});\n",
       "}}\n",
       "\n",
       "// Listen for the clearing of the current output cell\n",
       "var outputEl = gd.closest('.output');\n",
       "if (outputEl) {{\n",
       "    x.observe(outputEl, {childList: true});\n",
       "}}\n",
       "\n",
       "                        })                };                });            </script>        </div>"
      ]
     },
     "metadata": {},
     "output_type": "display_data"
    },
    {
     "name": "stdout",
     "output_type": "stream",
     "text": [
      "/mnt/b/research/mechanical-memory/cell-mech-memory/../figures_v2/figure3_timetraj/blank_PD_rates_v1.png\n"
     ]
    }
   ],
   "source": [
    "### figure 3 background\n",
    "# params = {}\n",
    "# # stiff genes\n",
    "# res = 200\n",
    "# params = {}\n",
    "# params['kc'] = 1.\n",
    "# params['km'] = 'stiff'\n",
    "# params['n'] = 3\n",
    "# params['m0'] = 1.\n",
    "# params['x0'] = 1.; params['a0'] = 0.5; params['xtt'] = 0.;\n",
    "# params['x_c'] = x_crit(params['n'])\n",
    "\n",
    "# x_space = np.linspace(0, 3., res)\n",
    "# a_space = np.linspace(0.2, 3.5, res)\n",
    "# m_space = np.linspace(0., 3., res)\n",
    "\n",
    "# a_c = alpha_crit(m_space, params)\n",
    "\n",
    "gfig = plot_PD_rates(capture2minima, capmax, capture_mvals, m_space, a_space, params)\n",
    "\n",
    "gfig.show()\n",
    "saveall=True\n",
    "if saveall:\n",
    "    direc = os.getcwd() + '/../figures_v2/figure3_timetraj/'\n",
    "\n",
    "    fname1 = direc + \"blank_PD_rates_v1.png\"\n",
    "    print(fname1)\n",
    "#     fig.savefig(fname1, format='png', dpi=600)\n",
    "    gfig.write_image(fname1, scale = 1.5, engine='kaleido')"
   ]
  },
  {
   "cell_type": "code",
   "execution_count": null,
   "metadata": {},
   "outputs": [],
   "source": [
    "tau = 1.\n",
    "tau_F = tau * 5\n",
    "tau_SG = tau * 178\n",
    "# tau_SR = tau_SG\n",
    "\n",
    "m0 = 1.\n",
    "x0 = 0.2\n",
    "a0 = 0.2\n",
    "n = 3\n",
    "\n",
    "x_c = x_crit(n)\n",
    "a_c = alpha_crit(n, tau)\n",
    "\n",
    "ac_test = np.linspace(a_c, a_c*2, 100)\n",
    "\n",
    "params = {}\n",
    "params['x_c'] = x_c; params['a_c'] = a_c; params['type'] = 'stiff'; params['m0'] = m0\n",
    "params['tau'] = tau; params['n'] = n\n",
    "mc_list = []\n",
    "for ai, aa in enumerate(ac_test):\n",
    "    params['a_c'] = aa\n",
    "    m_c = scipy.optimize.fsolve(m_crit_general, 0.5, args=(params), xtol=1e-10)[0] / params['m0']\n",
    "    mc_list.append(m_c)\n",
    "\n",
    "params['m_c'] = m_c\n",
    "print('a_c = %f, x_c = %f, m_c in absolute = %f' % (a_c, x_c, m_c * params['m0']))\n",
    "\n",
    "plt.plot(ac_test, mc_list)"
   ]
  },
  {
   "cell_type": "code",
   "execution_count": null,
   "metadata": {},
   "outputs": [],
   "source": [
    "### **** need to shift functions for alpha / regions for alpha depending on stiffness **** ###\n",
    "### figure 3.5 partially filled phase diagram, no trajectory.\n",
    "#### integrate profile depends on energy\n",
    "## setting time units to hours\n",
    "\n",
    "tau = 1.\n",
    "tau_F = tau * 15\n",
    "tau_SG = tau * 150\n",
    "tau_SR = tau_SG\n",
    "\n",
    "m0 = 2.\n",
    "x0 = 0.2\n",
    "a0 = 0.2\n",
    "a_max = 100\n",
    "n = 3\n",
    "\n",
    "x_c = x_crit(n)\n",
    "a_c = alpha_crit(n, tau)\n",
    "\n",
    "\n",
    "params = {}\n",
    "params['x_c'] = x_c; params['a_c'] = a_c;\n",
    "params['tau'] = tau; params['tau_F'] = tau_F; params['tau_SG'] = tau_SG; params['tau_SR'] = tau_SR\n",
    "params['a_max'] = a_max\n",
    "params['a0'] = a0; params['m0'] = m0\n",
    "params['n'] = n\n",
    "params['x0'] = x0\n",
    "params['x0'] = 1.; params['a0'] = 0.5; params['xtt'] = 0.;\n",
    "params['type'] = 'stiff'\n",
    "\n",
    "params['tau_R0'] = tau_SG * 2\n",
    "params['TV0'] = .08\n",
    "\n",
    "a_space, mtst = calc_PD(params)\n",
    "\n",
    "params['a1max'] = a_space[mtst[:,0] == np.amin(mtst[:,0])]\n",
    "\n",
    "m_c = scipy.optimize.fsolve(m_crit_general, 0.5, args=(params), xtol=1e-10)[0] / params['m0']\n",
    "params['m_c'] = m_c\n",
    "\n",
    "print('a_c = %f, x_c = %f, m_c = %f' % (a_c, x_c, m_c))\n",
    "\n",
    "# 480 hours = 20 days\n",
    "# time in hours | # stiffness\n",
    "ins = np.array(\n",
    "    [\n",
    "        [250, 0.8],\n",
    "        [150, 1.6],\n",
    "#         [250, 0.6],\n",
    "#         [150, 0.3],    \n",
    "    ]\n",
    "        )\n",
    "\n",
    "m_profile = build_mprof(ins, 1.)\n",
    "\n",
    "print(np.sum(ins[:,0]))\n",
    "print(len(m_profile))\n",
    "\n",
    "# hours\n",
    "t_space = np.linspace(0, np.sum(ins[:,0]), len(m_profile))\n",
    "print('dt = %f' % (t_space[1]-t_space[0]))\n",
    "\n",
    "# x_prof, alpha_prof, params, active_region, deltaVlist = integrate_profile_Edependent(m_profile, t_space, params)\n",
    "# priming_times, memory_times, mech_ratio = summary_stats(alpha_prof, x_prof, m_profile, t_space, params)\n",
    "# params, fig, fig2 = plot_profile(t_space, m_profile, x_prof, alpha_prof, active_region, params)\n",
    "fig, ax = plt.subplots(1,1,figsize=(9, 8))\n",
    "ax = subplot_PD(ax, params, \n",
    "    [mcolors['darkorange'], mcolors['red'], mcolors['navy'], mcolors['navy'], mcolors['springgreen'], mcolors['springgreen']])\n",
    "\n",
    "\n",
    "# plt.plot(np.arange(len(deltaVlist)), deltaVlist)\n",
    "saveall = False\n",
    "if saveall:\n",
    "    direc = os.getcwd() + '/figures/figure3_timetraj/'\n",
    "\n",
    "    fname1 = direc + \"PD_notrajectory_stiff_n3_v3.png\"\n",
    "    print(fname1)\n",
    "    fig.savefig(fname1, format='png', dpi=600)\n"
   ]
  },
  {
   "cell_type": "code",
   "execution_count": null,
   "metadata": {
    "scrolled": false
   },
   "outputs": [],
   "source": [
    "import sympy\n",
    "\n",
    "print(sympy.__version__)\n",
    "sympy.init_printing(use_unicode=True)\n",
    "\n",
    "n_test = 4\n",
    "tau = 1.5\n",
    "\n",
    "a_c = alpha_crit(n_test, tau)\n",
    "print('a_c %f' % (a_c))\n",
    "\n",
    "a_test = 5.5\n",
    "\n",
    "alpha, x, n = sympy.symbols('alpha x n')\n",
    "eqn = sympy.Eq(1+x**n, sympy.sqrt(alpha * tau * n * x**(n-1)))\n",
    "\n",
    "eqn = eqn.subs(n, n_test)\n",
    "eqn = eqn.subs(alpha, a_test)\n",
    "\n",
    "sol2 = sympy.solve(eqn, x, force=True)\n",
    "\n",
    "print(sol2)\n",
    "print(m1n3(a_test, 3))\n",
    "print(m2n3(a_test, 3))\n",
    "# print(sol2.evalf())\n",
    "# print(list(sol2))\n",
    "\n",
    "x_space = np.linspace(0,2,5000)\n",
    "\n",
    "solcands = 1+x_space**n_test - np.sqrt(n_test * a_test * tau * x_space**(n_test-1))\n",
    "roots = np.array(sorted(x_space[np.argpartition(np.abs(solcands),1)][0:2]))\n",
    "print(roots)\n",
    "m_roots = -np.log(1 - roots / tau + a_test * roots**n_test / (1+roots**n_test))\n",
    "print(m_roots)\n",
    "\n",
    "plt.plot(x_space, solcands)\n",
    "plt.plot(plt.xlim(), [0,0])\n",
    "\n",
    "plt.show()\n",
    "\n",
    "# sol = sympy.solveset(Eq(x**2-n*x, n))\n",
    "# print(sol)\n",
    "# print(sol2.subs(alpha, 1.))\n",
    "# print(sympy.N(sol))\n"
   ]
  },
  {
   "cell_type": "code",
   "execution_count": null,
   "metadata": {
    "scrolled": false
   },
   "outputs": [],
   "source": []
  },
  {
   "cell_type": "code",
   "execution_count": null,
   "metadata": {},
   "outputs": [],
   "source": []
  }
 ],
 "metadata": {
  "kernelspec": {
   "display_name": "Python 3",
   "language": "python",
   "name": "python3"
  },
  "language_info": {
   "codemirror_mode": {
    "name": "ipython",
    "version": 3
   },
   "file_extension": ".py",
   "mimetype": "text/x-python",
   "name": "python",
   "nbconvert_exporter": "python",
   "pygments_lexer": "ipython3",
   "version": "3.8.5"
  }
 },
 "nbformat": 4,
 "nbformat_minor": 4
}
