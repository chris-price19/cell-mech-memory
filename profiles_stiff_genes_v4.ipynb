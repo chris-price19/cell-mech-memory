{
 "cells": [
  {
   "cell_type": "code",
   "execution_count": 5,
   "metadata": {
    "scrolled": true
   },
   "outputs": [
    {
     "name": "stdout",
     "output_type": "stream",
     "text": [
      "The autoreload extension is already loaded. To reload it, use:\n",
      "  %reload_ext autoreload\n"
     ]
    }
   ],
   "source": [
    "%load_ext autoreload\n",
    "%autoreload 2\n",
    "\n",
    "import math\n",
    "import cmath\n",
    "import numpy as np\n",
    "import scipy\n",
    "import sympy\n",
    "import pandas as pd\n",
    "\n",
    "import matplotlib\n",
    "import matplotlib.pyplot as plt\n",
    "import matplotlib.ticker as ticker\n",
    "import matplotlib.patches as patches\n",
    "from matplotlib import colors as m2colors\n",
    "import seaborn as sns\n",
    "from pylab import cm\n",
    "import plotly\n",
    "import plotly.graph_objects as go\n",
    "\n",
    "import json\n",
    "import os\n",
    "import sys\n",
    "import re\n",
    "\n",
    "from MMfxns import *\n",
    "from MMplotting import *\n",
    "from pyDOE2 import lhs\n",
    "\n",
    "cwd = os.getcwd()\n",
    "sns.set(style=\"ticks\", font_scale=1.5)\n",
    "\n",
    "mcolors = dict(m2colors.BASE_COLORS, **m2colors.CSS4_COLORS)\n",
    "\n",
    "saveall = True\n",
    "\n",
    "import warnings\n",
    "warnings.filterwarnings(\"ignore\", category=np.VisibleDeprecationWarning)\n",
    "\n",
    "pd.set_option('display.expand_frame_repr', False, 'display.max_columns', None)"
   ]
  },
  {
   "cell_type": "code",
   "execution_count": 58,
   "metadata": {
    "scrolled": false
   },
   "outputs": [
    {
     "name": "stdout",
     "output_type": "stream",
     "text": [
      "{'tau_F': 12.0, 'tau_SG': 300.0, 'tau_SR': 300.0, 'kc': 1.5, 'km': 'stiff', 'm0': 6.5, 'x0': 1.9, 'a0': 1.0, 'xtt': 0.0, 'g': 35, 'n': 6.0, 'a_max': 10, 'resolution': 1.0, 'color': None, 'input_m': [], 'tau_R0': 150, 'TV0SR': 1.9, 'TV0SG': 1.9, 'dynamics': 'updated_exp', 'eps': (0.0, 1.0, 0.0), 'res': 150}\n",
      "--------\n",
      "a_c = 1.508742, x_c = 0.945465, m_c in absolute = 3.621481\n",
      "updated_exp\n"
     ]
    },
    {
     "data": {
      "image/png": "[encoded data removed]",
      "text/plain": [
       "<Figure size 432x288 with 1 Axes>"
      ]
     },
     "metadata": {},
     "output_type": "display_data"
    },
    {
     "data": {
      "application/vnd.plotly.v1+json": {
       "config": {
        "plotlyServerURL": "https://plot.ly"
       },
       "data": [
        {
         "fill": "tozerox",
         "fillcolor": "rgba(245, 121, 58, 1)",
         "mode": "none",
         "type": "scatter",
         "x": [
          2.075234899328859,
          2.075234899328859,
          2.001476510067114,
          2.001476510067114,
          2.001476510067114,
          2.001476510067114,
          2.001476510067114,
          2.001476510067114,
          2.001476510067114,
          2.001476510067114,
          1.927718120805369,
          1.927718120805369,
          1.927718120805369,
          1.927718120805369,
          1.927718120805369,
          1.927718120805369,
          1.927718120805369,
          1.927718120805369,
          1.8539597315436243,
          1.8539597315436243,
          1.8539597315436243,
          1.8539597315436243,
          1.8539597315436243,
          1.8539597315436243,
          1.8539597315436243,
          1.8539597315436243,
          1.7802013422818792,
          1.7802013422818792,
          1.7802013422818792,
          1.7802013422818792,
          1.7802013422818792,
          1.7802013422818792,
          1.7802013422818792,
          1.7802013422818792,
          1.7064429530201342,
          1.7064429530201342,
          1.7064429530201342,
          1.7064429530201342,
          1.7064429530201342,
          1.7064429530201342,
          1.7064429530201342,
          1.7064429530201342,
          1.6326845637583893,
          1.6326845637583893,
          1.6326845637583893,
          1.6326845637583893,
          1.6326845637583893,
          1.5589261744966443,
          1.5087417829104726
         ],
         "y": [
          0.015384615384615385,
          0.02560660815694373,
          0.03582860092927207,
          0.04605059370160041,
          0.05627258647392875,
          0.0664945792462571,
          0.07671657201858545,
          0.08693856479091377,
          0.09716055756324213,
          0.10738255033557047,
          0.11760454310789882,
          0.12782653588022713,
          0.13804852865255549,
          0.14827052142488384,
          0.1584925141972122,
          0.16871450696954055,
          0.17893649974186887,
          0.18915849251419722,
          0.19938048528652558,
          0.20960247805885393,
          0.21982447083118226,
          0.23004646360351058,
          0.24026845637583893,
          0.25049044914816726,
          0.26071244192049564,
          0.27093443469282397,
          0.2811564274651523,
          0.2913784202374807,
          0.301600413009809,
          0.3118224057821373,
          0.32204439855446565,
          0.33226639132679403,
          0.34248838409912236,
          0.3527103768714507,
          0.36293236964377906,
          0.3731543624161074,
          0.38337635518843577,
          0.3935983479607641,
          0.4038203407330924,
          0.4140423335054208,
          0.4242643262777491,
          0.4344863190500774,
          0.4447083118224058,
          0.4549303045947341,
          0.46515229736706243,
          0.4753742901393908,
          0.48559628291171913,
          0.5162622612287042,
          0.5571509468320811
         ]
        },
        {
         "fill": "tonextx",
         "fillcolor": "rgba(15, 32, 128, 1)",
         "mode": "none",
         "type": "scatter",
         "x": [
          10.483691275167786,
          9.819865771812081,
          9.08228187919463,
          8.418456375838925,
          7.754630872483221,
          7.017046979865771,
          6.648255033557047,
          6.279463087248322,
          5.910671140939597,
          5.541879194630872,
          5.246845637583893,
          4.878053691275167,
          4.583020134228188,
          4.4355033557046974,
          4.2142281879194625,
          3.992953020134228,
          3.845436241610738,
          3.624161073825503,
          3.4766442953020134,
          3.3291275167785233,
          3.181610738255033,
          3.1078523489932883,
          2.9603355704697982,
          2.8865771812080534,
          2.7390604026845637,
          2.6653020134228185,
          2.517785234899329,
          2.4440268456375835,
          2.3702684563758387,
          2.3702684563758387,
          2.296510067114094,
          2.2227516778523486,
          2.148993288590604,
          2.075234899328859,
          2.001476510067114,
          2.001476510067114,
          1.927718120805369,
          1.927718120805369,
          1.8539597315436243,
          1.8539597315436243,
          1.7802013422818792,
          1.7802013422818792,
          1.7064429530201342,
          1.7064429530201342,
          1.6326845637583893,
          1.6326845637583893,
          1.6326845637583893,
          1.5589261744966443
         ],
         "y": [
          0.015384615384615385,
          0.02560660815694373,
          0.03582860092927207,
          0.04605059370160041,
          0.05627258647392875,
          0.0664945792462571,
          0.07671657201858545,
          0.08693856479091377,
          0.09716055756324213,
          0.10738255033557047,
          0.11760454310789882,
          0.12782653588022713,
          0.13804852865255549,
          0.14827052142488384,
          0.1584925141972122,
          0.16871450696954055,
          0.17893649974186887,
          0.18915849251419722,
          0.19938048528652558,
          0.20960247805885393,
          0.21982447083118226,
          0.23004646360351058,
          0.24026845637583893,
          0.25049044914816726,
          0.26071244192049564,
          0.27093443469282397,
          0.2811564274651523,
          0.2913784202374807,
          0.301600413009809,
          0.3118224057821373,
          0.32204439855446565,
          0.33226639132679403,
          0.34248838409912236,
          0.3527103768714507,
          0.36293236964377906,
          0.3731543624161074,
          0.38337635518843577,
          0.3935983479607641,
          0.4038203407330924,
          0.4140423335054208,
          0.4242643262777491,
          0.4344863190500774,
          0.4447083118224058,
          0.4549303045947341,
          0.46515229736706243,
          0.4753742901393908,
          0.48559628291171913,
          0.5162622612287042
         ]
        },
        {
         "fill": "tozerox",
         "fillcolor": "rgba(245, 121, 58, 1)",
         "line": {
          "color": "rgba(78, 247, 75, 1)",
          "width": 6
         },
         "mode": "lines",
         "type": "scatter",
         "x": [
          0.010000000000000002,
          0.04281041923431713,
          0.04281041923431713,
          0.04281041923431713,
          0.08375838926174496,
          0.1165688084960621,
          0.15751677852348994,
          0.1903271977578071,
          0.1903271977578071,
          0.23127516778523494,
          0.2640855870195521,
          0.3050335570469799,
          0.3787919463087248,
          0.41160236554304197,
          0.4525503355704698,
          0.48536075480478696,
          0.5263087248322148,
          0.559119144066532,
          0.6000671140939597,
          0.6738255033557047,
          0.7066359225900218,
          0.7475838926174496,
          0.7803943118517669,
          0.8213422818791947,
          0.8541527011135117,
          0.8951006711409396,
          0.9279110903752568,
          0.9279110903752568,
          0.9688590604026845,
          1.0016694796370018,
          1.0426174496644296,
          1.0754278688987466,
          1.0754278688987466,
          1.0754278688987466,
          1.1163758389261744,
          1.1491862581604915,
          1.1491862581604915,
          1.1491862581604915,
          1.1491862581604915,
          1.1491862581604915,
          1.1491862581604915,
          1.1901342281879195,
          1.206539437805078,
          1.2229446474222367,
          1.2229446474222367,
          1.2229446474222367,
          1.2229446474222367,
          1.2229446474222367,
          1.2229446474222367,
          1.2638926174496645,
          1.280297827066823,
          1.280297827066823,
          1.2967030366839816,
          1.2967030366839816,
          1.2967030366839816,
          1.2967030366839816,
          1.3171770216976957,
          1.3376510067114094,
          1.3540562163285679,
          1.3540562163285679,
          1.3540562163285679,
          1.3909354109594405,
          1.3909354109594405,
          1.3909354109594405,
          1.4114093959731544,
          1.4223462023845936,
          1.4223462023845936,
          1.4380515980971698,
          1.4469323321385084,
          1.4469323321385084,
          1.4715184618924235,
          1.4851677852348992,
          1.5064815469341117,
          1.5064815469341117,
          1.5212332247864606,
          1.5212332247864606,
          1.5212332247864606
         ],
         "y": [
          1.0932409713446298,
          1.0886938564790913,
          1.078471863706763,
          1.0682498709344346,
          1.0625749930276447,
          1.0580278781621062,
          1.0523530002553163,
          1.047805885389778,
          1.0375838926174497,
          1.0319090147106598,
          1.0273618998451213,
          1.0216870219383314,
          1.0216870219383314,
          1.017139907072793,
          1.011465029166003,
          1.0069179143004645,
          1.0012430363936746,
          0.9966959215281362,
          0.9910210436213464,
          0.9910210436213464,
          0.986473928755808,
          0.9807990508490181,
          0.9762519359834796,
          0.9705770580766897,
          0.9660299432111512,
          0.9603550653043613,
          0.9558079504388228,
          0.9455859576664944,
          0.9399110797597046,
          0.9353639648941662,
          0.9296890869873763,
          0.9251419721218378,
          0.9149199793495095,
          0.9046979865771811,
          0.8990231086703913,
          0.8944759938048528,
          0.8842540010325244,
          0.874032008260196,
          0.8638100154878677,
          0.8535880227155394,
          0.843366029943211,
          0.8376911520364212,
          0.8331440371708828,
          0.8229220443985544,
          0.8127000516262262,
          0.8024780588538978,
          0.7922560660815694,
          0.782034073309241,
          0.7718120805369127,
          0.7661372026301229,
          0.7615900877645844,
          0.751368094992256,
          0.7411461022199277,
          0.7309241094475993,
          0.720702116675271,
          0.7104801239029427,
          0.7002581311306143,
          0.6945832532238244,
          0.6900361383582859,
          0.6798141455859577,
          0.6695921528136293,
          0.6593701600413009,
          0.6491481672689725,
          0.6389261744966442,
          0.6332512965898544,
          0.6287041817243159,
          0.6184821889519875,
          0.6082601961796592,
          0.5980382034073309,
          0.5878162106350026,
          0.5775942178626743,
          0.5747567789092793,
          0.5673722250903459,
          0.5571502323180175,
          0.5469282395456893,
          0.5367062467733609,
          0.5264842540010325
         ]
        },
        {
         "line": {
          "color": "rgba(78, 247, 75, 1)",
          "width": 6
         },
         "mode": "lines",
         "type": "scatter",
         "x": [
          2.075234899328859,
          2.075234899328859,
          2.001476510067114,
          2.001476510067114,
          2.001476510067114,
          2.001476510067114,
          2.001476510067114,
          2.001476510067114,
          2.001476510067114,
          2.001476510067114,
          1.927718120805369,
          1.927718120805369,
          1.927718120805369,
          1.927718120805369,
          1.927718120805369,
          1.927718120805369,
          1.927718120805369,
          1.927718120805369,
          1.8539597315436243,
          1.8539597315436243,
          1.8539597315436243,
          1.8539597315436243,
          1.8539597315436243,
          1.8539597315436243,
          1.8539597315436243,
          1.8539597315436243,
          1.7802013422818792,
          1.7802013422818792,
          1.7802013422818792,
          1.7802013422818792,
          1.7802013422818792,
          1.7802013422818792,
          1.7802013422818792,
          1.7802013422818792,
          1.7064429530201342,
          1.7064429530201342,
          1.7064429530201342,
          1.7064429530201342,
          1.7064429530201342,
          1.7064429530201342,
          1.7064429530201342,
          1.7064429530201342,
          1.6326845637583893,
          1.6326845637583893,
          1.6326845637583893,
          1.6326845637583893,
          1.6326845637583893,
          1.5589261744966443,
          1.5087417829104726
         ],
         "y": [
          0.015384615384615385,
          0.02560660815694373,
          0.03582860092927207,
          0.04605059370160041,
          0.05627258647392875,
          0.0664945792462571,
          0.07671657201858545,
          0.08693856479091377,
          0.09716055756324213,
          0.10738255033557047,
          0.11760454310789882,
          0.12782653588022713,
          0.13804852865255549,
          0.14827052142488384,
          0.1584925141972122,
          0.16871450696954055,
          0.17893649974186887,
          0.18915849251419722,
          0.19938048528652558,
          0.20960247805885393,
          0.21982447083118226,
          0.23004646360351058,
          0.24026845637583893,
          0.25049044914816726,
          0.26071244192049564,
          0.27093443469282397,
          0.2811564274651523,
          0.2913784202374807,
          0.301600413009809,
          0.3118224057821373,
          0.32204439855446565,
          0.33226639132679403,
          0.34248838409912236,
          0.3527103768714507,
          0.36293236964377906,
          0.3731543624161074,
          0.38337635518843577,
          0.3935983479607641,
          0.4038203407330924,
          0.4140423335054208,
          0.4242643262777491,
          0.4344863190500774,
          0.4447083118224058,
          0.4549303045947341,
          0.46515229736706243,
          0.4753742901393908,
          0.48559628291171913,
          0.5162622612287042,
          0.5571502323180175
         ]
        },
        {
         "line": {
          "color": "rgba(78, 247, 75, 1)",
          "width": 6
         },
         "mode": "lines",
         "type": "scatter",
         "x": [
          10.483691275167786,
          9.819865771812081,
          9.08228187919463,
          8.418456375838925,
          7.754630872483221,
          7.017046979865771,
          6.648255033557047,
          6.279463087248322,
          5.910671140939597,
          5.541879194630872,
          5.246845637583893,
          4.878053691275167,
          4.583020134228188,
          4.4355033557046974,
          4.2142281879194625,
          3.992953020134228,
          3.845436241610738,
          3.624161073825503,
          3.4766442953020134,
          3.3291275167785233,
          3.181610738255033,
          3.1078523489932883,
          2.9603355704697982,
          2.8865771812080534,
          2.7390604026845637,
          2.6653020134228185,
          2.517785234899329,
          2.4440268456375835,
          2.3702684563758387,
          2.3702684563758387,
          2.296510067114094,
          2.2227516778523486,
          2.148993288590604,
          2.075234899328859,
          2.001476510067114,
          2.001476510067114,
          1.927718120805369,
          1.927718120805369,
          1.8539597315436243,
          1.8539597315436243,
          1.7802013422818792,
          1.7802013422818792,
          1.7064429530201342,
          1.7064429530201342,
          1.6326845637583893,
          1.6326845637583893,
          1.6326845637583893,
          1.5589261744966443,
          1.5087417829104726
         ],
         "y": [
          0.015384615384615385,
          0.02560660815694373,
          0.03582860092927207,
          0.04605059370160041,
          0.05627258647392875,
          0.0664945792462571,
          0.07671657201858545,
          0.08693856479091377,
          0.09716055756324213,
          0.10738255033557047,
          0.11760454310789882,
          0.12782653588022713,
          0.13804852865255549,
          0.14827052142488384,
          0.1584925141972122,
          0.16871450696954055,
          0.17893649974186887,
          0.18915849251419722,
          0.19938048528652558,
          0.20960247805885393,
          0.21982447083118226,
          0.23004646360351058,
          0.24026845637583893,
          0.25049044914816726,
          0.26071244192049564,
          0.27093443469282397,
          0.2811564274651523,
          0.2913784202374807,
          0.301600413009809,
          0.3118224057821373,
          0.32204439855446565,
          0.33226639132679403,
          0.34248838409912236,
          0.3527103768714507,
          0.36293236964377906,
          0.3731543624161074,
          0.38337635518843577,
          0.3935983479607641,
          0.4038203407330924,
          0.4140423335054208,
          0.4242643262777491,
          0.4344863190500774,
          0.4447083118224058,
          0.4549303045947341,
          0.46515229736706243,
          0.4753742901393908,
          0.48559628291171913,
          0.5162622612287042,
          0.5571502323180175
         ]
        }
       ],
       "layout": {
        "font": {
         "size": 18
        },
        "height": 600,
        "paper_bgcolor": "rgba(0,0,0,0)",
        "plot_bgcolor": "rgba(0,0,0,0)",
        "showlegend": false,
        "template": {
         "data": {
          "bar": [
           {
            "error_x": {
             "color": "rgb(36,36,36)"
            },
            "error_y": {
             "color": "rgb(36,36,36)"
            },
            "marker": {
             "line": {
              "color": "white",
              "width": 0.5
             }
            },
            "type": "bar"
           }
          ],
          "barpolar": [
           {
            "marker": {
             "line": {
              "color": "white",
              "width": 0.5
             }
            },
            "type": "barpolar"
           }
          ],
          "carpet": [
           {
            "aaxis": {
             "endlinecolor": "rgb(36,36,36)",
             "gridcolor": "white",
             "linecolor": "white",
             "minorgridcolor": "white",
             "startlinecolor": "rgb(36,36,36)"
            },
            "baxis": {
             "endlinecolor": "rgb(36,36,36)",
             "gridcolor": "white",
             "linecolor": "white",
             "minorgridcolor": "white",
             "startlinecolor": "rgb(36,36,36)"
            },
            "type": "carpet"
           }
          ],
          "choropleth": [
           {
            "colorbar": {
             "outlinewidth": 1,
             "tickcolor": "rgb(36,36,36)",
             "ticks": "outside"
            },
            "type": "choropleth"
           }
          ],
          "contour": [
           {
            "colorbar": {
             "outlinewidth": 1,
             "tickcolor": "rgb(36,36,36)",
             "ticks": "outside"
            },
            "colorscale": [
             [
              0,
              "#440154"
             ],
             [
              0.1111111111111111,
              "#482878"
             ],
             [
              0.2222222222222222,
              "#3e4989"
             ],
             [
              0.3333333333333333,
              "#31688e"
             ],
             [
              0.4444444444444444,
              "#26828e"
             ],
             [
              0.5555555555555556,
              "#1f9e89"
             ],
             [
              0.6666666666666666,
              "#35b779"
             ],
             [
              0.7777777777777778,
              "#6ece58"
             ],
             [
              0.8888888888888888,
              "#b5de2b"
             ],
             [
              1,
              "#fde725"
             ]
            ],
            "type": "contour"
           }
          ],
          "contourcarpet": [
           {
            "colorbar": {
             "outlinewidth": 1,
             "tickcolor": "rgb(36,36,36)",
             "ticks": "outside"
            },
            "type": "contourcarpet"
           }
          ],
          "heatmap": [
           {
            "colorbar": {
             "outlinewidth": 1,
             "tickcolor": "rgb(36,36,36)",
             "ticks": "outside"
            },
            "colorscale": [
             [
              0,
              "#440154"
             ],
             [
              0.1111111111111111,
              "#482878"
             ],
             [
              0.2222222222222222,
              "#3e4989"
             ],
             [
              0.3333333333333333,
              "#31688e"
             ],
             [
              0.4444444444444444,
              "#26828e"
             ],
             [
              0.5555555555555556,
              "#1f9e89"
             ],
             [
              0.6666666666666666,
              "#35b779"
             ],
             [
              0.7777777777777778,
              "#6ece58"
             ],
             [
              0.8888888888888888,
              "#b5de2b"
             ],
             [
              1,
              "#fde725"
             ]
            ],
            "type": "heatmap"
           }
          ],
          "heatmapgl": [
           {
            "colorbar": {
             "outlinewidth": 1,
             "tickcolor": "rgb(36,36,36)",
             "ticks": "outside"
            },
            "colorscale": [
             [
              0,
              "#440154"
             ],
             [
              0.1111111111111111,
              "#482878"
             ],
             [
              0.2222222222222222,
              "#3e4989"
             ],
             [
              0.3333333333333333,
              "#31688e"
             ],
             [
              0.4444444444444444,
              "#26828e"
             ],
             [
              0.5555555555555556,
              "#1f9e89"
             ],
             [
              0.6666666666666666,
              "#35b779"
             ],
             [
              0.7777777777777778,
              "#6ece58"
             ],
             [
              0.8888888888888888,
              "#b5de2b"
             ],
             [
              1,
              "#fde725"
             ]
            ],
            "type": "heatmapgl"
           }
          ],
          "histogram": [
           {
            "marker": {
             "line": {
              "color": "white",
              "width": 0.6
             }
            },
            "type": "histogram"
           }
          ],
          "histogram2d": [
           {
            "colorbar": {
             "outlinewidth": 1,
             "tickcolor": "rgb(36,36,36)",
             "ticks": "outside"
            },
            "colorscale": [
             [
              0,
              "#440154"
             ],
             [
              0.1111111111111111,
              "#482878"
             ],
             [
              0.2222222222222222,
              "#3e4989"
             ],
             [
              0.3333333333333333,
              "#31688e"
             ],
             [
              0.4444444444444444,
              "#26828e"
             ],
             [
              0.5555555555555556,
              "#1f9e89"
             ],
             [
              0.6666666666666666,
              "#35b779"
             ],
             [
              0.7777777777777778,
              "#6ece58"
             ],
             [
              0.8888888888888888,
              "#b5de2b"
             ],
             [
              1,
              "#fde725"
             ]
            ],
            "type": "histogram2d"
           }
          ],
          "histogram2dcontour": [
           {
            "colorbar": {
             "outlinewidth": 1,
             "tickcolor": "rgb(36,36,36)",
             "ticks": "outside"
            },
            "colorscale": [
             [
              0,
              "#440154"
             ],
             [
              0.1111111111111111,
              "#482878"
             ],
             [
              0.2222222222222222,
              "#3e4989"
             ],
             [
              0.3333333333333333,
              "#31688e"
             ],
             [
              0.4444444444444444,
              "#26828e"
             ],
             [
              0.5555555555555556,
              "#1f9e89"
             ],
             [
              0.6666666666666666,
              "#35b779"
             ],
             [
              0.7777777777777778,
              "#6ece58"
             ],
             [
              0.8888888888888888,
              "#b5de2b"
             ],
             [
              1,
              "#fde725"
             ]
            ],
            "type": "histogram2dcontour"
           }
          ],
          "mesh3d": [
           {
            "colorbar": {
             "outlinewidth": 1,
             "tickcolor": "rgb(36,36,36)",
             "ticks": "outside"
            },
            "type": "mesh3d"
           }
          ],
          "parcoords": [
           {
            "line": {
             "colorbar": {
              "outlinewidth": 1,
              "tickcolor": "rgb(36,36,36)",
              "ticks": "outside"
             }
            },
            "type": "parcoords"
           }
          ],
          "pie": [
           {
            "automargin": true,
            "type": "pie"
           }
          ],
          "scatter": [
           {
            "marker": {
             "colorbar": {
              "outlinewidth": 1,
              "tickcolor": "rgb(36,36,36)",
              "ticks": "outside"
             }
            },
            "type": "scatter"
           }
          ],
          "scatter3d": [
           {
            "line": {
             "colorbar": {
              "outlinewidth": 1,
              "tickcolor": "rgb(36,36,36)",
              "ticks": "outside"
             }
            },
            "marker": {
             "colorbar": {
              "outlinewidth": 1,
              "tickcolor": "rgb(36,36,36)",
              "ticks": "outside"
             }
            },
            "type": "scatter3d"
           }
          ],
          "scattercarpet": [
           {
            "marker": {
             "colorbar": {
              "outlinewidth": 1,
              "tickcolor": "rgb(36,36,36)",
              "ticks": "outside"
             }
            },
            "type": "scattercarpet"
           }
          ],
          "scattergeo": [
           {
            "marker": {
             "colorbar": {
              "outlinewidth": 1,
              "tickcolor": "rgb(36,36,36)",
              "ticks": "outside"
             }
            },
            "type": "scattergeo"
           }
          ],
          "scattergl": [
           {
            "marker": {
             "colorbar": {
              "outlinewidth": 1,
              "tickcolor": "rgb(36,36,36)",
              "ticks": "outside"
             }
            },
            "type": "scattergl"
           }
          ],
          "scattermapbox": [
           {
            "marker": {
             "colorbar": {
              "outlinewidth": 1,
              "tickcolor": "rgb(36,36,36)",
              "ticks": "outside"
             }
            },
            "type": "scattermapbox"
           }
          ],
          "scatterpolar": [
           {
            "marker": {
             "colorbar": {
              "outlinewidth": 1,
              "tickcolor": "rgb(36,36,36)",
              "ticks": "outside"
             }
            },
            "type": "scatterpolar"
           }
          ],
          "scatterpolargl": [
           {
            "marker": {
             "colorbar": {
              "outlinewidth": 1,
              "tickcolor": "rgb(36,36,36)",
              "ticks": "outside"
             }
            },
            "type": "scatterpolargl"
           }
          ],
          "scatterternary": [
           {
            "marker": {
             "colorbar": {
              "outlinewidth": 1,
              "tickcolor": "rgb(36,36,36)",
              "ticks": "outside"
             }
            },
            "type": "scatterternary"
           }
          ],
          "surface": [
           {
            "colorbar": {
             "outlinewidth": 1,
             "tickcolor": "rgb(36,36,36)",
             "ticks": "outside"
            },
            "colorscale": [
             [
              0,
              "#440154"
             ],
             [
              0.1111111111111111,
              "#482878"
             ],
             [
              0.2222222222222222,
              "#3e4989"
             ],
             [
              0.3333333333333333,
              "#31688e"
             ],
             [
              0.4444444444444444,
              "#26828e"
             ],
             [
              0.5555555555555556,
              "#1f9e89"
             ],
             [
              0.6666666666666666,
              "#35b779"
             ],
             [
              0.7777777777777778,
              "#6ece58"
             ],
             [
              0.8888888888888888,
              "#b5de2b"
             ],
             [
              1,
              "#fde725"
             ]
            ],
            "type": "surface"
           }
          ],
          "table": [
           {
            "cells": {
             "fill": {
              "color": "rgb(237,237,237)"
             },
             "line": {
              "color": "white"
             }
            },
            "header": {
             "fill": {
              "color": "rgb(217,217,217)"
             },
             "line": {
              "color": "white"
             }
            },
            "type": "table"
           }
          ]
         },
         "layout": {
          "annotationdefaults": {
           "arrowhead": 0,
           "arrowwidth": 1
          },
          "coloraxis": {
           "colorbar": {
            "outlinewidth": 1,
            "tickcolor": "rgb(36,36,36)",
            "ticks": "outside"
           }
          },
          "colorscale": {
           "diverging": [
            [
             0,
             "rgb(103,0,31)"
            ],
            [
             0.1,
             "rgb(178,24,43)"
            ],
            [
             0.2,
             "rgb(214,96,77)"
            ],
            [
             0.3,
             "rgb(244,165,130)"
            ],
            [
             0.4,
             "rgb(253,219,199)"
            ],
            [
             0.5,
             "rgb(247,247,247)"
            ],
            [
             0.6,
             "rgb(209,229,240)"
            ],
            [
             0.7,
             "rgb(146,197,222)"
            ],
            [
             0.8,
             "rgb(67,147,195)"
            ],
            [
             0.9,
             "rgb(33,102,172)"
            ],
            [
             1,
             "rgb(5,48,97)"
            ]
           ],
           "sequential": [
            [
             0,
             "#440154"
            ],
            [
             0.1111111111111111,
             "#482878"
            ],
            [
             0.2222222222222222,
             "#3e4989"
            ],
            [
             0.3333333333333333,
             "#31688e"
            ],
            [
             0.4444444444444444,
             "#26828e"
            ],
            [
             0.5555555555555556,
             "#1f9e89"
            ],
            [
             0.6666666666666666,
             "#35b779"
            ],
            [
             0.7777777777777778,
             "#6ece58"
            ],
            [
             0.8888888888888888,
             "#b5de2b"
            ],
            [
             1,
             "#fde725"
            ]
           ],
           "sequentialminus": [
            [
             0,
             "#440154"
            ],
            [
             0.1111111111111111,
             "#482878"
            ],
            [
             0.2222222222222222,
             "#3e4989"
            ],
            [
             0.3333333333333333,
             "#31688e"
            ],
            [
             0.4444444444444444,
             "#26828e"
            ],
            [
             0.5555555555555556,
             "#1f9e89"
            ],
            [
             0.6666666666666666,
             "#35b779"
            ],
            [
             0.7777777777777778,
             "#6ece58"
            ],
            [
             0.8888888888888888,
             "#b5de2b"
            ],
            [
             1,
             "#fde725"
            ]
           ]
          },
          "colorway": [
           "#1F77B4",
           "#FF7F0E",
           "#2CA02C",
           "#D62728",
           "#9467BD",
           "#8C564B",
           "#E377C2",
           "#7F7F7F",
           "#BCBD22",
           "#17BECF"
          ],
          "font": {
           "color": "rgb(36,36,36)"
          },
          "geo": {
           "bgcolor": "white",
           "lakecolor": "white",
           "landcolor": "white",
           "showlakes": true,
           "showland": true,
           "subunitcolor": "white"
          },
          "hoverlabel": {
           "align": "left"
          },
          "hovermode": "closest",
          "mapbox": {
           "style": "light"
          },
          "paper_bgcolor": "white",
          "plot_bgcolor": "white",
          "polar": {
           "angularaxis": {
            "gridcolor": "rgb(232,232,232)",
            "linecolor": "rgb(36,36,36)",
            "showgrid": false,
            "showline": true,
            "ticks": "outside"
           },
           "bgcolor": "white",
           "radialaxis": {
            "gridcolor": "rgb(232,232,232)",
            "linecolor": "rgb(36,36,36)",
            "showgrid": false,
            "showline": true,
            "ticks": "outside"
           }
          },
          "scene": {
           "xaxis": {
            "backgroundcolor": "white",
            "gridcolor": "rgb(232,232,232)",
            "gridwidth": 2,
            "linecolor": "rgb(36,36,36)",
            "showbackground": true,
            "showgrid": false,
            "showline": true,
            "ticks": "outside",
            "zeroline": false,
            "zerolinecolor": "rgb(36,36,36)"
           },
           "yaxis": {
            "backgroundcolor": "white",
            "gridcolor": "rgb(232,232,232)",
            "gridwidth": 2,
            "linecolor": "rgb(36,36,36)",
            "showbackground": true,
            "showgrid": false,
            "showline": true,
            "ticks": "outside",
            "zeroline": false,
            "zerolinecolor": "rgb(36,36,36)"
           },
           "zaxis": {
            "backgroundcolor": "white",
            "gridcolor": "rgb(232,232,232)",
            "gridwidth": 2,
            "linecolor": "rgb(36,36,36)",
            "showbackground": true,
            "showgrid": false,
            "showline": true,
            "ticks": "outside",
            "zeroline": false,
            "zerolinecolor": "rgb(36,36,36)"
           }
          },
          "shapedefaults": {
           "fillcolor": "black",
           "line": {
            "width": 0
           },
           "opacity": 0.3
          },
          "ternary": {
           "aaxis": {
            "gridcolor": "rgb(232,232,232)",
            "linecolor": "rgb(36,36,36)",
            "showgrid": false,
            "showline": true,
            "ticks": "outside"
           },
           "baxis": {
            "gridcolor": "rgb(232,232,232)",
            "linecolor": "rgb(36,36,36)",
            "showgrid": false,
            "showline": true,
            "ticks": "outside"
           },
           "bgcolor": "white",
           "caxis": {
            "gridcolor": "rgb(232,232,232)",
            "linecolor": "rgb(36,36,36)",
            "showgrid": false,
            "showline": true,
            "ticks": "outside"
           }
          },
          "title": {
           "x": 0.05
          },
          "xaxis": {
           "automargin": true,
           "gridcolor": "rgb(232,232,232)",
           "linecolor": "rgb(36,36,36)",
           "showgrid": false,
           "showline": true,
           "ticks": "outside",
           "title": {
            "standoff": 15
           },
           "zeroline": false,
           "zerolinecolor": "rgb(36,36,36)"
          },
          "yaxis": {
           "automargin": true,
           "gridcolor": "rgb(232,232,232)",
           "linecolor": "rgb(36,36,36)",
           "showgrid": false,
           "showline": true,
           "ticks": "outside",
           "title": {
            "standoff": 15
           },
           "zeroline": false,
           "zerolinecolor": "rgb(36,36,36)"
          }
         }
        },
        "width": 600,
        "xaxis": {
         "mirror": true,
         "range": [
          0,
          4
         ],
         "showline": true
        },
        "yaxis": {
         "mirror": false,
         "range": [
          0.1,
          1.25
         ],
         "showline": true
        }
       }
      },
      "text/html": [
       "<div>                            <div id=\"ce4cd858-029f-4f75-9395-4c3145de6d9e\" class=\"plotly-graph-div\" style=\"height:600px; width:600px;\"></div>            <script type=\"text/javascript\">                require([\"plotly\"], function(Plotly) {                    window.PLOTLYENV=window.PLOTLYENV || {};                                    if (document.getElementById(\"ce4cd858-029f-4f75-9395-4c3145de6d9e\")) {                    Plotly.newPlot(                        \"ce4cd858-029f-4f75-9395-4c3145de6d9e\",                        [{\"fill\": \"tozerox\", \"fillcolor\": \"rgba(245, 121, 58, 1)\", \"mode\": \"none\", \"type\": \"scatter\", \"x\": [2.075234899328859, 2.075234899328859, 2.001476510067114, 2.001476510067114, 2.001476510067114, 2.001476510067114, 2.001476510067114, 2.001476510067114, 2.001476510067114, 2.001476510067114, 1.927718120805369, 1.927718120805369, 1.927718120805369, 1.927718120805369, 1.927718120805369, 1.927718120805369, 1.927718120805369, 1.927718120805369, 1.8539597315436243, 1.8539597315436243, 1.8539597315436243, 1.8539597315436243, 1.8539597315436243, 1.8539597315436243, 1.8539597315436243, 1.8539597315436243, 1.7802013422818792, 1.7802013422818792, 1.7802013422818792, 1.7802013422818792, 1.7802013422818792, 1.7802013422818792, 1.7802013422818792, 1.7802013422818792, 1.7064429530201342, 1.7064429530201342, 1.7064429530201342, 1.7064429530201342, 1.7064429530201342, 1.7064429530201342, 1.7064429530201342, 1.7064429530201342, 1.6326845637583893, 1.6326845637583893, 1.6326845637583893, 1.6326845637583893, 1.6326845637583893, 1.5589261744966443, 1.5087417829104726], \"y\": [0.015384615384615385, 0.02560660815694373, 0.03582860092927207, 0.04605059370160041, 0.05627258647392875, 0.0664945792462571, 0.07671657201858545, 0.08693856479091377, 0.09716055756324213, 0.10738255033557047, 0.11760454310789882, 0.12782653588022713, 0.13804852865255549, 0.14827052142488384, 0.1584925141972122, 0.16871450696954055, 0.17893649974186887, 0.18915849251419722, 0.19938048528652558, 0.20960247805885393, 0.21982447083118226, 0.23004646360351058, 0.24026845637583893, 0.25049044914816726, 0.26071244192049564, 0.27093443469282397, 0.2811564274651523, 0.2913784202374807, 0.301600413009809, 0.3118224057821373, 0.32204439855446565, 0.33226639132679403, 0.34248838409912236, 0.3527103768714507, 0.36293236964377906, 0.3731543624161074, 0.38337635518843577, 0.3935983479607641, 0.4038203407330924, 0.4140423335054208, 0.4242643262777491, 0.4344863190500774, 0.4447083118224058, 0.4549303045947341, 0.46515229736706243, 0.4753742901393908, 0.48559628291171913, 0.5162622612287042, 0.5571509468320811]}, {\"fill\": \"tonextx\", \"fillcolor\": \"rgba(15, 32, 128, 1)\", \"mode\": \"none\", \"type\": \"scatter\", \"x\": [10.483691275167786, 9.819865771812081, 9.08228187919463, 8.418456375838925, 7.754630872483221, 7.017046979865771, 6.648255033557047, 6.279463087248322, 5.910671140939597, 5.541879194630872, 5.246845637583893, 4.878053691275167, 4.583020134228188, 4.4355033557046974, 4.2142281879194625, 3.992953020134228, 3.845436241610738, 3.624161073825503, 3.4766442953020134, 3.3291275167785233, 3.181610738255033, 3.1078523489932883, 2.9603355704697982, 2.8865771812080534, 2.7390604026845637, 2.6653020134228185, 2.517785234899329, 2.4440268456375835, 2.3702684563758387, 2.3702684563758387, 2.296510067114094, 2.2227516778523486, 2.148993288590604, 2.075234899328859, 2.001476510067114, 2.001476510067114, 1.927718120805369, 1.927718120805369, 1.8539597315436243, 1.8539597315436243, 1.7802013422818792, 1.7802013422818792, 1.7064429530201342, 1.7064429530201342, 1.6326845637583893, 1.6326845637583893, 1.6326845637583893, 1.5589261744966443], \"y\": [0.015384615384615385, 0.02560660815694373, 0.03582860092927207, 0.04605059370160041, 0.05627258647392875, 0.0664945792462571, 0.07671657201858545, 0.08693856479091377, 0.09716055756324213, 0.10738255033557047, 0.11760454310789882, 0.12782653588022713, 0.13804852865255549, 0.14827052142488384, 0.1584925141972122, 0.16871450696954055, 0.17893649974186887, 0.18915849251419722, 0.19938048528652558, 0.20960247805885393, 0.21982447083118226, 0.23004646360351058, 0.24026845637583893, 0.25049044914816726, 0.26071244192049564, 0.27093443469282397, 0.2811564274651523, 0.2913784202374807, 0.301600413009809, 0.3118224057821373, 0.32204439855446565, 0.33226639132679403, 0.34248838409912236, 0.3527103768714507, 0.36293236964377906, 0.3731543624161074, 0.38337635518843577, 0.3935983479607641, 0.4038203407330924, 0.4140423335054208, 0.4242643262777491, 0.4344863190500774, 0.4447083118224058, 0.4549303045947341, 0.46515229736706243, 0.4753742901393908, 0.48559628291171913, 0.5162622612287042]}, {\"fill\": \"tozerox\", \"fillcolor\": \"rgba(245, 121, 58, 1)\", \"line\": {\"color\": \"rgba(78, 247, 75, 1)\", \"width\": 6}, \"mode\": \"lines\", \"type\": \"scatter\", \"x\": [0.010000000000000002, 0.04281041923431713, 0.04281041923431713, 0.04281041923431713, 0.08375838926174496, 0.1165688084960621, 0.15751677852348994, 0.1903271977578071, 0.1903271977578071, 0.23127516778523494, 0.2640855870195521, 0.3050335570469799, 0.3787919463087248, 0.41160236554304197, 0.4525503355704698, 0.48536075480478696, 0.5263087248322148, 0.559119144066532, 0.6000671140939597, 0.6738255033557047, 0.7066359225900218, 0.7475838926174496, 0.7803943118517669, 0.8213422818791947, 0.8541527011135117, 0.8951006711409396, 0.9279110903752568, 0.9279110903752568, 0.9688590604026845, 1.0016694796370018, 1.0426174496644296, 1.0754278688987466, 1.0754278688987466, 1.0754278688987466, 1.1163758389261744, 1.1491862581604915, 1.1491862581604915, 1.1491862581604915, 1.1491862581604915, 1.1491862581604915, 1.1491862581604915, 1.1901342281879195, 1.206539437805078, 1.2229446474222367, 1.2229446474222367, 1.2229446474222367, 1.2229446474222367, 1.2229446474222367, 1.2229446474222367, 1.2638926174496645, 1.280297827066823, 1.280297827066823, 1.2967030366839816, 1.2967030366839816, 1.2967030366839816, 1.2967030366839816, 1.3171770216976957, 1.3376510067114094, 1.3540562163285679, 1.3540562163285679, 1.3540562163285679, 1.3909354109594405, 1.3909354109594405, 1.3909354109594405, 1.4114093959731544, 1.4223462023845936, 1.4223462023845936, 1.4380515980971698, 1.4469323321385084, 1.4469323321385084, 1.4715184618924235, 1.4851677852348992, 1.5064815469341117, 1.5064815469341117, 1.5212332247864606, 1.5212332247864606, 1.5212332247864606], \"y\": [1.0932409713446298, 1.0886938564790913, 1.078471863706763, 1.0682498709344346, 1.0625749930276447, 1.0580278781621062, 1.0523530002553163, 1.047805885389778, 1.0375838926174497, 1.0319090147106598, 1.0273618998451213, 1.0216870219383314, 1.0216870219383314, 1.017139907072793, 1.011465029166003, 1.0069179143004645, 1.0012430363936746, 0.9966959215281362, 0.9910210436213464, 0.9910210436213464, 0.986473928755808, 0.9807990508490181, 0.9762519359834796, 0.9705770580766897, 0.9660299432111512, 0.9603550653043613, 0.9558079504388228, 0.9455859576664944, 0.9399110797597046, 0.9353639648941662, 0.9296890869873763, 0.9251419721218378, 0.9149199793495095, 0.9046979865771811, 0.8990231086703913, 0.8944759938048528, 0.8842540010325244, 0.874032008260196, 0.8638100154878677, 0.8535880227155394, 0.843366029943211, 0.8376911520364212, 0.8331440371708828, 0.8229220443985544, 0.8127000516262262, 0.8024780588538978, 0.7922560660815694, 0.782034073309241, 0.7718120805369127, 0.7661372026301229, 0.7615900877645844, 0.751368094992256, 0.7411461022199277, 0.7309241094475993, 0.720702116675271, 0.7104801239029427, 0.7002581311306143, 0.6945832532238244, 0.6900361383582859, 0.6798141455859577, 0.6695921528136293, 0.6593701600413009, 0.6491481672689725, 0.6389261744966442, 0.6332512965898544, 0.6287041817243159, 0.6184821889519875, 0.6082601961796592, 0.5980382034073309, 0.5878162106350026, 0.5775942178626743, 0.5747567789092793, 0.5673722250903459, 0.5571502323180175, 0.5469282395456893, 0.5367062467733609, 0.5264842540010325]}, {\"line\": {\"color\": \"rgba(78, 247, 75, 1)\", \"width\": 6}, \"mode\": \"lines\", \"type\": \"scatter\", \"x\": [2.075234899328859, 2.075234899328859, 2.001476510067114, 2.001476510067114, 2.001476510067114, 2.001476510067114, 2.001476510067114, 2.001476510067114, 2.001476510067114, 2.001476510067114, 1.927718120805369, 1.927718120805369, 1.927718120805369, 1.927718120805369, 1.927718120805369, 1.927718120805369, 1.927718120805369, 1.927718120805369, 1.8539597315436243, 1.8539597315436243, 1.8539597315436243, 1.8539597315436243, 1.8539597315436243, 1.8539597315436243, 1.8539597315436243, 1.8539597315436243, 1.7802013422818792, 1.7802013422818792, 1.7802013422818792, 1.7802013422818792, 1.7802013422818792, 1.7802013422818792, 1.7802013422818792, 1.7802013422818792, 1.7064429530201342, 1.7064429530201342, 1.7064429530201342, 1.7064429530201342, 1.7064429530201342, 1.7064429530201342, 1.7064429530201342, 1.7064429530201342, 1.6326845637583893, 1.6326845637583893, 1.6326845637583893, 1.6326845637583893, 1.6326845637583893, 1.5589261744966443, 1.5087417829104726], \"y\": [0.015384615384615385, 0.02560660815694373, 0.03582860092927207, 0.04605059370160041, 0.05627258647392875, 0.0664945792462571, 0.07671657201858545, 0.08693856479091377, 0.09716055756324213, 0.10738255033557047, 0.11760454310789882, 0.12782653588022713, 0.13804852865255549, 0.14827052142488384, 0.1584925141972122, 0.16871450696954055, 0.17893649974186887, 0.18915849251419722, 0.19938048528652558, 0.20960247805885393, 0.21982447083118226, 0.23004646360351058, 0.24026845637583893, 0.25049044914816726, 0.26071244192049564, 0.27093443469282397, 0.2811564274651523, 0.2913784202374807, 0.301600413009809, 0.3118224057821373, 0.32204439855446565, 0.33226639132679403, 0.34248838409912236, 0.3527103768714507, 0.36293236964377906, 0.3731543624161074, 0.38337635518843577, 0.3935983479607641, 0.4038203407330924, 0.4140423335054208, 0.4242643262777491, 0.4344863190500774, 0.4447083118224058, 0.4549303045947341, 0.46515229736706243, 0.4753742901393908, 0.48559628291171913, 0.5162622612287042, 0.5571502323180175]}, {\"line\": {\"color\": \"rgba(78, 247, 75, 1)\", \"width\": 6}, \"mode\": \"lines\", \"type\": \"scatter\", \"x\": [10.483691275167786, 9.819865771812081, 9.08228187919463, 8.418456375838925, 7.754630872483221, 7.017046979865771, 6.648255033557047, 6.279463087248322, 5.910671140939597, 5.541879194630872, 5.246845637583893, 4.878053691275167, 4.583020134228188, 4.4355033557046974, 4.2142281879194625, 3.992953020134228, 3.845436241610738, 3.624161073825503, 3.4766442953020134, 3.3291275167785233, 3.181610738255033, 3.1078523489932883, 2.9603355704697982, 2.8865771812080534, 2.7390604026845637, 2.6653020134228185, 2.517785234899329, 2.4440268456375835, 2.3702684563758387, 2.3702684563758387, 2.296510067114094, 2.2227516778523486, 2.148993288590604, 2.075234899328859, 2.001476510067114, 2.001476510067114, 1.927718120805369, 1.927718120805369, 1.8539597315436243, 1.8539597315436243, 1.7802013422818792, 1.7802013422818792, 1.7064429530201342, 1.7064429530201342, 1.6326845637583893, 1.6326845637583893, 1.6326845637583893, 1.5589261744966443, 1.5087417829104726], \"y\": [0.015384615384615385, 0.02560660815694373, 0.03582860092927207, 0.04605059370160041, 0.05627258647392875, 0.0664945792462571, 0.07671657201858545, 0.08693856479091377, 0.09716055756324213, 0.10738255033557047, 0.11760454310789882, 0.12782653588022713, 0.13804852865255549, 0.14827052142488384, 0.1584925141972122, 0.16871450696954055, 0.17893649974186887, 0.18915849251419722, 0.19938048528652558, 0.20960247805885393, 0.21982447083118226, 0.23004646360351058, 0.24026845637583893, 0.25049044914816726, 0.26071244192049564, 0.27093443469282397, 0.2811564274651523, 0.2913784202374807, 0.301600413009809, 0.3118224057821373, 0.32204439855446565, 0.33226639132679403, 0.34248838409912236, 0.3527103768714507, 0.36293236964377906, 0.3731543624161074, 0.38337635518843577, 0.3935983479607641, 0.4038203407330924, 0.4140423335054208, 0.4242643262777491, 0.4344863190500774, 0.4447083118224058, 0.4549303045947341, 0.46515229736706243, 0.4753742901393908, 0.48559628291171913, 0.5162622612287042, 0.5571502323180175]}],                        {\"font\": {\"size\": 18}, \"height\": 600, \"paper_bgcolor\": \"rgba(0,0,0,0)\", \"plot_bgcolor\": \"rgba(0,0,0,0)\", \"showlegend\": false, \"template\": {\"data\": {\"bar\": [{\"error_x\": {\"color\": \"rgb(36,36,36)\"}, \"error_y\": {\"color\": \"rgb(36,36,36)\"}, \"marker\": {\"line\": {\"color\": \"white\", \"width\": 0.5}}, \"type\": \"bar\"}], \"barpolar\": [{\"marker\": {\"line\": {\"color\": \"white\", \"width\": 0.5}}, \"type\": \"barpolar\"}], \"carpet\": [{\"aaxis\": {\"endlinecolor\": \"rgb(36,36,36)\", \"gridcolor\": \"white\", \"linecolor\": \"white\", \"minorgridcolor\": \"white\", \"startlinecolor\": \"rgb(36,36,36)\"}, \"baxis\": {\"endlinecolor\": \"rgb(36,36,36)\", \"gridcolor\": \"white\", \"linecolor\": \"white\", \"minorgridcolor\": \"white\", \"startlinecolor\": \"rgb(36,36,36)\"}, \"type\": \"carpet\"}], \"choropleth\": [{\"colorbar\": {\"outlinewidth\": 1, \"tickcolor\": \"rgb(36,36,36)\", \"ticks\": \"outside\"}, \"type\": \"choropleth\"}], \"contour\": [{\"colorbar\": {\"outlinewidth\": 1, \"tickcolor\": \"rgb(36,36,36)\", \"ticks\": \"outside\"}, \"colorscale\": [[0.0, \"#440154\"], [0.1111111111111111, \"#482878\"], [0.2222222222222222, \"#3e4989\"], [0.3333333333333333, \"#31688e\"], [0.4444444444444444, \"#26828e\"], [0.5555555555555556, \"#1f9e89\"], [0.6666666666666666, \"#35b779\"], [0.7777777777777778, \"#6ece58\"], [0.8888888888888888, \"#b5de2b\"], [1.0, \"#fde725\"]], \"type\": \"contour\"}], \"contourcarpet\": [{\"colorbar\": {\"outlinewidth\": 1, \"tickcolor\": \"rgb(36,36,36)\", \"ticks\": \"outside\"}, \"type\": \"contourcarpet\"}], \"heatmap\": [{\"colorbar\": {\"outlinewidth\": 1, \"tickcolor\": \"rgb(36,36,36)\", \"ticks\": \"outside\"}, \"colorscale\": [[0.0, \"#440154\"], [0.1111111111111111, \"#482878\"], [0.2222222222222222, \"#3e4989\"], [0.3333333333333333, \"#31688e\"], [0.4444444444444444, \"#26828e\"], [0.5555555555555556, \"#1f9e89\"], [0.6666666666666666, \"#35b779\"], [0.7777777777777778, \"#6ece58\"], [0.8888888888888888, \"#b5de2b\"], [1.0, \"#fde725\"]], \"type\": \"heatmap\"}], \"heatmapgl\": [{\"colorbar\": {\"outlinewidth\": 1, \"tickcolor\": \"rgb(36,36,36)\", \"ticks\": \"outside\"}, \"colorscale\": [[0.0, \"#440154\"], [0.1111111111111111, \"#482878\"], [0.2222222222222222, \"#3e4989\"], [0.3333333333333333, \"#31688e\"], [0.4444444444444444, \"#26828e\"], [0.5555555555555556, \"#1f9e89\"], [0.6666666666666666, \"#35b779\"], [0.7777777777777778, \"#6ece58\"], [0.8888888888888888, \"#b5de2b\"], [1.0, \"#fde725\"]], \"type\": \"heatmapgl\"}], \"histogram\": [{\"marker\": {\"line\": {\"color\": \"white\", \"width\": 0.6}}, \"type\": \"histogram\"}], \"histogram2d\": [{\"colorbar\": {\"outlinewidth\": 1, \"tickcolor\": \"rgb(36,36,36)\", \"ticks\": \"outside\"}, \"colorscale\": [[0.0, \"#440154\"], [0.1111111111111111, \"#482878\"], [0.2222222222222222, \"#3e4989\"], [0.3333333333333333, \"#31688e\"], [0.4444444444444444, \"#26828e\"], [0.5555555555555556, \"#1f9e89\"], [0.6666666666666666, \"#35b779\"], [0.7777777777777778, \"#6ece58\"], [0.8888888888888888, \"#b5de2b\"], [1.0, \"#fde725\"]], \"type\": \"histogram2d\"}], \"histogram2dcontour\": [{\"colorbar\": {\"outlinewidth\": 1, \"tickcolor\": \"rgb(36,36,36)\", \"ticks\": \"outside\"}, \"colorscale\": [[0.0, \"#440154\"], [0.1111111111111111, \"#482878\"], [0.2222222222222222, \"#3e4989\"], [0.3333333333333333, \"#31688e\"], [0.4444444444444444, \"#26828e\"], [0.5555555555555556, \"#1f9e89\"], [0.6666666666666666, \"#35b779\"], [0.7777777777777778, \"#6ece58\"], [0.8888888888888888, \"#b5de2b\"], [1.0, \"#fde725\"]], \"type\": \"histogram2dcontour\"}], \"mesh3d\": [{\"colorbar\": {\"outlinewidth\": 1, \"tickcolor\": \"rgb(36,36,36)\", \"ticks\": \"outside\"}, \"type\": \"mesh3d\"}], \"parcoords\": [{\"line\": {\"colorbar\": {\"outlinewidth\": 1, \"tickcolor\": \"rgb(36,36,36)\", \"ticks\": \"outside\"}}, \"type\": \"parcoords\"}], \"pie\": [{\"automargin\": true, \"type\": \"pie\"}], \"scatter\": [{\"marker\": {\"colorbar\": {\"outlinewidth\": 1, \"tickcolor\": \"rgb(36,36,36)\", \"ticks\": \"outside\"}}, \"type\": \"scatter\"}], \"scatter3d\": [{\"line\": {\"colorbar\": {\"outlinewidth\": 1, \"tickcolor\": \"rgb(36,36,36)\", \"ticks\": \"outside\"}}, \"marker\": {\"colorbar\": {\"outlinewidth\": 1, \"tickcolor\": \"rgb(36,36,36)\", \"ticks\": \"outside\"}}, \"type\": \"scatter3d\"}], \"scattercarpet\": [{\"marker\": {\"colorbar\": {\"outlinewidth\": 1, \"tickcolor\": \"rgb(36,36,36)\", \"ticks\": \"outside\"}}, \"type\": \"scattercarpet\"}], \"scattergeo\": [{\"marker\": {\"colorbar\": {\"outlinewidth\": 1, \"tickcolor\": \"rgb(36,36,36)\", \"ticks\": \"outside\"}}, \"type\": \"scattergeo\"}], \"scattergl\": [{\"marker\": {\"colorbar\": {\"outlinewidth\": 1, \"tickcolor\": \"rgb(36,36,36)\", \"ticks\": \"outside\"}}, \"type\": \"scattergl\"}], \"scattermapbox\": [{\"marker\": {\"colorbar\": {\"outlinewidth\": 1, \"tickcolor\": \"rgb(36,36,36)\", \"ticks\": \"outside\"}}, \"type\": \"scattermapbox\"}], \"scatterpolar\": [{\"marker\": {\"colorbar\": {\"outlinewidth\": 1, \"tickcolor\": \"rgb(36,36,36)\", \"ticks\": \"outside\"}}, \"type\": \"scatterpolar\"}], \"scatterpolargl\": [{\"marker\": {\"colorbar\": {\"outlinewidth\": 1, \"tickcolor\": \"rgb(36,36,36)\", \"ticks\": \"outside\"}}, \"type\": \"scatterpolargl\"}], \"scatterternary\": [{\"marker\": {\"colorbar\": {\"outlinewidth\": 1, \"tickcolor\": \"rgb(36,36,36)\", \"ticks\": \"outside\"}}, \"type\": \"scatterternary\"}], \"surface\": [{\"colorbar\": {\"outlinewidth\": 1, \"tickcolor\": \"rgb(36,36,36)\", \"ticks\": \"outside\"}, \"colorscale\": [[0.0, \"#440154\"], [0.1111111111111111, \"#482878\"], [0.2222222222222222, \"#3e4989\"], [0.3333333333333333, \"#31688e\"], [0.4444444444444444, \"#26828e\"], [0.5555555555555556, \"#1f9e89\"], [0.6666666666666666, \"#35b779\"], [0.7777777777777778, \"#6ece58\"], [0.8888888888888888, \"#b5de2b\"], [1.0, \"#fde725\"]], \"type\": \"surface\"}], \"table\": [{\"cells\": {\"fill\": {\"color\": \"rgb(237,237,237)\"}, \"line\": {\"color\": \"white\"}}, \"header\": {\"fill\": {\"color\": \"rgb(217,217,217)\"}, \"line\": {\"color\": \"white\"}}, \"type\": \"table\"}]}, \"layout\": {\"annotationdefaults\": {\"arrowhead\": 0, \"arrowwidth\": 1}, \"coloraxis\": {\"colorbar\": {\"outlinewidth\": 1, \"tickcolor\": \"rgb(36,36,36)\", \"ticks\": \"outside\"}}, \"colorscale\": {\"diverging\": [[0.0, \"rgb(103,0,31)\"], [0.1, \"rgb(178,24,43)\"], [0.2, \"rgb(214,96,77)\"], [0.3, \"rgb(244,165,130)\"], [0.4, \"rgb(253,219,199)\"], [0.5, \"rgb(247,247,247)\"], [0.6, \"rgb(209,229,240)\"], [0.7, \"rgb(146,197,222)\"], [0.8, \"rgb(67,147,195)\"], [0.9, \"rgb(33,102,172)\"], [1.0, \"rgb(5,48,97)\"]], \"sequential\": [[0.0, \"#440154\"], [0.1111111111111111, \"#482878\"], [0.2222222222222222, \"#3e4989\"], [0.3333333333333333, \"#31688e\"], [0.4444444444444444, \"#26828e\"], [0.5555555555555556, \"#1f9e89\"], [0.6666666666666666, \"#35b779\"], [0.7777777777777778, \"#6ece58\"], [0.8888888888888888, \"#b5de2b\"], [1.0, \"#fde725\"]], \"sequentialminus\": [[0.0, \"#440154\"], [0.1111111111111111, \"#482878\"], [0.2222222222222222, \"#3e4989\"], [0.3333333333333333, \"#31688e\"], [0.4444444444444444, \"#26828e\"], [0.5555555555555556, \"#1f9e89\"], [0.6666666666666666, \"#35b779\"], [0.7777777777777778, \"#6ece58\"], [0.8888888888888888, \"#b5de2b\"], [1.0, \"#fde725\"]]}, \"colorway\": [\"#1F77B4\", \"#FF7F0E\", \"#2CA02C\", \"#D62728\", \"#9467BD\", \"#8C564B\", \"#E377C2\", \"#7F7F7F\", \"#BCBD22\", \"#17BECF\"], \"font\": {\"color\": \"rgb(36,36,36)\"}, \"geo\": {\"bgcolor\": \"white\", \"lakecolor\": \"white\", \"landcolor\": \"white\", \"showlakes\": true, \"showland\": true, \"subunitcolor\": \"white\"}, \"hoverlabel\": {\"align\": \"left\"}, \"hovermode\": \"closest\", \"mapbox\": {\"style\": \"light\"}, \"paper_bgcolor\": \"white\", \"plot_bgcolor\": \"white\", \"polar\": {\"angularaxis\": {\"gridcolor\": \"rgb(232,232,232)\", \"linecolor\": \"rgb(36,36,36)\", \"showgrid\": false, \"showline\": true, \"ticks\": \"outside\"}, \"bgcolor\": \"white\", \"radialaxis\": {\"gridcolor\": \"rgb(232,232,232)\", \"linecolor\": \"rgb(36,36,36)\", \"showgrid\": false, \"showline\": true, \"ticks\": \"outside\"}}, \"scene\": {\"xaxis\": {\"backgroundcolor\": \"white\", \"gridcolor\": \"rgb(232,232,232)\", \"gridwidth\": 2, \"linecolor\": \"rgb(36,36,36)\", \"showbackground\": true, \"showgrid\": false, \"showline\": true, \"ticks\": \"outside\", \"zeroline\": false, \"zerolinecolor\": \"rgb(36,36,36)\"}, \"yaxis\": {\"backgroundcolor\": \"white\", \"gridcolor\": \"rgb(232,232,232)\", \"gridwidth\": 2, \"linecolor\": \"rgb(36,36,36)\", \"showbackground\": true, \"showgrid\": false, \"showline\": true, \"ticks\": \"outside\", \"zeroline\": false, \"zerolinecolor\": \"rgb(36,36,36)\"}, \"zaxis\": {\"backgroundcolor\": \"white\", \"gridcolor\": \"rgb(232,232,232)\", \"gridwidth\": 2, \"linecolor\": \"rgb(36,36,36)\", \"showbackground\": true, \"showgrid\": false, \"showline\": true, \"ticks\": \"outside\", \"zeroline\": false, \"zerolinecolor\": \"rgb(36,36,36)\"}}, \"shapedefaults\": {\"fillcolor\": \"black\", \"line\": {\"width\": 0}, \"opacity\": 0.3}, \"ternary\": {\"aaxis\": {\"gridcolor\": \"rgb(232,232,232)\", \"linecolor\": \"rgb(36,36,36)\", \"showgrid\": false, \"showline\": true, \"ticks\": \"outside\"}, \"baxis\": {\"gridcolor\": \"rgb(232,232,232)\", \"linecolor\": \"rgb(36,36,36)\", \"showgrid\": false, \"showline\": true, \"ticks\": \"outside\"}, \"bgcolor\": \"white\", \"caxis\": {\"gridcolor\": \"rgb(232,232,232)\", \"linecolor\": \"rgb(36,36,36)\", \"showgrid\": false, \"showline\": true, \"ticks\": \"outside\"}}, \"title\": {\"x\": 0.05}, \"xaxis\": {\"automargin\": true, \"gridcolor\": \"rgb(232,232,232)\", \"linecolor\": \"rgb(36,36,36)\", \"showgrid\": false, \"showline\": true, \"ticks\": \"outside\", \"title\": {\"standoff\": 15}, \"zeroline\": false, \"zerolinecolor\": \"rgb(36,36,36)\"}, \"yaxis\": {\"automargin\": true, \"gridcolor\": \"rgb(232,232,232)\", \"linecolor\": \"rgb(36,36,36)\", \"showgrid\": false, \"showline\": true, \"ticks\": \"outside\", \"title\": {\"standoff\": 15}, \"zeroline\": false, \"zerolinecolor\": \"rgb(36,36,36)\"}}}, \"width\": 600, \"xaxis\": {\"mirror\": true, \"range\": [0.0, 4.0], \"showline\": true}, \"yaxis\": {\"mirror\": false, \"range\": [0.1, 1.25], \"showline\": true}},                        {\"responsive\": true}                    ).then(function(){\n",
       "                            \n",
       "var gd = document.getElementById('ce4cd858-029f-4f75-9395-4c3145de6d9e');\n",
       "var x = new MutationObserver(function (mutations, observer) {{\n",
       "        var display = window.getComputedStyle(gd).display;\n",
       "        if (!display || display === 'none') {{\n",
       "            console.log([gd, 'removed!']);\n",
       "            Plotly.purge(gd);\n",
       "            observer.disconnect();\n",
       "        }}\n",
       "}});\n",
       "\n",
       "// Listen for the removal of the full notebook cells\n",
       "var notebookContainer = gd.closest('#notebook-container');\n",
       "if (notebookContainer) {{\n",
       "    x.observe(notebookContainer, {childList: true});\n",
       "}}\n",
       "\n",
       "// Listen for the clearing of the current output cell\n",
       "var outputEl = gd.closest('.output');\n",
       "if (outputEl) {{\n",
       "    x.observe(outputEl, {childList: true});\n",
       "}}\n",
       "\n",
       "                        })                };                });            </script>        </div>"
      ]
     },
     "metadata": {},
     "output_type": "display_data"
    },
    {
     "data": {
      "image/png": "[encoded data removed]",
      "text/plain": [
       "<Figure size 432x288 with 1 Axes>"
      ]
     },
     "metadata": {},
     "output_type": "display_data"
    },
    {
     "name": "stdout",
     "output_type": "stream",
     "text": [
      "assuming stiff\n",
      "summary\n",
      "counts [ 24  72 360]\n",
      "456\n",
      "ids [1 2 1]\n",
      "priming times [72.15824175824176]\n",
      "priming check 72.15824175824176\n",
      "memory times [0.]\n",
      "memory check 0.0\n",
      "mechanical ratios [1.23076923]\n",
      "218.242652090252 238.49934613356382 300.0\n",
      "0      1\n",
      "1      1\n",
      "2      1\n",
      "3      1\n",
      "4      1\n",
      "      ..\n",
      "451    1\n",
      "452    1\n",
      "453    1\n",
      "454    1\n",
      "455    1\n",
      "Name: active_region, Length: 456, dtype: int64\n"
     ]
    }
   ],
   "source": [
    "#### Energy dependent alpha increase and decrease\n",
    "\n",
    "resultsDF = pd.DataFrame(columns=['m_profile','t_space','x_prof','alpha_prof','active_region','deltaV'])\n",
    "resultsDF2 = pd.DataFrame(columns=['m_profile','t_space','x_prof','alpha_prof','active_region','deltaV'])\n",
    "\n",
    "def set_params(file=None):\n",
    "    params = {}\n",
    "    if file:\n",
    "        with open(file, 'r') as f:\n",
    "            params = json.load(f)\n",
    "    else:\n",
    "#         params['tau'] = .98\n",
    "        params['tau_F'] = 12. # params['tau'] * 2\n",
    "        params['tau_SG'] = 300. #params['tau'] * 150\n",
    "        params['tau_SR'] = params['tau_SG']\n",
    "        \n",
    "        params['kc'] = 1.5 # '-stiff' # 0.98 # 'linear' # 0.5 #'soft' 1.\n",
    "        params['km'] = 'stiff'      \n",
    "        params['m0'] = 6.5\n",
    "        params['x0'] = 1.9; \n",
    "        params['a0'] = 1.; params['xtt'] = 0.\n",
    "        params['g'] = 35\n",
    "        params['n'] = 6.\n",
    "        \n",
    "        params['a_max'] = 10\n",
    "        \n",
    "        params['resolution'] = 1.\n",
    "#         params['type'] = 'stiff'\n",
    "        params['color'] = None\n",
    "        params['input_m'] = []\n",
    "        \n",
    "        params['tau_R0'] = 150 # params['tau_SG'] #* 2\n",
    "#         params['TV0SR'] = 1.\n",
    "#         params['TV0SG'] = 8.\n",
    "        params['TV0SR'] = params['x0']\n",
    "        params['TV0SG'] = params['x0']\n",
    "        \n",
    "        params['dynamics'] = 'updated_exp' # 'exp_dynamicTS'\n",
    "        params['eps'] = (0., 1., 0.0) # mean, std, magnitude\n",
    "        \n",
    "        params['res'] = 150\n",
    "    \n",
    "    return params\n",
    "\n",
    "ins = np.array(\n",
    "    [\n",
    "        [24, 2.],\n",
    "        [72, 10.],\n",
    "        [360, 2.],\n",
    "    ]\n",
    "        )\n",
    "\n",
    "params = set_params()\n",
    "# params = set_params('./figures/figure4_dynamics_profiles/perm_mem_v2.png.json')\n",
    "# ins = np.array(params['input_m'][0])\n",
    "print(params)\n",
    "resultsDF, params, priming_times, memory_times, stiffP, stiffA = run_profile(integrate_profile, ins, params, resultsDF)\n",
    "mech_stats = np.abs(stiffP - stiffA) / params['m0']\n",
    "params['a_c'] = params['a_c'].tolist()\n",
    "print(np.amin(resultsDF['tSG']), np.mean(resultsDF['tSG']), np.amax(resultsDF['tSG']))\n",
    "print(resultsDF['active_region'])\n"
   ]
  },
  {
   "cell_type": "code",
   "execution_count": 45,
   "metadata": {},
   "outputs": [
    {
     "name": "stdout",
     "output_type": "stream",
     "text": [
      "timesteps per region: [ 24  72 360]\n",
      "regions: [1 2 1]\n",
      "24.052747252747253\n",
      "['#f5793aff', '#1e88e5ff', '#0f2080ff']\n",
      "profiles_updated_exp_no_mem.png\n"
     ]
    },
    {
     "data": {
      "image/png": "[encoded data removed]",
      "text/plain": [
       "<Figure size 453.6x540 with 4 Axes>"
      ]
     },
     "metadata": {},
     "output_type": "display_data"
    }
   ],
   "source": [
    "fig, ax = plt.subplots(2, 1, figsize=(6.3,7.5), gridspec_kw={'height_ratios': [1., 1.5]})\n",
    "# fig.suptitle('Energy Dependent \\u03b1')\n",
    "\n",
    "if resultsDF['active_region'].values[-1] == 2:\n",
    "#     print('blue')\n",
    "    params['color'] = (0., 0., 1.)\n",
    "    fname1 = 'profiles_' + params['dynamics'] + \"_perm_mem.png\"\n",
    "#     params['color'] = (212/255, 0., 0.)\n",
    "elif 3 in pd.unique(resultsDF['active_region']):\n",
    "#     print('red')\n",
    "    params['color'] = (212/255, 0., 0.)\n",
    "    fname1 = 'profiles_' + params['dynamics'] + \"_temp_mem.png\"\n",
    "else:\n",
    "#     print('pink')\n",
    "    params['color'] = (1., 0., 1.)\n",
    "    \n",
    "    params['color'] = (102./255, 102./255, 102./255)\n",
    "    fname1 = 'profiles_' + params['dynamics'] + \"_no_mem.png\"\n",
    "\n",
    "params, fig, axs = plot_profile(fig, ax, resultsDF, params, colors=['#f5793aff', '#1e88e5ff', '#0f2080ff'] )\n",
    "\n",
    "# colors =  [mcolors['darkorange'], mcolors['red'], mcolors['navy'], mcolors['navy'], mcolors['springgreen'], mcolors['springgreen']]\n",
    "#  fig2,\n",
    "params['input_m'].append(ins.tolist())\n",
    "\n",
    "base_params = set_params()\n",
    "base_params['input_m'].append(ins.tolist())\n",
    "\n",
    "saveall = True\n",
    "if saveall:\n",
    "    direc = os.getcwd() + '/../figures_v3/figure4/'\n",
    "\n",
    "#     fname1 = 'profiles_' + params['dynamics'] + \"_perm_mem.png\"\n",
    "    print(fname1)\n",
    "    fig.tight_layout()\n",
    "    fig.savefig(direc + fname1, format='png', dpi=600, transparent=True)\n",
    "    \n",
    "#     fname2 = 'PD_' + fname1\n",
    "#     print(fname2)\n",
    "#     fig2.savefig(direc + fname2, format='png', dpi=600)\n",
    "#     params['eps'] = base_params['eps']\n",
    "#     print([type(params[i]) for i in params.keys()])\n",
    "    with open(direc+fname1 + '.json', 'w') as f:\n",
    "        f.write(json.dumps(base_params))"
   ]
  },
  {
   "cell_type": "code",
   "execution_count": 64,
   "metadata": {},
   "outputs": [
    {
     "data": {
      "image/png": "[encoded data removed]",
      "text/plain": [
       "<Figure size 432x288 with 1 Axes>"
      ]
     },
     "metadata": {},
     "output_type": "display_data"
    },
    {
     "data": {
      "application/vnd.plotly.v1+json": {
       "config": {
        "plotlyServerURL": "https://plot.ly"
       },
       "data": [
        {
         "fill": "tozerox",
         "fillcolor": "rgba(245, 121, 58, 1)",
         "mode": "none",
         "type": "scatter",
         "x": [
          2.0402811244979917,
          2.0402811244979917,
          2.0402811244979917,
          2.0402811244979917,
          1.9961445783132532,
          1.9961445783132532,
          1.9961445783132532,
          1.9961445783132532,
          1.9961445783132532,
          1.9520080321285143,
          1.9520080321285143,
          1.9520080321285143,
          1.9520080321285143,
          1.9520080321285143,
          1.9520080321285143,
          1.9078714859437753,
          1.9078714859437753,
          1.9078714859437753,
          1.9078714859437753,
          1.9078714859437753,
          1.9078714859437753,
          1.8637349397590364,
          1.8637349397590364,
          1.8637349397590364,
          1.8637349397590364,
          1.8637349397590364,
          1.8637349397590364,
          1.8195983935742974,
          1.8195983935742974,
          1.8195983935742974,
          1.8195983935742974,
          1.8195983935742974,
          1.8195983935742974,
          1.7754618473895583,
          1.7754618473895583,
          1.7754618473895583,
          1.7754618473895583,
          1.7754618473895583,
          1.7313253012048193,
          1.7313253012048193,
          1.7313253012048193,
          1.7313253012048193,
          1.7313253012048193,
          1.7313253012048193,
          1.6871887550200804,
          1.6871887550200804,
          1.6871887550200804,
          1.6871887550200804,
          1.6871887550200804,
          1.6871887550200804,
          1.6430522088353414,
          1.6430522088353414,
          1.6430522088353414,
          1.6430522088353414,
          1.6430522088353414,
          1.5989156626506025,
          1.5989156626506025,
          1.5989156626506025,
          1.5989156626506025,
          1.5547791164658635,
          1.551613825821115
         ],
         "y": [
          0.007692307692307693,
          0.01615771163509857,
          0.02462311557788945,
          0.03308851952068032,
          0.0415539234634712,
          0.050019327406262075,
          0.05848473134905295,
          0.06695013529184382,
          0.0754155392346347,
          0.08388094317742559,
          0.09234634712021647,
          0.10081175106300734,
          0.10927715500579821,
          0.11774255894858911,
          0.12620796289137998,
          0.13467336683417086,
          0.14313877077696174,
          0.1516041747197526,
          0.16006957866254348,
          0.16853498260533437,
          0.17700038654812525,
          0.1854657904909161,
          0.193931194433707,
          0.20239659837649787,
          0.21086200231928873,
          0.21932740626207964,
          0.2277928102048705,
          0.23625821414766138,
          0.24472361809045223,
          0.2531890220332431,
          0.261654425976034,
          0.2701198299188249,
          0.27858523386161577,
          0.28705063780440665,
          0.2955160417471975,
          0.3039814456899884,
          0.3124468496327793,
          0.32091225357557013,
          0.329377657518361,
          0.33784306146115184,
          0.3463084654039428,
          0.3547738693467336,
          0.3632392732895245,
          0.37170467723231543,
          0.38017008117510626,
          0.38863548511789714,
          0.39710088906068797,
          0.4055662930034789,
          0.41403169694626973,
          0.4224971008890606,
          0.43096250483185156,
          0.4394279087746424,
          0.44789331271743327,
          0.4563587166602241,
          0.46482412060301503,
          0.4732895245458059,
          0.48175492848859675,
          0.4902203324313877,
          0.4986857363741785,
          0.5240819482025512,
          0.5571509468320811
         ]
        },
        {
         "fill": "tonextx",
         "fillcolor": "rgba(15, 32, 128, 1)",
         "mode": "none",
         "type": "scatter",
         "x": [
          11,
          10.779317269076305,
          10.073132530120482,
          9.411084337349399,
          8.704899598393574,
          8.219397590361446,
          7.733895582329318,
          7.292530120481928,
          6.851164658634539,
          6.453935742971888,
          6.144979919678715,
          5.836024096385542,
          5.571204819277108,
          5.262248995983936,
          4.997429718875503,
          4.820883534136546,
          4.600200803212852,
          4.379518072289157,
          4.202971887550201,
          4.026425702811245,
          3.8940160642570283,
          3.7616064257028112,
          3.5850602409638554,
          3.4526506024096384,
          3.320240963855422,
          3.231967871485944,
          3.143694779116466,
          3.055421686746988,
          2.923012048192771,
          2.834738955823293,
          2.7464658634538153,
          2.702329317269076,
          2.614056224899598,
          2.5257831325301203,
          2.4816465863453816,
          2.3933734939759037,
          2.3492369477911645,
          2.305100401606426,
          2.2609638554216867,
          2.1726907630522088,
          2.12855421686747,
          2.084417670682731,
          2.0402811244979917,
          2.0402811244979917,
          1.9961445783132532,
          1.9520080321285143,
          1.9078714859437753,
          1.8637349397590364,
          1.8195983935742974,
          1.8195983935742974,
          1.7754618473895583,
          1.7313253012048193,
          1.7313253012048193,
          1.6871887550200804,
          1.6871887550200804,
          1.6430522088353414,
          1.6430522088353414,
          1.5989156626506025,
          1.5989156626506025,
          1.5547791164658635
         ],
         "y": [
          0.007692307692307693,
          0.01615771163509857,
          0.02462311557788945,
          0.03308851952068032,
          0.0415539234634712,
          0.050019327406262075,
          0.05848473134905295,
          0.06695013529184382,
          0.0754155392346347,
          0.08388094317742559,
          0.09234634712021647,
          0.10081175106300734,
          0.10927715500579821,
          0.11774255894858911,
          0.12620796289137998,
          0.13467336683417086,
          0.14313877077696174,
          0.1516041747197526,
          0.16006957866254348,
          0.16853498260533437,
          0.17700038654812525,
          0.1854657904909161,
          0.193931194433707,
          0.20239659837649787,
          0.21086200231928873,
          0.21932740626207964,
          0.2277928102048705,
          0.23625821414766138,
          0.24472361809045223,
          0.2531890220332431,
          0.261654425976034,
          0.2701198299188249,
          0.27858523386161577,
          0.28705063780440665,
          0.2955160417471975,
          0.3039814456899884,
          0.3124468496327793,
          0.32091225357557013,
          0.329377657518361,
          0.33784306146115184,
          0.3463084654039428,
          0.3547738693467336,
          0.3632392732895245,
          0.37170467723231543,
          0.38017008117510626,
          0.38863548511789714,
          0.39710088906068797,
          0.4055662930034789,
          0.41403169694626973,
          0.4224971008890606,
          0.43096250483185156,
          0.4394279087746424,
          0.44789331271743327,
          0.4563587166602241,
          0.46482412060301503,
          0.4732895245458059,
          0.48175492848859675,
          0.4902203324313877,
          0.4986857363741785,
          0.5240819482025512
         ]
        },
        {
         "fill": "tozerox",
         "fillcolor": "rgba(245, 121, 58, 1)",
         "line": {
          "color": "rgba(78, 247, 75, 1)",
          "width": 6
         },
         "mode": "lines",
         "type": "scatter",
         "x": [
          0.01,
          0.016743197326551877,
          0.016743197326551877,
          0.05413654618473896,
          0.060879743511290836,
          0.060879743511290836,
          0.09827309236947791,
          0.1050162896960298,
          0.1424096385542169,
          0.14915283588076877,
          0.14915283588076877,
          0.18654618473895584,
          0.2306827309236948,
          0.2374259282502467,
          0.2748192771084338,
          0.28156247443498567,
          0.31895582329317274,
          0.3256990206197246,
          0.3630923694779117,
          0.4072289156626506,
          0.4139721129892025,
          0.45136546184738957,
          0.49550200803212857,
          0.5022452053586804,
          0.5396385542168676,
          0.5463817515434195,
          0.5837751004016065,
          0.6279116465863455,
          0.6346548439128974,
          0.6720481927710844,
          0.7161847389558234,
          0.7229279362823753,
          0.7603212851405623,
          0.8044578313253012,
          0.8112010286518532,
          0.8485943775100402,
          0.855337574836592,
          0.8927309236947791,
          0.8994741210213311,
          0.9368674698795182,
          0.94361066720607,
          0.981004016064257,
          0.987747213390809,
          1.025140562248996,
          1.031883759575548,
          1.0692771084337351,
          1.076020305760287,
          1.076020305760287,
          1.076020305760287,
          1.113413654618474,
          1.120156851945026,
          1.120156851945026,
          1.120156851945026,
          1.157550200803213,
          1.164293398129765,
          1.164293398129765,
          1.164293398129765,
          1.164293398129765,
          1.201686746987952,
          1.2050583456512278,
          1.208429944314504,
          1.208429944314504,
          1.208429944314504,
          1.208429944314504,
          1.208429944314504,
          1.245823293172691,
          1.2491948918359668,
          1.2525664904992428,
          1.2525664904992428,
          1.2525664904992428,
          1.2712631649283366,
          1.2899598393574299,
          1.293331438020706,
          1.293331438020706,
          1.2967030366839816,
          1.3153997111130753,
          1.3153997111130753,
          1.3340963855421688,
          1.3374679842054447,
          1.3374679842054447,
          1.3595362572978145,
          1.3595362572978145,
          1.3595362572978145,
          1.3782329317269078,
          1.3816045303901836,
          1.3816045303901836,
          1.3951928462306715,
          1.4036728034825532,
          1.4223694779116467,
          1.4246172103538306,
          1.4350894137894694,
          1.4393293924154102,
          1.4461235503356542,
          1.4540415744769901,
          1.4665060240963856,
          1.476681972798644,
          1.4823420723790572,
          1.4896981634098472,
          1.4943365912725395,
          1.5106425702811246,
          1.524216325951986,
          1.5280366747662206,
          1.533553743039313,
          1.533553743039313
         ],
         "y": [
          1.1010227637572414,
          1.0997294163123308,
          1.0912640123695398,
          1.0840919558716597,
          1.0827986084267491,
          1.0743332044839582,
          1.0671611479860779,
          1.0658678005411673,
          1.0586957440432871,
          1.0574023965983765,
          1.0489369926555856,
          1.0417649361577053,
          1.0417649361577053,
          1.0404715887127947,
          1.0332995322149143,
          1.0320061847700037,
          1.0248341282721236,
          1.023540780827213,
          1.0163687243293327,
          1.0163687243293327,
          1.015075376884422,
          1.0079033203865417,
          1.0072566466640864,
          1.0066099729416311,
          0.9994379164437509,
          0.9981445689988403,
          0.9945585407499002,
          0.9909725125009599,
          0.9896791650560492,
          0.9825071085581691,
          0.9825071085581691,
          0.9812137611132585,
          0.9740417046153783,
          0.9733950308929229,
          0.9727483571704678,
          0.9655763006725875,
          0.9642829532276769,
          0.9571108967297964,
          0.9558175492848858,
          0.9486454927870055,
          0.947352145342095,
          0.9401800888442148,
          0.9388867413993042,
          0.9317146849014238,
          0.9304213374565133,
          0.923249280958633,
          0.9219559335137224,
          0.9134905295709317,
          0.9050251256281405,
          0.8978530691302602,
          0.8965597216853497,
          0.8880943177425589,
          0.879628913799768,
          0.8724568573018877,
          0.8711635098569771,
          0.8626981059141863,
          0.8542327019713954,
          0.8457672980286044,
          0.8385952415307241,
          0.8373018940858136,
          0.8288364901430227,
          0.8203710862002318,
          0.811905682257441,
          0.8034402783146501,
          0.7949748743718593,
          0.7878028178739789,
          0.7865094704290683,
          0.7780440664862774,
          0.7695786625434866,
          0.7611132586006957,
          0.752647854657905,
          0.7454757981600245,
          0.744182450715114,
          0.7357170467723232,
          0.7272516428295321,
          0.7187862388867414,
          0.7103208349439505,
          0.70314877844607,
          0.7018554310011595,
          0.6933900270583687,
          0.6849246231155779,
          0.6764592191727868,
          0.667993815229996,
          0.6608217587321157,
          0.6595284112872052,
          0.6510630073444144,
          0.6425976034016234,
          0.6341321994588327,
          0.6269601429609524,
          0.6256667955160418,
          0.6172013915732509,
          0.6087359876304599,
          0.6002705836876691,
          0.5918051797448782,
          0.5882191514959381,
          0.5833397758020873,
          0.5748743718592965,
          0.5664089679165055,
          0.5579435639737147,
          0.5540341988635469,
          0.5494781600309238,
          0.5410127560881329,
          0.5325473521453421,
          0.5240819482025512
         ]
        },
        {
         "line": {
          "color": "rgba(78, 247, 75, 1)",
          "width": 6
         },
         "mode": "lines",
         "type": "scatter",
         "x": [
          2.0402811244979917,
          2.0402811244979917,
          2.0402811244979917,
          2.0402811244979917,
          1.9961445783132532,
          1.9961445783132532,
          1.9961445783132532,
          1.9961445783132532,
          1.9961445783132532,
          1.9520080321285143,
          1.9520080321285143,
          1.9520080321285143,
          1.9520080321285143,
          1.9520080321285143,
          1.9520080321285143,
          1.9078714859437753,
          1.9078714859437753,
          1.9078714859437753,
          1.9078714859437753,
          1.9078714859437753,
          1.9078714859437753,
          1.8637349397590364,
          1.8637349397590364,
          1.8637349397590364,
          1.8637349397590364,
          1.8637349397590364,
          1.8637349397590364,
          1.8195983935742974,
          1.8195983935742974,
          1.8195983935742974,
          1.8195983935742974,
          1.8195983935742974,
          1.8195983935742974,
          1.7754618473895583,
          1.7754618473895583,
          1.7754618473895583,
          1.7754618473895583,
          1.7754618473895583,
          1.7313253012048193,
          1.7313253012048193,
          1.7313253012048193,
          1.7313253012048193,
          1.7313253012048193,
          1.7313253012048193,
          1.6871887550200804,
          1.6871887550200804,
          1.6871887550200804,
          1.6871887550200804,
          1.6871887550200804,
          1.6871887550200804,
          1.6430522088353414,
          1.6430522088353414,
          1.6430522088353414,
          1.6430522088353414,
          1.6430522088353414,
          1.5989156626506025,
          1.5989156626506025,
          1.5989156626506025,
          1.5989156626506025,
          1.5547791164658635,
          1.551613825821115
         ],
         "y": [
          0.007692307692307693,
          0.01615771163509857,
          0.02462311557788945,
          0.03308851952068032,
          0.0415539234634712,
          0.050019327406262075,
          0.05848473134905295,
          0.06695013529184382,
          0.0754155392346347,
          0.08388094317742559,
          0.09234634712021647,
          0.10081175106300734,
          0.10927715500579821,
          0.11774255894858911,
          0.12620796289137998,
          0.13467336683417086,
          0.14313877077696174,
          0.1516041747197526,
          0.16006957866254348,
          0.16853498260533437,
          0.17700038654812525,
          0.1854657904909161,
          0.193931194433707,
          0.20239659837649787,
          0.21086200231928873,
          0.21932740626207964,
          0.2277928102048705,
          0.23625821414766138,
          0.24472361809045223,
          0.2531890220332431,
          0.261654425976034,
          0.2701198299188249,
          0.27858523386161577,
          0.28705063780440665,
          0.2955160417471975,
          0.3039814456899884,
          0.3124468496327793,
          0.32091225357557013,
          0.329377657518361,
          0.33784306146115184,
          0.3463084654039428,
          0.3547738693467336,
          0.3632392732895245,
          0.37170467723231543,
          0.38017008117510626,
          0.38863548511789714,
          0.39710088906068797,
          0.4055662930034789,
          0.41403169694626973,
          0.4224971008890606,
          0.43096250483185156,
          0.4394279087746424,
          0.44789331271743327,
          0.4563587166602241,
          0.46482412060301503,
          0.4732895245458059,
          0.48175492848859675,
          0.4902203324313877,
          0.4986857363741785,
          0.5240819482025512,
          0.5579435639737147
         ]
        },
        {
         "line": {
          "color": "rgba(78, 247, 75, 1)",
          "width": 6
         },
         "mode": "lines",
         "type": "scatter",
         "x": [
          11,
          10.779317269076305,
          10.073132530120482,
          9.411084337349399,
          8.704899598393574,
          8.219397590361446,
          7.733895582329318,
          7.292530120481928,
          6.851164658634539,
          6.453935742971888,
          6.144979919678715,
          5.836024096385542,
          5.571204819277108,
          5.262248995983936,
          4.997429718875503,
          4.820883534136546,
          4.600200803212852,
          4.379518072289157,
          4.202971887550201,
          4.026425702811245,
          3.8940160642570283,
          3.7616064257028112,
          3.5850602409638554,
          3.4526506024096384,
          3.320240963855422,
          3.231967871485944,
          3.143694779116466,
          3.055421686746988,
          2.923012048192771,
          2.834738955823293,
          2.7464658634538153,
          2.702329317269076,
          2.614056224899598,
          2.5257831325301203,
          2.4816465863453816,
          2.3933734939759037,
          2.3492369477911645,
          2.305100401606426,
          2.2609638554216867,
          2.1726907630522088,
          2.12855421686747,
          2.084417670682731,
          2.0402811244979917,
          2.0402811244979917,
          1.9961445783132532,
          1.9520080321285143,
          1.9078714859437753,
          1.8637349397590364,
          1.8195983935742974,
          1.8195983935742974,
          1.7754618473895583,
          1.7313253012048193,
          1.7313253012048193,
          1.6871887550200804,
          1.6871887550200804,
          1.6430522088353414,
          1.6430522088353414,
          1.5989156626506025,
          1.5989156626506025,
          1.5547791164658635,
          1.551613825821115
         ],
         "y": [
          0.007692307692307693,
          0.01615771163509857,
          0.02462311557788945,
          0.03308851952068032,
          0.0415539234634712,
          0.050019327406262075,
          0.05848473134905295,
          0.06695013529184382,
          0.0754155392346347,
          0.08388094317742559,
          0.09234634712021647,
          0.10081175106300734,
          0.10927715500579821,
          0.11774255894858911,
          0.12620796289137998,
          0.13467336683417086,
          0.14313877077696174,
          0.1516041747197526,
          0.16006957866254348,
          0.16853498260533437,
          0.17700038654812525,
          0.1854657904909161,
          0.193931194433707,
          0.20239659837649787,
          0.21086200231928873,
          0.21932740626207964,
          0.2277928102048705,
          0.23625821414766138,
          0.24472361809045223,
          0.2531890220332431,
          0.261654425976034,
          0.2701198299188249,
          0.27858523386161577,
          0.28705063780440665,
          0.2955160417471975,
          0.3039814456899884,
          0.3124468496327793,
          0.32091225357557013,
          0.329377657518361,
          0.33784306146115184,
          0.3463084654039428,
          0.3547738693467336,
          0.3632392732895245,
          0.37170467723231543,
          0.38017008117510626,
          0.38863548511789714,
          0.39710088906068797,
          0.4055662930034789,
          0.41403169694626973,
          0.4224971008890606,
          0.43096250483185156,
          0.4394279087746424,
          0.44789331271743327,
          0.4563587166602241,
          0.46482412060301503,
          0.4732895245458059,
          0.48175492848859675,
          0.4902203324313877,
          0.4986857363741785,
          0.5240819482025512,
          0.5579435639737147
         ]
        }
       ],
       "layout": {
        "font": {
         "size": 18
        },
        "height": 600,
        "paper_bgcolor": "rgba(0,0,0,0)",
        "plot_bgcolor": "rgba(0,0,0,0)",
        "showlegend": false,
        "template": {
         "data": {
          "bar": [
           {
            "error_x": {
             "color": "rgb(36,36,36)"
            },
            "error_y": {
             "color": "rgb(36,36,36)"
            },
            "marker": {
             "line": {
              "color": "white",
              "width": 0.5
             }
            },
            "type": "bar"
           }
          ],
          "barpolar": [
           {
            "marker": {
             "line": {
              "color": "white",
              "width": 0.5
             }
            },
            "type": "barpolar"
           }
          ],
          "carpet": [
           {
            "aaxis": {
             "endlinecolor": "rgb(36,36,36)",
             "gridcolor": "white",
             "linecolor": "white",
             "minorgridcolor": "white",
             "startlinecolor": "rgb(36,36,36)"
            },
            "baxis": {
             "endlinecolor": "rgb(36,36,36)",
             "gridcolor": "white",
             "linecolor": "white",
             "minorgridcolor": "white",
             "startlinecolor": "rgb(36,36,36)"
            },
            "type": "carpet"
           }
          ],
          "choropleth": [
           {
            "colorbar": {
             "outlinewidth": 1,
             "tickcolor": "rgb(36,36,36)",
             "ticks": "outside"
            },
            "type": "choropleth"
           }
          ],
          "contour": [
           {
            "colorbar": {
             "outlinewidth": 1,
             "tickcolor": "rgb(36,36,36)",
             "ticks": "outside"
            },
            "colorscale": [
             [
              0,
              "#440154"
             ],
             [
              0.1111111111111111,
              "#482878"
             ],
             [
              0.2222222222222222,
              "#3e4989"
             ],
             [
              0.3333333333333333,
              "#31688e"
             ],
             [
              0.4444444444444444,
              "#26828e"
             ],
             [
              0.5555555555555556,
              "#1f9e89"
             ],
             [
              0.6666666666666666,
              "#35b779"
             ],
             [
              0.7777777777777778,
              "#6ece58"
             ],
             [
              0.8888888888888888,
              "#b5de2b"
             ],
             [
              1,
              "#fde725"
             ]
            ],
            "type": "contour"
           }
          ],
          "contourcarpet": [
           {
            "colorbar": {
             "outlinewidth": 1,
             "tickcolor": "rgb(36,36,36)",
             "ticks": "outside"
            },
            "type": "contourcarpet"
           }
          ],
          "heatmap": [
           {
            "colorbar": {
             "outlinewidth": 1,
             "tickcolor": "rgb(36,36,36)",
             "ticks": "outside"
            },
            "colorscale": [
             [
              0,
              "#440154"
             ],
             [
              0.1111111111111111,
              "#482878"
             ],
             [
              0.2222222222222222,
              "#3e4989"
             ],
             [
              0.3333333333333333,
              "#31688e"
             ],
             [
              0.4444444444444444,
              "#26828e"
             ],
             [
              0.5555555555555556,
              "#1f9e89"
             ],
             [
              0.6666666666666666,
              "#35b779"
             ],
             [
              0.7777777777777778,
              "#6ece58"
             ],
             [
              0.8888888888888888,
              "#b5de2b"
             ],
             [
              1,
              "#fde725"
             ]
            ],
            "type": "heatmap"
           }
          ],
          "heatmapgl": [
           {
            "colorbar": {
             "outlinewidth": 1,
             "tickcolor": "rgb(36,36,36)",
             "ticks": "outside"
            },
            "colorscale": [
             [
              0,
              "#440154"
             ],
             [
              0.1111111111111111,
              "#482878"
             ],
             [
              0.2222222222222222,
              "#3e4989"
             ],
             [
              0.3333333333333333,
              "#31688e"
             ],
             [
              0.4444444444444444,
              "#26828e"
             ],
             [
              0.5555555555555556,
              "#1f9e89"
             ],
             [
              0.6666666666666666,
              "#35b779"
             ],
             [
              0.7777777777777778,
              "#6ece58"
             ],
             [
              0.8888888888888888,
              "#b5de2b"
             ],
             [
              1,
              "#fde725"
             ]
            ],
            "type": "heatmapgl"
           }
          ],
          "histogram": [
           {
            "marker": {
             "line": {
              "color": "white",
              "width": 0.6
             }
            },
            "type": "histogram"
           }
          ],
          "histogram2d": [
           {
            "colorbar": {
             "outlinewidth": 1,
             "tickcolor": "rgb(36,36,36)",
             "ticks": "outside"
            },
            "colorscale": [
             [
              0,
              "#440154"
             ],
             [
              0.1111111111111111,
              "#482878"
             ],
             [
              0.2222222222222222,
              "#3e4989"
             ],
             [
              0.3333333333333333,
              "#31688e"
             ],
             [
              0.4444444444444444,
              "#26828e"
             ],
             [
              0.5555555555555556,
              "#1f9e89"
             ],
             [
              0.6666666666666666,
              "#35b779"
             ],
             [
              0.7777777777777778,
              "#6ece58"
             ],
             [
              0.8888888888888888,
              "#b5de2b"
             ],
             [
              1,
              "#fde725"
             ]
            ],
            "type": "histogram2d"
           }
          ],
          "histogram2dcontour": [
           {
            "colorbar": {
             "outlinewidth": 1,
             "tickcolor": "rgb(36,36,36)",
             "ticks": "outside"
            },
            "colorscale": [
             [
              0,
              "#440154"
             ],
             [
              0.1111111111111111,
              "#482878"
             ],
             [
              0.2222222222222222,
              "#3e4989"
             ],
             [
              0.3333333333333333,
              "#31688e"
             ],
             [
              0.4444444444444444,
              "#26828e"
             ],
             [
              0.5555555555555556,
              "#1f9e89"
             ],
             [
              0.6666666666666666,
              "#35b779"
             ],
             [
              0.7777777777777778,
              "#6ece58"
             ],
             [
              0.8888888888888888,
              "#b5de2b"
             ],
             [
              1,
              "#fde725"
             ]
            ],
            "type": "histogram2dcontour"
           }
          ],
          "mesh3d": [
           {
            "colorbar": {
             "outlinewidth": 1,
             "tickcolor": "rgb(36,36,36)",
             "ticks": "outside"
            },
            "type": "mesh3d"
           }
          ],
          "parcoords": [
           {
            "line": {
             "colorbar": {
              "outlinewidth": 1,
              "tickcolor": "rgb(36,36,36)",
              "ticks": "outside"
             }
            },
            "type": "parcoords"
           }
          ],
          "pie": [
           {
            "automargin": true,
            "type": "pie"
           }
          ],
          "scatter": [
           {
            "marker": {
             "colorbar": {
              "outlinewidth": 1,
              "tickcolor": "rgb(36,36,36)",
              "ticks": "outside"
             }
            },
            "type": "scatter"
           }
          ],
          "scatter3d": [
           {
            "line": {
             "colorbar": {
              "outlinewidth": 1,
              "tickcolor": "rgb(36,36,36)",
              "ticks": "outside"
             }
            },
            "marker": {
             "colorbar": {
              "outlinewidth": 1,
              "tickcolor": "rgb(36,36,36)",
              "ticks": "outside"
             }
            },
            "type": "scatter3d"
           }
          ],
          "scattercarpet": [
           {
            "marker": {
             "colorbar": {
              "outlinewidth": 1,
              "tickcolor": "rgb(36,36,36)",
              "ticks": "outside"
             }
            },
            "type": "scattercarpet"
           }
          ],
          "scattergeo": [
           {
            "marker": {
             "colorbar": {
              "outlinewidth": 1,
              "tickcolor": "rgb(36,36,36)",
              "ticks": "outside"
             }
            },
            "type": "scattergeo"
           }
          ],
          "scattergl": [
           {
            "marker": {
             "colorbar": {
              "outlinewidth": 1,
              "tickcolor": "rgb(36,36,36)",
              "ticks": "outside"
             }
            },
            "type": "scattergl"
           }
          ],
          "scattermapbox": [
           {
            "marker": {
             "colorbar": {
              "outlinewidth": 1,
              "tickcolor": "rgb(36,36,36)",
              "ticks": "outside"
             }
            },
            "type": "scattermapbox"
           }
          ],
          "scatterpolar": [
           {
            "marker": {
             "colorbar": {
              "outlinewidth": 1,
              "tickcolor": "rgb(36,36,36)",
              "ticks": "outside"
             }
            },
            "type": "scatterpolar"
           }
          ],
          "scatterpolargl": [
           {
            "marker": {
             "colorbar": {
              "outlinewidth": 1,
              "tickcolor": "rgb(36,36,36)",
              "ticks": "outside"
             }
            },
            "type": "scatterpolargl"
           }
          ],
          "scatterternary": [
           {
            "marker": {
             "colorbar": {
              "outlinewidth": 1,
              "tickcolor": "rgb(36,36,36)",
              "ticks": "outside"
             }
            },
            "type": "scatterternary"
           }
          ],
          "surface": [
           {
            "colorbar": {
             "outlinewidth": 1,
             "tickcolor": "rgb(36,36,36)",
             "ticks": "outside"
            },
            "colorscale": [
             [
              0,
              "#440154"
             ],
             [
              0.1111111111111111,
              "#482878"
             ],
             [
              0.2222222222222222,
              "#3e4989"
             ],
             [
              0.3333333333333333,
              "#31688e"
             ],
             [
              0.4444444444444444,
              "#26828e"
             ],
             [
              0.5555555555555556,
              "#1f9e89"
             ],
             [
              0.6666666666666666,
              "#35b779"
             ],
             [
              0.7777777777777778,
              "#6ece58"
             ],
             [
              0.8888888888888888,
              "#b5de2b"
             ],
             [
              1,
              "#fde725"
             ]
            ],
            "type": "surface"
           }
          ],
          "table": [
           {
            "cells": {
             "fill": {
              "color": "rgb(237,237,237)"
             },
             "line": {
              "color": "white"
             }
            },
            "header": {
             "fill": {
              "color": "rgb(217,217,217)"
             },
             "line": {
              "color": "white"
             }
            },
            "type": "table"
           }
          ]
         },
         "layout": {
          "annotationdefaults": {
           "arrowhead": 0,
           "arrowwidth": 1
          },
          "coloraxis": {
           "colorbar": {
            "outlinewidth": 1,
            "tickcolor": "rgb(36,36,36)",
            "ticks": "outside"
           }
          },
          "colorscale": {
           "diverging": [
            [
             0,
             "rgb(103,0,31)"
            ],
            [
             0.1,
             "rgb(178,24,43)"
            ],
            [
             0.2,
             "rgb(214,96,77)"
            ],
            [
             0.3,
             "rgb(244,165,130)"
            ],
            [
             0.4,
             "rgb(253,219,199)"
            ],
            [
             0.5,
             "rgb(247,247,247)"
            ],
            [
             0.6,
             "rgb(209,229,240)"
            ],
            [
             0.7,
             "rgb(146,197,222)"
            ],
            [
             0.8,
             "rgb(67,147,195)"
            ],
            [
             0.9,
             "rgb(33,102,172)"
            ],
            [
             1,
             "rgb(5,48,97)"
            ]
           ],
           "sequential": [
            [
             0,
             "#440154"
            ],
            [
             0.1111111111111111,
             "#482878"
            ],
            [
             0.2222222222222222,
             "#3e4989"
            ],
            [
             0.3333333333333333,
             "#31688e"
            ],
            [
             0.4444444444444444,
             "#26828e"
            ],
            [
             0.5555555555555556,
             "#1f9e89"
            ],
            [
             0.6666666666666666,
             "#35b779"
            ],
            [
             0.7777777777777778,
             "#6ece58"
            ],
            [
             0.8888888888888888,
             "#b5de2b"
            ],
            [
             1,
             "#fde725"
            ]
           ],
           "sequentialminus": [
            [
             0,
             "#440154"
            ],
            [
             0.1111111111111111,
             "#482878"
            ],
            [
             0.2222222222222222,
             "#3e4989"
            ],
            [
             0.3333333333333333,
             "#31688e"
            ],
            [
             0.4444444444444444,
             "#26828e"
            ],
            [
             0.5555555555555556,
             "#1f9e89"
            ],
            [
             0.6666666666666666,
             "#35b779"
            ],
            [
             0.7777777777777778,
             "#6ece58"
            ],
            [
             0.8888888888888888,
             "#b5de2b"
            ],
            [
             1,
             "#fde725"
            ]
           ]
          },
          "colorway": [
           "#1F77B4",
           "#FF7F0E",
           "#2CA02C",
           "#D62728",
           "#9467BD",
           "#8C564B",
           "#E377C2",
           "#7F7F7F",
           "#BCBD22",
           "#17BECF"
          ],
          "font": {
           "color": "rgb(36,36,36)"
          },
          "geo": {
           "bgcolor": "white",
           "lakecolor": "white",
           "landcolor": "white",
           "showlakes": true,
           "showland": true,
           "subunitcolor": "white"
          },
          "hoverlabel": {
           "align": "left"
          },
          "hovermode": "closest",
          "mapbox": {
           "style": "light"
          },
          "paper_bgcolor": "white",
          "plot_bgcolor": "white",
          "polar": {
           "angularaxis": {
            "gridcolor": "rgb(232,232,232)",
            "linecolor": "rgb(36,36,36)",
            "showgrid": false,
            "showline": true,
            "ticks": "outside"
           },
           "bgcolor": "white",
           "radialaxis": {
            "gridcolor": "rgb(232,232,232)",
            "linecolor": "rgb(36,36,36)",
            "showgrid": false,
            "showline": true,
            "ticks": "outside"
           }
          },
          "scene": {
           "xaxis": {
            "backgroundcolor": "white",
            "gridcolor": "rgb(232,232,232)",
            "gridwidth": 2,
            "linecolor": "rgb(36,36,36)",
            "showbackground": true,
            "showgrid": false,
            "showline": true,
            "ticks": "outside",
            "zeroline": false,
            "zerolinecolor": "rgb(36,36,36)"
           },
           "yaxis": {
            "backgroundcolor": "white",
            "gridcolor": "rgb(232,232,232)",
            "gridwidth": 2,
            "linecolor": "rgb(36,36,36)",
            "showbackground": true,
            "showgrid": false,
            "showline": true,
            "ticks": "outside",
            "zeroline": false,
            "zerolinecolor": "rgb(36,36,36)"
           },
           "zaxis": {
            "backgroundcolor": "white",
            "gridcolor": "rgb(232,232,232)",
            "gridwidth": 2,
            "linecolor": "rgb(36,36,36)",
            "showbackground": true,
            "showgrid": false,
            "showline": true,
            "ticks": "outside",
            "zeroline": false,
            "zerolinecolor": "rgb(36,36,36)"
           }
          },
          "shapedefaults": {
           "fillcolor": "black",
           "line": {
            "width": 0
           },
           "opacity": 0.3
          },
          "ternary": {
           "aaxis": {
            "gridcolor": "rgb(232,232,232)",
            "linecolor": "rgb(36,36,36)",
            "showgrid": false,
            "showline": true,
            "ticks": "outside"
           },
           "baxis": {
            "gridcolor": "rgb(232,232,232)",
            "linecolor": "rgb(36,36,36)",
            "showgrid": false,
            "showline": true,
            "ticks": "outside"
           },
           "bgcolor": "white",
           "caxis": {
            "gridcolor": "rgb(232,232,232)",
            "linecolor": "rgb(36,36,36)",
            "showgrid": false,
            "showline": true,
            "ticks": "outside"
           }
          },
          "title": {
           "x": 0.05
          },
          "xaxis": {
           "automargin": true,
           "gridcolor": "rgb(232,232,232)",
           "linecolor": "rgb(36,36,36)",
           "showgrid": false,
           "showline": true,
           "ticks": "outside",
           "title": {
            "standoff": 15
           },
           "zeroline": false,
           "zerolinecolor": "rgb(36,36,36)"
          },
          "yaxis": {
           "automargin": true,
           "gridcolor": "rgb(232,232,232)",
           "linecolor": "rgb(36,36,36)",
           "showgrid": false,
           "showline": true,
           "ticks": "outside",
           "title": {
            "standoff": 15
           },
           "zeroline": false,
           "zerolinecolor": "rgb(36,36,36)"
          }
         }
        },
        "width": 600,
        "xaxis": {
         "mirror": true,
         "range": [
          0,
          4
         ],
         "showline": true
        },
        "yaxis": {
         "mirror": false,
         "range": [
          0.05,
          1.25
         ],
         "showline": true
        }
       }
      },
      "text/html": [
       "<div>                            <div id=\"86535b40-38b6-4d03-ab2c-a7970545fe04\" class=\"plotly-graph-div\" style=\"height:600px; width:600px;\"></div>            <script type=\"text/javascript\">                require([\"plotly\"], function(Plotly) {                    window.PLOTLYENV=window.PLOTLYENV || {};                                    if (document.getElementById(\"86535b40-38b6-4d03-ab2c-a7970545fe04\")) {                    Plotly.newPlot(                        \"86535b40-38b6-4d03-ab2c-a7970545fe04\",                        [{\"fill\": \"tozerox\", \"fillcolor\": \"rgba(245, 121, 58, 1)\", \"mode\": \"none\", \"type\": \"scatter\", \"x\": [2.0402811244979917, 2.0402811244979917, 2.0402811244979917, 2.0402811244979917, 1.9961445783132532, 1.9961445783132532, 1.9961445783132532, 1.9961445783132532, 1.9961445783132532, 1.9520080321285143, 1.9520080321285143, 1.9520080321285143, 1.9520080321285143, 1.9520080321285143, 1.9520080321285143, 1.9078714859437753, 1.9078714859437753, 1.9078714859437753, 1.9078714859437753, 1.9078714859437753, 1.9078714859437753, 1.8637349397590364, 1.8637349397590364, 1.8637349397590364, 1.8637349397590364, 1.8637349397590364, 1.8637349397590364, 1.8195983935742974, 1.8195983935742974, 1.8195983935742974, 1.8195983935742974, 1.8195983935742974, 1.8195983935742974, 1.7754618473895583, 1.7754618473895583, 1.7754618473895583, 1.7754618473895583, 1.7754618473895583, 1.7313253012048193, 1.7313253012048193, 1.7313253012048193, 1.7313253012048193, 1.7313253012048193, 1.7313253012048193, 1.6871887550200804, 1.6871887550200804, 1.6871887550200804, 1.6871887550200804, 1.6871887550200804, 1.6871887550200804, 1.6430522088353414, 1.6430522088353414, 1.6430522088353414, 1.6430522088353414, 1.6430522088353414, 1.5989156626506025, 1.5989156626506025, 1.5989156626506025, 1.5989156626506025, 1.5547791164658635, 1.551613825821115], \"y\": [0.007692307692307693, 0.01615771163509857, 0.02462311557788945, 0.03308851952068032, 0.0415539234634712, 0.050019327406262075, 0.05848473134905295, 0.06695013529184382, 0.0754155392346347, 0.08388094317742559, 0.09234634712021647, 0.10081175106300734, 0.10927715500579821, 0.11774255894858911, 0.12620796289137998, 0.13467336683417086, 0.14313877077696174, 0.1516041747197526, 0.16006957866254348, 0.16853498260533437, 0.17700038654812525, 0.1854657904909161, 0.193931194433707, 0.20239659837649787, 0.21086200231928873, 0.21932740626207964, 0.2277928102048705, 0.23625821414766138, 0.24472361809045223, 0.2531890220332431, 0.261654425976034, 0.2701198299188249, 0.27858523386161577, 0.28705063780440665, 0.2955160417471975, 0.3039814456899884, 0.3124468496327793, 0.32091225357557013, 0.329377657518361, 0.33784306146115184, 0.3463084654039428, 0.3547738693467336, 0.3632392732895245, 0.37170467723231543, 0.38017008117510626, 0.38863548511789714, 0.39710088906068797, 0.4055662930034789, 0.41403169694626973, 0.4224971008890606, 0.43096250483185156, 0.4394279087746424, 0.44789331271743327, 0.4563587166602241, 0.46482412060301503, 0.4732895245458059, 0.48175492848859675, 0.4902203324313877, 0.4986857363741785, 0.5240819482025512, 0.5571509468320811]}, {\"fill\": \"tonextx\", \"fillcolor\": \"rgba(15, 32, 128, 1)\", \"mode\": \"none\", \"type\": \"scatter\", \"x\": [11.0, 10.779317269076305, 10.073132530120482, 9.411084337349399, 8.704899598393574, 8.219397590361446, 7.733895582329318, 7.292530120481928, 6.851164658634539, 6.453935742971888, 6.144979919678715, 5.836024096385542, 5.571204819277108, 5.262248995983936, 4.997429718875503, 4.820883534136546, 4.600200803212852, 4.379518072289157, 4.202971887550201, 4.026425702811245, 3.8940160642570283, 3.7616064257028112, 3.5850602409638554, 3.4526506024096384, 3.320240963855422, 3.231967871485944, 3.143694779116466, 3.055421686746988, 2.923012048192771, 2.834738955823293, 2.7464658634538153, 2.702329317269076, 2.614056224899598, 2.5257831325301203, 2.4816465863453816, 2.3933734939759037, 2.3492369477911645, 2.305100401606426, 2.2609638554216867, 2.1726907630522088, 2.12855421686747, 2.084417670682731, 2.0402811244979917, 2.0402811244979917, 1.9961445783132532, 1.9520080321285143, 1.9078714859437753, 1.8637349397590364, 1.8195983935742974, 1.8195983935742974, 1.7754618473895583, 1.7313253012048193, 1.7313253012048193, 1.6871887550200804, 1.6871887550200804, 1.6430522088353414, 1.6430522088353414, 1.5989156626506025, 1.5989156626506025, 1.5547791164658635], \"y\": [0.007692307692307693, 0.01615771163509857, 0.02462311557788945, 0.03308851952068032, 0.0415539234634712, 0.050019327406262075, 0.05848473134905295, 0.06695013529184382, 0.0754155392346347, 0.08388094317742559, 0.09234634712021647, 0.10081175106300734, 0.10927715500579821, 0.11774255894858911, 0.12620796289137998, 0.13467336683417086, 0.14313877077696174, 0.1516041747197526, 0.16006957866254348, 0.16853498260533437, 0.17700038654812525, 0.1854657904909161, 0.193931194433707, 0.20239659837649787, 0.21086200231928873, 0.21932740626207964, 0.2277928102048705, 0.23625821414766138, 0.24472361809045223, 0.2531890220332431, 0.261654425976034, 0.2701198299188249, 0.27858523386161577, 0.28705063780440665, 0.2955160417471975, 0.3039814456899884, 0.3124468496327793, 0.32091225357557013, 0.329377657518361, 0.33784306146115184, 0.3463084654039428, 0.3547738693467336, 0.3632392732895245, 0.37170467723231543, 0.38017008117510626, 0.38863548511789714, 0.39710088906068797, 0.4055662930034789, 0.41403169694626973, 0.4224971008890606, 0.43096250483185156, 0.4394279087746424, 0.44789331271743327, 0.4563587166602241, 0.46482412060301503, 0.4732895245458059, 0.48175492848859675, 0.4902203324313877, 0.4986857363741785, 0.5240819482025512]}, {\"fill\": \"tozerox\", \"fillcolor\": \"rgba(245, 121, 58, 1)\", \"line\": {\"color\": \"rgba(78, 247, 75, 1)\", \"width\": 6}, \"mode\": \"lines\", \"type\": \"scatter\", \"x\": [0.01, 0.016743197326551877, 0.016743197326551877, 0.05413654618473896, 0.060879743511290836, 0.060879743511290836, 0.09827309236947791, 0.1050162896960298, 0.1424096385542169, 0.14915283588076877, 0.14915283588076877, 0.18654618473895584, 0.2306827309236948, 0.2374259282502467, 0.2748192771084338, 0.28156247443498567, 0.31895582329317274, 0.3256990206197246, 0.3630923694779117, 0.4072289156626506, 0.4139721129892025, 0.45136546184738957, 0.49550200803212857, 0.5022452053586804, 0.5396385542168676, 0.5463817515434195, 0.5837751004016065, 0.6279116465863455, 0.6346548439128974, 0.6720481927710844, 0.7161847389558234, 0.7229279362823753, 0.7603212851405623, 0.8044578313253012, 0.8112010286518532, 0.8485943775100402, 0.855337574836592, 0.8927309236947791, 0.8994741210213311, 0.9368674698795182, 0.94361066720607, 0.981004016064257, 0.987747213390809, 1.025140562248996, 1.031883759575548, 1.0692771084337351, 1.076020305760287, 1.076020305760287, 1.076020305760287, 1.113413654618474, 1.120156851945026, 1.120156851945026, 1.120156851945026, 1.157550200803213, 1.164293398129765, 1.164293398129765, 1.164293398129765, 1.164293398129765, 1.201686746987952, 1.2050583456512278, 1.208429944314504, 1.208429944314504, 1.208429944314504, 1.208429944314504, 1.208429944314504, 1.245823293172691, 1.2491948918359668, 1.2525664904992428, 1.2525664904992428, 1.2525664904992428, 1.2712631649283366, 1.2899598393574299, 1.293331438020706, 1.293331438020706, 1.2967030366839816, 1.3153997111130753, 1.3153997111130753, 1.3340963855421688, 1.3374679842054447, 1.3374679842054447, 1.3595362572978145, 1.3595362572978145, 1.3595362572978145, 1.3782329317269078, 1.3816045303901836, 1.3816045303901836, 1.3951928462306715, 1.4036728034825532, 1.4223694779116467, 1.4246172103538306, 1.4350894137894694, 1.4393293924154102, 1.4461235503356542, 1.4540415744769901, 1.4665060240963856, 1.476681972798644, 1.4823420723790572, 1.4896981634098472, 1.4943365912725395, 1.5106425702811246, 1.524216325951986, 1.5280366747662206, 1.533553743039313, 1.533553743039313], \"y\": [1.1010227637572414, 1.0997294163123308, 1.0912640123695398, 1.0840919558716597, 1.0827986084267491, 1.0743332044839582, 1.0671611479860779, 1.0658678005411673, 1.0586957440432871, 1.0574023965983765, 1.0489369926555856, 1.0417649361577053, 1.0417649361577053, 1.0404715887127947, 1.0332995322149143, 1.0320061847700037, 1.0248341282721236, 1.023540780827213, 1.0163687243293327, 1.0163687243293327, 1.015075376884422, 1.0079033203865417, 1.0072566466640864, 1.0066099729416311, 0.9994379164437509, 0.9981445689988403, 0.9945585407499002, 0.9909725125009599, 0.9896791650560492, 0.9825071085581691, 0.9825071085581691, 0.9812137611132585, 0.9740417046153783, 0.9733950308929229, 0.9727483571704678, 0.9655763006725875, 0.9642829532276769, 0.9571108967297964, 0.9558175492848858, 0.9486454927870055, 0.947352145342095, 0.9401800888442148, 0.9388867413993042, 0.9317146849014238, 0.9304213374565133, 0.923249280958633, 0.9219559335137224, 0.9134905295709317, 0.9050251256281405, 0.8978530691302602, 0.8965597216853497, 0.8880943177425589, 0.879628913799768, 0.8724568573018877, 0.8711635098569771, 0.8626981059141863, 0.8542327019713954, 0.8457672980286044, 0.8385952415307241, 0.8373018940858136, 0.8288364901430227, 0.8203710862002318, 0.811905682257441, 0.8034402783146501, 0.7949748743718593, 0.7878028178739789, 0.7865094704290683, 0.7780440664862774, 0.7695786625434866, 0.7611132586006957, 0.752647854657905, 0.7454757981600245, 0.744182450715114, 0.7357170467723232, 0.7272516428295321, 0.7187862388867414, 0.7103208349439505, 0.70314877844607, 0.7018554310011595, 0.6933900270583687, 0.6849246231155779, 0.6764592191727868, 0.667993815229996, 0.6608217587321157, 0.6595284112872052, 0.6510630073444144, 0.6425976034016234, 0.6341321994588327, 0.6269601429609524, 0.6256667955160418, 0.6172013915732509, 0.6087359876304599, 0.6002705836876691, 0.5918051797448782, 0.5882191514959381, 0.5833397758020873, 0.5748743718592965, 0.5664089679165055, 0.5579435639737147, 0.5540341988635469, 0.5494781600309238, 0.5410127560881329, 0.5325473521453421, 0.5240819482025512]}, {\"line\": {\"color\": \"rgba(78, 247, 75, 1)\", \"width\": 6}, \"mode\": \"lines\", \"type\": \"scatter\", \"x\": [2.0402811244979917, 2.0402811244979917, 2.0402811244979917, 2.0402811244979917, 1.9961445783132532, 1.9961445783132532, 1.9961445783132532, 1.9961445783132532, 1.9961445783132532, 1.9520080321285143, 1.9520080321285143, 1.9520080321285143, 1.9520080321285143, 1.9520080321285143, 1.9520080321285143, 1.9078714859437753, 1.9078714859437753, 1.9078714859437753, 1.9078714859437753, 1.9078714859437753, 1.9078714859437753, 1.8637349397590364, 1.8637349397590364, 1.8637349397590364, 1.8637349397590364, 1.8637349397590364, 1.8637349397590364, 1.8195983935742974, 1.8195983935742974, 1.8195983935742974, 1.8195983935742974, 1.8195983935742974, 1.8195983935742974, 1.7754618473895583, 1.7754618473895583, 1.7754618473895583, 1.7754618473895583, 1.7754618473895583, 1.7313253012048193, 1.7313253012048193, 1.7313253012048193, 1.7313253012048193, 1.7313253012048193, 1.7313253012048193, 1.6871887550200804, 1.6871887550200804, 1.6871887550200804, 1.6871887550200804, 1.6871887550200804, 1.6871887550200804, 1.6430522088353414, 1.6430522088353414, 1.6430522088353414, 1.6430522088353414, 1.6430522088353414, 1.5989156626506025, 1.5989156626506025, 1.5989156626506025, 1.5989156626506025, 1.5547791164658635, 1.551613825821115], \"y\": [0.007692307692307693, 0.01615771163509857, 0.02462311557788945, 0.03308851952068032, 0.0415539234634712, 0.050019327406262075, 0.05848473134905295, 0.06695013529184382, 0.0754155392346347, 0.08388094317742559, 0.09234634712021647, 0.10081175106300734, 0.10927715500579821, 0.11774255894858911, 0.12620796289137998, 0.13467336683417086, 0.14313877077696174, 0.1516041747197526, 0.16006957866254348, 0.16853498260533437, 0.17700038654812525, 0.1854657904909161, 0.193931194433707, 0.20239659837649787, 0.21086200231928873, 0.21932740626207964, 0.2277928102048705, 0.23625821414766138, 0.24472361809045223, 0.2531890220332431, 0.261654425976034, 0.2701198299188249, 0.27858523386161577, 0.28705063780440665, 0.2955160417471975, 0.3039814456899884, 0.3124468496327793, 0.32091225357557013, 0.329377657518361, 0.33784306146115184, 0.3463084654039428, 0.3547738693467336, 0.3632392732895245, 0.37170467723231543, 0.38017008117510626, 0.38863548511789714, 0.39710088906068797, 0.4055662930034789, 0.41403169694626973, 0.4224971008890606, 0.43096250483185156, 0.4394279087746424, 0.44789331271743327, 0.4563587166602241, 0.46482412060301503, 0.4732895245458059, 0.48175492848859675, 0.4902203324313877, 0.4986857363741785, 0.5240819482025512, 0.5579435639737147]}, {\"line\": {\"color\": \"rgba(78, 247, 75, 1)\", \"width\": 6}, \"mode\": \"lines\", \"type\": \"scatter\", \"x\": [11.0, 10.779317269076305, 10.073132530120482, 9.411084337349399, 8.704899598393574, 8.219397590361446, 7.733895582329318, 7.292530120481928, 6.851164658634539, 6.453935742971888, 6.144979919678715, 5.836024096385542, 5.571204819277108, 5.262248995983936, 4.997429718875503, 4.820883534136546, 4.600200803212852, 4.379518072289157, 4.202971887550201, 4.026425702811245, 3.8940160642570283, 3.7616064257028112, 3.5850602409638554, 3.4526506024096384, 3.320240963855422, 3.231967871485944, 3.143694779116466, 3.055421686746988, 2.923012048192771, 2.834738955823293, 2.7464658634538153, 2.702329317269076, 2.614056224899598, 2.5257831325301203, 2.4816465863453816, 2.3933734939759037, 2.3492369477911645, 2.305100401606426, 2.2609638554216867, 2.1726907630522088, 2.12855421686747, 2.084417670682731, 2.0402811244979917, 2.0402811244979917, 1.9961445783132532, 1.9520080321285143, 1.9078714859437753, 1.8637349397590364, 1.8195983935742974, 1.8195983935742974, 1.7754618473895583, 1.7313253012048193, 1.7313253012048193, 1.6871887550200804, 1.6871887550200804, 1.6430522088353414, 1.6430522088353414, 1.5989156626506025, 1.5989156626506025, 1.5547791164658635, 1.551613825821115], \"y\": [0.007692307692307693, 0.01615771163509857, 0.02462311557788945, 0.03308851952068032, 0.0415539234634712, 0.050019327406262075, 0.05848473134905295, 0.06695013529184382, 0.0754155392346347, 0.08388094317742559, 0.09234634712021647, 0.10081175106300734, 0.10927715500579821, 0.11774255894858911, 0.12620796289137998, 0.13467336683417086, 0.14313877077696174, 0.1516041747197526, 0.16006957866254348, 0.16853498260533437, 0.17700038654812525, 0.1854657904909161, 0.193931194433707, 0.20239659837649787, 0.21086200231928873, 0.21932740626207964, 0.2277928102048705, 0.23625821414766138, 0.24472361809045223, 0.2531890220332431, 0.261654425976034, 0.2701198299188249, 0.27858523386161577, 0.28705063780440665, 0.2955160417471975, 0.3039814456899884, 0.3124468496327793, 0.32091225357557013, 0.329377657518361, 0.33784306146115184, 0.3463084654039428, 0.3547738693467336, 0.3632392732895245, 0.37170467723231543, 0.38017008117510626, 0.38863548511789714, 0.39710088906068797, 0.4055662930034789, 0.41403169694626973, 0.4224971008890606, 0.43096250483185156, 0.4394279087746424, 0.44789331271743327, 0.4563587166602241, 0.46482412060301503, 0.4732895245458059, 0.48175492848859675, 0.4902203324313877, 0.4986857363741785, 0.5240819482025512, 0.5579435639737147]}],                        {\"font\": {\"size\": 18}, \"height\": 600, \"paper_bgcolor\": \"rgba(0,0,0,0)\", \"plot_bgcolor\": \"rgba(0,0,0,0)\", \"showlegend\": false, \"template\": {\"data\": {\"bar\": [{\"error_x\": {\"color\": \"rgb(36,36,36)\"}, \"error_y\": {\"color\": \"rgb(36,36,36)\"}, \"marker\": {\"line\": {\"color\": \"white\", \"width\": 0.5}}, \"type\": \"bar\"}], \"barpolar\": [{\"marker\": {\"line\": {\"color\": \"white\", \"width\": 0.5}}, \"type\": \"barpolar\"}], \"carpet\": [{\"aaxis\": {\"endlinecolor\": \"rgb(36,36,36)\", \"gridcolor\": \"white\", \"linecolor\": \"white\", \"minorgridcolor\": \"white\", \"startlinecolor\": \"rgb(36,36,36)\"}, \"baxis\": {\"endlinecolor\": \"rgb(36,36,36)\", \"gridcolor\": \"white\", \"linecolor\": \"white\", \"minorgridcolor\": \"white\", \"startlinecolor\": \"rgb(36,36,36)\"}, \"type\": \"carpet\"}], \"choropleth\": [{\"colorbar\": {\"outlinewidth\": 1, \"tickcolor\": \"rgb(36,36,36)\", \"ticks\": \"outside\"}, \"type\": \"choropleth\"}], \"contour\": [{\"colorbar\": {\"outlinewidth\": 1, \"tickcolor\": \"rgb(36,36,36)\", \"ticks\": \"outside\"}, \"colorscale\": [[0.0, \"#440154\"], [0.1111111111111111, \"#482878\"], [0.2222222222222222, \"#3e4989\"], [0.3333333333333333, \"#31688e\"], [0.4444444444444444, \"#26828e\"], [0.5555555555555556, \"#1f9e89\"], [0.6666666666666666, \"#35b779\"], [0.7777777777777778, \"#6ece58\"], [0.8888888888888888, \"#b5de2b\"], [1.0, \"#fde725\"]], \"type\": \"contour\"}], \"contourcarpet\": [{\"colorbar\": {\"outlinewidth\": 1, \"tickcolor\": \"rgb(36,36,36)\", \"ticks\": \"outside\"}, \"type\": \"contourcarpet\"}], \"heatmap\": [{\"colorbar\": {\"outlinewidth\": 1, \"tickcolor\": \"rgb(36,36,36)\", \"ticks\": \"outside\"}, \"colorscale\": [[0.0, \"#440154\"], [0.1111111111111111, \"#482878\"], [0.2222222222222222, \"#3e4989\"], [0.3333333333333333, \"#31688e\"], [0.4444444444444444, \"#26828e\"], [0.5555555555555556, \"#1f9e89\"], [0.6666666666666666, \"#35b779\"], [0.7777777777777778, \"#6ece58\"], [0.8888888888888888, \"#b5de2b\"], [1.0, \"#fde725\"]], \"type\": \"heatmap\"}], \"heatmapgl\": [{\"colorbar\": {\"outlinewidth\": 1, \"tickcolor\": \"rgb(36,36,36)\", \"ticks\": \"outside\"}, \"colorscale\": [[0.0, \"#440154\"], [0.1111111111111111, \"#482878\"], [0.2222222222222222, \"#3e4989\"], [0.3333333333333333, \"#31688e\"], [0.4444444444444444, \"#26828e\"], [0.5555555555555556, \"#1f9e89\"], [0.6666666666666666, \"#35b779\"], [0.7777777777777778, \"#6ece58\"], [0.8888888888888888, \"#b5de2b\"], [1.0, \"#fde725\"]], \"type\": \"heatmapgl\"}], \"histogram\": [{\"marker\": {\"line\": {\"color\": \"white\", \"width\": 0.6}}, \"type\": \"histogram\"}], \"histogram2d\": [{\"colorbar\": {\"outlinewidth\": 1, \"tickcolor\": \"rgb(36,36,36)\", \"ticks\": \"outside\"}, \"colorscale\": [[0.0, \"#440154\"], [0.1111111111111111, \"#482878\"], [0.2222222222222222, \"#3e4989\"], [0.3333333333333333, \"#31688e\"], [0.4444444444444444, \"#26828e\"], [0.5555555555555556, \"#1f9e89\"], [0.6666666666666666, \"#35b779\"], [0.7777777777777778, \"#6ece58\"], [0.8888888888888888, \"#b5de2b\"], [1.0, \"#fde725\"]], \"type\": \"histogram2d\"}], \"histogram2dcontour\": [{\"colorbar\": {\"outlinewidth\": 1, \"tickcolor\": \"rgb(36,36,36)\", \"ticks\": \"outside\"}, \"colorscale\": [[0.0, \"#440154\"], [0.1111111111111111, \"#482878\"], [0.2222222222222222, \"#3e4989\"], [0.3333333333333333, \"#31688e\"], [0.4444444444444444, \"#26828e\"], [0.5555555555555556, \"#1f9e89\"], [0.6666666666666666, \"#35b779\"], [0.7777777777777778, \"#6ece58\"], [0.8888888888888888, \"#b5de2b\"], [1.0, \"#fde725\"]], \"type\": \"histogram2dcontour\"}], \"mesh3d\": [{\"colorbar\": {\"outlinewidth\": 1, \"tickcolor\": \"rgb(36,36,36)\", \"ticks\": \"outside\"}, \"type\": \"mesh3d\"}], \"parcoords\": [{\"line\": {\"colorbar\": {\"outlinewidth\": 1, \"tickcolor\": \"rgb(36,36,36)\", \"ticks\": \"outside\"}}, \"type\": \"parcoords\"}], \"pie\": [{\"automargin\": true, \"type\": \"pie\"}], \"scatter\": [{\"marker\": {\"colorbar\": {\"outlinewidth\": 1, \"tickcolor\": \"rgb(36,36,36)\", \"ticks\": \"outside\"}}, \"type\": \"scatter\"}], \"scatter3d\": [{\"line\": {\"colorbar\": {\"outlinewidth\": 1, \"tickcolor\": \"rgb(36,36,36)\", \"ticks\": \"outside\"}}, \"marker\": {\"colorbar\": {\"outlinewidth\": 1, \"tickcolor\": \"rgb(36,36,36)\", \"ticks\": \"outside\"}}, \"type\": \"scatter3d\"}], \"scattercarpet\": [{\"marker\": {\"colorbar\": {\"outlinewidth\": 1, \"tickcolor\": \"rgb(36,36,36)\", \"ticks\": \"outside\"}}, \"type\": \"scattercarpet\"}], \"scattergeo\": [{\"marker\": {\"colorbar\": {\"outlinewidth\": 1, \"tickcolor\": \"rgb(36,36,36)\", \"ticks\": \"outside\"}}, \"type\": \"scattergeo\"}], \"scattergl\": [{\"marker\": {\"colorbar\": {\"outlinewidth\": 1, \"tickcolor\": \"rgb(36,36,36)\", \"ticks\": \"outside\"}}, \"type\": \"scattergl\"}], \"scattermapbox\": [{\"marker\": {\"colorbar\": {\"outlinewidth\": 1, \"tickcolor\": \"rgb(36,36,36)\", \"ticks\": \"outside\"}}, \"type\": \"scattermapbox\"}], \"scatterpolar\": [{\"marker\": {\"colorbar\": {\"outlinewidth\": 1, \"tickcolor\": \"rgb(36,36,36)\", \"ticks\": \"outside\"}}, \"type\": \"scatterpolar\"}], \"scatterpolargl\": [{\"marker\": {\"colorbar\": {\"outlinewidth\": 1, \"tickcolor\": \"rgb(36,36,36)\", \"ticks\": \"outside\"}}, \"type\": \"scatterpolargl\"}], \"scatterternary\": [{\"marker\": {\"colorbar\": {\"outlinewidth\": 1, \"tickcolor\": \"rgb(36,36,36)\", \"ticks\": \"outside\"}}, \"type\": \"scatterternary\"}], \"surface\": [{\"colorbar\": {\"outlinewidth\": 1, \"tickcolor\": \"rgb(36,36,36)\", \"ticks\": \"outside\"}, \"colorscale\": [[0.0, \"#440154\"], [0.1111111111111111, \"#482878\"], [0.2222222222222222, \"#3e4989\"], [0.3333333333333333, \"#31688e\"], [0.4444444444444444, \"#26828e\"], [0.5555555555555556, \"#1f9e89\"], [0.6666666666666666, \"#35b779\"], [0.7777777777777778, \"#6ece58\"], [0.8888888888888888, \"#b5de2b\"], [1.0, \"#fde725\"]], \"type\": \"surface\"}], \"table\": [{\"cells\": {\"fill\": {\"color\": \"rgb(237,237,237)\"}, \"line\": {\"color\": \"white\"}}, \"header\": {\"fill\": {\"color\": \"rgb(217,217,217)\"}, \"line\": {\"color\": \"white\"}}, \"type\": \"table\"}]}, \"layout\": {\"annotationdefaults\": {\"arrowhead\": 0, \"arrowwidth\": 1}, \"coloraxis\": {\"colorbar\": {\"outlinewidth\": 1, \"tickcolor\": \"rgb(36,36,36)\", \"ticks\": \"outside\"}}, \"colorscale\": {\"diverging\": [[0.0, \"rgb(103,0,31)\"], [0.1, \"rgb(178,24,43)\"], [0.2, \"rgb(214,96,77)\"], [0.3, \"rgb(244,165,130)\"], [0.4, \"rgb(253,219,199)\"], [0.5, \"rgb(247,247,247)\"], [0.6, \"rgb(209,229,240)\"], [0.7, \"rgb(146,197,222)\"], [0.8, \"rgb(67,147,195)\"], [0.9, \"rgb(33,102,172)\"], [1.0, \"rgb(5,48,97)\"]], \"sequential\": [[0.0, \"#440154\"], [0.1111111111111111, \"#482878\"], [0.2222222222222222, \"#3e4989\"], [0.3333333333333333, \"#31688e\"], [0.4444444444444444, \"#26828e\"], [0.5555555555555556, \"#1f9e89\"], [0.6666666666666666, \"#35b779\"], [0.7777777777777778, \"#6ece58\"], [0.8888888888888888, \"#b5de2b\"], [1.0, \"#fde725\"]], \"sequentialminus\": [[0.0, \"#440154\"], [0.1111111111111111, \"#482878\"], [0.2222222222222222, \"#3e4989\"], [0.3333333333333333, \"#31688e\"], [0.4444444444444444, \"#26828e\"], [0.5555555555555556, \"#1f9e89\"], [0.6666666666666666, \"#35b779\"], [0.7777777777777778, \"#6ece58\"], [0.8888888888888888, \"#b5de2b\"], [1.0, \"#fde725\"]]}, \"colorway\": [\"#1F77B4\", \"#FF7F0E\", \"#2CA02C\", \"#D62728\", \"#9467BD\", \"#8C564B\", \"#E377C2\", \"#7F7F7F\", \"#BCBD22\", \"#17BECF\"], \"font\": {\"color\": \"rgb(36,36,36)\"}, \"geo\": {\"bgcolor\": \"white\", \"lakecolor\": \"white\", \"landcolor\": \"white\", \"showlakes\": true, \"showland\": true, \"subunitcolor\": \"white\"}, \"hoverlabel\": {\"align\": \"left\"}, \"hovermode\": \"closest\", \"mapbox\": {\"style\": \"light\"}, \"paper_bgcolor\": \"white\", \"plot_bgcolor\": \"white\", \"polar\": {\"angularaxis\": {\"gridcolor\": \"rgb(232,232,232)\", \"linecolor\": \"rgb(36,36,36)\", \"showgrid\": false, \"showline\": true, \"ticks\": \"outside\"}, \"bgcolor\": \"white\", \"radialaxis\": {\"gridcolor\": \"rgb(232,232,232)\", \"linecolor\": \"rgb(36,36,36)\", \"showgrid\": false, \"showline\": true, \"ticks\": \"outside\"}}, \"scene\": {\"xaxis\": {\"backgroundcolor\": \"white\", \"gridcolor\": \"rgb(232,232,232)\", \"gridwidth\": 2, \"linecolor\": \"rgb(36,36,36)\", \"showbackground\": true, \"showgrid\": false, \"showline\": true, \"ticks\": \"outside\", \"zeroline\": false, \"zerolinecolor\": \"rgb(36,36,36)\"}, \"yaxis\": {\"backgroundcolor\": \"white\", \"gridcolor\": \"rgb(232,232,232)\", \"gridwidth\": 2, \"linecolor\": \"rgb(36,36,36)\", \"showbackground\": true, \"showgrid\": false, \"showline\": true, \"ticks\": \"outside\", \"zeroline\": false, \"zerolinecolor\": \"rgb(36,36,36)\"}, \"zaxis\": {\"backgroundcolor\": \"white\", \"gridcolor\": \"rgb(232,232,232)\", \"gridwidth\": 2, \"linecolor\": \"rgb(36,36,36)\", \"showbackground\": true, \"showgrid\": false, \"showline\": true, \"ticks\": \"outside\", \"zeroline\": false, \"zerolinecolor\": \"rgb(36,36,36)\"}}, \"shapedefaults\": {\"fillcolor\": \"black\", \"line\": {\"width\": 0}, \"opacity\": 0.3}, \"ternary\": {\"aaxis\": {\"gridcolor\": \"rgb(232,232,232)\", \"linecolor\": \"rgb(36,36,36)\", \"showgrid\": false, \"showline\": true, \"ticks\": \"outside\"}, \"baxis\": {\"gridcolor\": \"rgb(232,232,232)\", \"linecolor\": \"rgb(36,36,36)\", \"showgrid\": false, \"showline\": true, \"ticks\": \"outside\"}, \"bgcolor\": \"white\", \"caxis\": {\"gridcolor\": \"rgb(232,232,232)\", \"linecolor\": \"rgb(36,36,36)\", \"showgrid\": false, \"showline\": true, \"ticks\": \"outside\"}}, \"title\": {\"x\": 0.05}, \"xaxis\": {\"automargin\": true, \"gridcolor\": \"rgb(232,232,232)\", \"linecolor\": \"rgb(36,36,36)\", \"showgrid\": false, \"showline\": true, \"ticks\": \"outside\", \"title\": {\"standoff\": 15}, \"zeroline\": false, \"zerolinecolor\": \"rgb(36,36,36)\"}, \"yaxis\": {\"automargin\": true, \"gridcolor\": \"rgb(232,232,232)\", \"linecolor\": \"rgb(36,36,36)\", \"showgrid\": false, \"showline\": true, \"ticks\": \"outside\", \"title\": {\"standoff\": 15}, \"zeroline\": false, \"zerolinecolor\": \"rgb(36,36,36)\"}}}, \"width\": 600, \"xaxis\": {\"mirror\": true, \"range\": [0.0, 4.0], \"showline\": true}, \"yaxis\": {\"mirror\": false, \"range\": [0.05, 1.25], \"showline\": true}},                        {\"responsive\": true}                    ).then(function(){\n",
       "                            \n",
       "var gd = document.getElementById('86535b40-38b6-4d03-ab2c-a7970545fe04');\n",
       "var x = new MutationObserver(function (mutations, observer) {{\n",
       "        var display = window.getComputedStyle(gd).display;\n",
       "        if (!display || display === 'none') {{\n",
       "            console.log([gd, 'removed!']);\n",
       "            Plotly.purge(gd);\n",
       "            observer.disconnect();\n",
       "        }}\n",
       "}});\n",
       "\n",
       "// Listen for the removal of the full notebook cells\n",
       "var notebookContainer = gd.closest('#notebook-container');\n",
       "if (notebookContainer) {{\n",
       "    x.observe(notebookContainer, {childList: true});\n",
       "}}\n",
       "\n",
       "// Listen for the clearing of the current output cell\n",
       "var outputEl = gd.closest('.output');\n",
       "if (outputEl) {{\n",
       "    x.observe(outputEl, {childList: true});\n",
       "}}\n",
       "\n",
       "                        })                };                });            </script>        </div>"
      ]
     },
     "metadata": {},
     "output_type": "display_data"
    }
   ],
   "source": [
    "# params = {}\n",
    "# params = set_params()\n",
    "\n",
    "x_space = np.linspace(0, 8., res)\n",
    "a_space = np.linspace(0.01, 5., res)\n",
    "params['x_c'] = x_crit(params['n'])\n",
    "m_space = np.linspace(0.05, 11., res)\n",
    "params['m_space'] = m_space\n",
    "params['res'] = 250\n",
    "\n",
    "U_data, U_mins, x_arr_max, gmin_overm, b1_overm, b2_overm, inf_overm, capture2minima, capture_mvals, capmax, barrier_heights = collect_minima(U, m_space, x_space, a_space, params)\n",
    "mtst2, x_cvals, newlowlines, newhighlines = calc_PD_rates(params)"
   ]
  },
  {
   "cell_type": "code",
   "execution_count": 74,
   "metadata": {
    "scrolled": false
   },
   "outputs": [
    {
     "data": {
      "image/png": "[encoded data removed]",
      "text/plain": [
       "<Figure size 432x576 with 2 Axes>"
      ]
     },
     "metadata": {},
     "output_type": "display_data"
    },
    {
     "data": {
      "image/png": "[encoded data removed]",
      "text/plain": [
       "<Figure size 576x576 with 1 Axes>"
      ]
     },
     "metadata": {},
     "output_type": "display_data"
    },
    {
     "name": "stdout",
     "output_type": "stream",
     "text": [
      "/mnt/b/research/mechanical-memory/cell-mech-memory/../figures_v3/figure4/x_global_min_overlay_phasediagram_values_v1.png\n"
     ]
    }
   ],
   "source": [
    "#### figure 4 heat map of equilibrium value of x\n",
    "\n",
    "\n",
    "\n",
    "\n",
    "# res = 200\n",
    "\n",
    "\n",
    "# # ac_ind = np.where(np.abs(a_space - a_c) == np.amin(np.abs(a_space-a_c)))[0]\n",
    "\n",
    "# a_c = alpha_crit(m_space, params)\n",
    "# m_c = scipy.optimize.fsolve(m_crit_general, 1.5, args=(params), xtol=1e-10)[0] / params['m0']\n",
    "# params['a_c'] = a_c.tolist(); params['m_c'] = m_c\n",
    "\n",
    "# # x_space = np.linspace(0, 5., res)\n",
    "# # m_space = np.linspace(0.05,params['m_c']*3,res) * params['m0']\n",
    "# # a_space = np.linspace(0.01, params['a_c']*3, res)\n",
    "# # print(np.amax(m_space))\n",
    "# a_ind = np.where(np.abs(a_space - a_c) == np.amin(np.abs(a_space - a_c)))[0]\n",
    "\n",
    "# U_data = np.zeros((len(x_space), len(a_space), len(m_space)))\n",
    "# for mi, mm in enumerate(m_space):\n",
    "#     for ai, aa in enumerate(a_space):\n",
    "#         for xi, xx in enumerate(x_space):\n",
    "#             U_data[xi, ai, mi] = U(f_m, mm, xx, aa, params)\n",
    "\n",
    "# x_arr_max = np.zeros((res,res))\n",
    "# x_arr_min = np.zeros((res,res))\n",
    "# m0coords = []; m1coords = []; m2coords = []\n",
    "# for mi, mm in enumerate(m_space):\n",
    "#     for ai, aa in enumerate(a_space):\n",
    "#         xargs = find_peaks(-np.abs(np.diff(U_data[:,ai,mi])))[0]\n",
    "#         Utest = U_data[xargs,ai,mi]        \n",
    "#         xmins = x_space[xargs]\n",
    "        \n",
    "#         if len(xmins) > 0:\n",
    "#             x_arr_max[mi, ai] = xmins[np.argmin(Utest)]\n",
    "#             x_arr_min[mi, ai] = np.amin(xmins) # xmins[np.argmin(Utest)]\n",
    "#         else:\n",
    "#             try:\n",
    "#                 x_arr_max[mi, ai] = np.amax(xmins)\n",
    "# #                 x_arr_min[mi, ai] = np.amin(xmins)\n",
    "#             except:\n",
    "#                 x_arr_max[mi, ai] = 0.\n",
    "# #                 x_arr_min[mi, ai] = 0.\n",
    "\n",
    "fig, ax = plt.subplots(1,1, figsize=(6,8))\n",
    "\n",
    "## absolute m\n",
    "# cf = ax.contourf(a_space, m_space, x_arr, levels=100, cmap=cm.Purples_r)\n",
    "# ylims = ax.get_ylim()\n",
    "# ax.plot([params['a_c'], params['a_c']],[np.amin(m_space), params['m_c']*params['m0']*2], mcolors['green'], linewidth=3.5, linestyle='-.', label='\\u03b1$_{c}$')\n",
    "# ax.plot([np.amin(a_space), np.amax(a_space)], [params['m_c']*params['m0'], params['m_c']*params['m0']], mcolors['deeppink'], linewidth=3.5, linestyle='-.', lab\n",
    "\n",
    "## m over m0\n",
    "cf = ax.contourf(a_space, m_space / params['m0'], x_arr_max, levels=100, cmap=cm.Purples_r)\n",
    "ylims = ax.get_ylim()\n",
    "# ax.plot(params['a_c'], m_space, mcolors['green'], linewidth=3.5, linestyle='-.', label='\\u03b1$_{c}$')\n",
    "# ax.plot([np.amin(a_space), np.amax(a_space)], [params['m_c'], params['m_c']], mcolors['deeppink'], linewidth=3.5, linestyle='-.', label='m$_{c}$')\n",
    "\n",
    "ax.set_ylim(ylims)\n",
    "ax.set_xlim([0.,4.])\n",
    "\n",
    "# cb = plt.colorbar(cf, ax=ax, format='%.2f', orientation='horizontal')\n",
    "cb = plt.colorbar(cf, ax=ax, ticks=[0., 0.,0.5,1.,1.5,2.,2.5,3.], orientation='horizontal')\n",
    "# tick_locator = ticker.MaxNLocator(nbins=6)\n",
    "# cb.locator = tick_locator\n",
    "# cb.update_ticks()\n",
    "\n",
    "ax.plot(newlowlines[:,0], newlowlines[:,1], color=mcolors['lime'], linewidth=2)\n",
    "ax.plot(newhighlines[:,0], newhighlines[:,1], color=mcolors['lime'], linewidth=2)\n",
    "# ax.plot(x_cvals[:,0], x_cvals[:,1], color=mcolors['lime'])\n",
    "\n",
    "\n",
    "\n",
    "randcurves = np.floor(np.linspace(0, np.amax(a_space), 4))\n",
    "randcurves = np.array([20,50,75,99])\n",
    "fig3, ax3 = plt.subplots(1,1, figsize=(8,8))\n",
    "\n",
    "colors = ['b','g','r','c','y','k']\n",
    "\n",
    "for di, dd in enumerate(randcurves):\n",
    "    \n",
    "    ax3.scatter(m_space / params['m0'], x_arr_max[:,int(dd)], color=colors[di])\n",
    "ax3.scatter(m_space / params['m0'], x_arr_max[:,a_ind], color=colors[di+1])\n",
    "\n",
    "for di, dd in enumerate(randcurves):\n",
    "    \n",
    "    ax3.scatter(m_space / params['m0'], x_arr_min[:,int(dd)], color=colors[di])\n",
    "ax3.scatter(m_space / params['m0'], x_arr_min[:,a_ind], color=colors[di+1])\n",
    "\n",
    "\n",
    "plt.show()\n",
    "\n",
    "\n",
    "# fig2, ax2 = plt.subplots(1,1, figsize=(6,6))\n",
    "# baseline = f_m(m_space, params)\n",
    "# cf2 = ax2.contourf(a_space, m_space, x_arr_max - baseline[:,np.newaxis], levels=100, cmap=cm.Purples_r)\n",
    "# plt.colorbar(cf, ax=ax2)\n",
    "base_params = set_params()\n",
    "saveall = True\n",
    "if saveall:\n",
    "    direc = os.getcwd() + '/../figures_v3/figure4/'\n",
    "\n",
    "    fname1 = direc + \"x_global_min_overlay_phasediagram_values_v1.png\"\n",
    "    print(fname1)\n",
    "    fig.tight_layout()\n",
    "    fig.savefig(fname1, format='png', dpi=600, transparent=True)\n",
    "    \n",
    "    with open(fname1 + '.json', 'w') as f:\n",
    "        f.write(json.dumps(base_params))\n"
   ]
  },
  {
   "cell_type": "code",
   "execution_count": 75,
   "metadata": {},
   "outputs": [
    {
     "name": "stdout",
     "output_type": "stream",
     "text": [
      "{'tau_F': 12.0, 'tau_SG': 300.0, 'tau_SR': 300.0, 'kc': 1.5, 'km': 'stiff', 'm0': 6.5, 'x0': 1.9, 'a0': 1.0, 'xtt': 0.0, 'g': 35, 'n': 6.0, 'a_max': 10, 'resolution': 1.0, 'color': None, 'input_m': [], 'tau_R0': 150, 'TV0SR': 1.9, 'TV0SG': 1.9, 'dynamics': 'updated_exp', 'eps': (0.0, 1.0, 0.1), 'res': 150}\n",
      "[]\n",
      "--------------------------------------------------------"
     ]
    }
   ],
   "source": [
    "# %%capture\n",
    "import multiprocessing as mp\n",
    "import timeit\n",
    "def run_sim(ins, params, trials):\n",
    "    \n",
    "    memout = []\n",
    "#     params = deepcopy(params)\n",
    "    for pi in np.arange(len(trials)):\n",
    "\n",
    "        resultsDF = pd.DataFrame(columns=['m_profile','t_space','x_prof','alpha_prof','active_region','deltaV'])\n",
    "        resultsDF, params, priming_times, memory_times, stiffP, stiffA = run_profile(integrate_profile, ins, params, resultsDF)\n",
    "        memout.append(memory_times)\n",
    "        \n",
    "    return memout\n",
    "\n",
    "def set_params(file=None):\n",
    "    params = {}\n",
    "    if file:\n",
    "        with open(file, 'r') as f:\n",
    "            params = json.load(f)\n",
    "    else:\n",
    "        params['tau_F'] = 12. \n",
    "        params['tau_SG'] = 300.\n",
    "        params['tau_SR'] = params['tau_SG']\n",
    "        \n",
    "        params['kc'] = 1.5 # '-stiff' # 0.98 # 'linear' # 0.5 #'soft' 1.\n",
    "        params['km'] = 'stiff'      \n",
    "        params['m0'] = 6.5\n",
    "        params['x0'] = 1.9; params['a0'] = 1.; params['xtt'] = 0.\n",
    "        params['g'] = 35\n",
    "        params['n'] = 6.\n",
    "        \n",
    "        params['a_max'] = 10\n",
    "        params['resolution'] = 1.\n",
    "        params['color'] = None\n",
    "        params['input_m'] = []\n",
    "        \n",
    "        params['tau_R0'] = 150\n",
    "#         params['TV0SR'] = 1.\n",
    "#         params['TV0SG'] = 8.\n",
    "        params['TV0SR'] = params['x0']; params['TV0SG'] = params['x0']\n",
    "        \n",
    "        params['dynamics'] = 'updated_exp' # 'exp_dynamicTS'\n",
    "        params['eps'] = (0., 1., 0.1) # mean, std, magnitude\n",
    "        \n",
    "        params['res'] = 150\n",
    "    \n",
    "    return params\n",
    "\n",
    "ptime = 240\n",
    "\n",
    "ins = np.array(\n",
    "    [\n",
    "        [24, 2.],\n",
    "        [ptime, 10.], #320\n",
    "        [480, 2.],\n",
    "    ]\n",
    "        )\n",
    "\n",
    "params = {}\n",
    "params = set_params()\n",
    "print(params)\n",
    "# params['input_m'].append(ins.tolist())\n",
    "start = timeit.default_timer()\n",
    "\n",
    "numtrials = np.arange(128)\n",
    "\n",
    "memappend = [];\n",
    "\n",
    "# for ni, nn in enumerate(numtrials):\n",
    "#     params = set_params()\n",
    "#     out = run_sim(ins, params)\n",
    "#     print(out)\n",
    "#     memappend.append(out)\n",
    "\n",
    "print(memappend)\n",
    "n_proc = mp.cpu_count() # // 2\n",
    "chunksize = len(numtrials) // n_proc\n",
    "proc_chunks = []\n",
    "for i_proc in range(n_proc):\n",
    "    chunkstart = i_proc * chunksize\n",
    "    # make sure to include the division remainder for the last process\n",
    "    chunkend = (i_proc + 1) * chunksize if i_proc < n_proc - 1 else None\n",
    "\n",
    "    proc_chunks.append(numtrials[chunkstart:chunkend])\n",
    "\n",
    "# assert sum(map(len, proc_chunks)) == len(outputDF)\n",
    "# print(proc_chunks)\n",
    "with mp.Pool(processes=n_proc) as pool:\n",
    "\n",
    "    proc_results = [pool.apply_async(run_sim, args=(ins, params, chunk,)) for chunk in proc_chunks]\n",
    "\n",
    "    # blocks until all results are fetched\n",
    "    result_chunks = [r.get() for r in proc_results]\n",
    "\n",
    "results = [item for sublist in result_chunks for item in sublist]\n",
    "results = np.array([i[0] for i in results])\n",
    "\n",
    "# print(results)\n",
    "\n",
    "np.save('./noise_results_mswitch/'+str(ptime)+'.N'+str(np.amax(numtrials))+'.npy', results)\n",
    "with open('./noise_results_mswitch/'+str(ptime)+'.N'+str(np.amax(numtrials))+'.json', 'w') as f:\n",
    "    f.write(json.dumps(params))\n",
    "\n",
    "end = timeit.default_timer()\n",
    "# print((end - start)/3600, end = ' '); print(' hours')"
   ]
  }
 ],
 "metadata": {
  "kernelspec": {
   "display_name": "Python 3",
   "language": "python",
   "name": "python3"
  },
  "language_info": {
   "codemirror_mode": {
    "name": "ipython",
    "version": 3
   },
   "file_extension": ".py",
   "mimetype": "text/x-python",
   "name": "python",
   "nbconvert_exporter": "python",
   "pygments_lexer": "ipython3",
   "version": "3.8.5"
  }
 },
 "nbformat": 4,
 "nbformat_minor": 4
}
